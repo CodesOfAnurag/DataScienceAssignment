{
 "cells": [
  {
   "cell_type": "code",
   "execution_count": null,
   "metadata": {
    "id": "76qvsAtISKm8"
   },
   "outputs": [],
   "source": [
    "!pip install numpy pandas matplotlib seaborn scipy statsmodels gmaps geemap"
   ]
  },
  {
   "cell_type": "code",
   "execution_count": null,
   "metadata": {
    "id": "h1vI6dNOMTA6"
   },
   "outputs": [],
   "source": [
    "import pandas as pd\n",
    "from pandas import DataFrame, Series\n",
    "import numpy as np\n",
    "import seaborn as sns\n",
    "import matplotlib.pyplot as plt\n",
    "from scipy.stats import normaltest\n",
    "from statsmodels.graphics.gofplots import qqplot\n",
    "from ipyleaflet import Map, Marker, MarkerCluster, AwesomeIcon\n",
    "import datetime"
   ]
  },
  {
   "cell_type": "code",
   "execution_count": 3,
   "metadata": {
    "id": "3J5t6ab7Mph1"
   },
   "outputs": [],
   "source": [
    "df = pd.read_csv('drive/My Drive/mta_1706.csv', error_bad_lines=False, low_memory=False, warn_bad_lines=False)"
   ]
  },
  {
   "cell_type": "code",
   "execution_count": 4,
   "metadata": {
    "colab": {
     "base_uri": "https://localhost:8080/",
     "height": 829
    },
    "id": "Od0AhnR-NDQR",
    "outputId": "11df6e3d-eea4-4292-b85d-d315948a2553"
   },
   "outputs": [
    {
     "data": {
      "text/html": [
       "<div>\n",
       "<style scoped>\n",
       "    .dataframe tbody tr th:only-of-type {\n",
       "        vertical-align: middle;\n",
       "    }\n",
       "\n",
       "    .dataframe tbody tr th {\n",
       "        vertical-align: top;\n",
       "    }\n",
       "\n",
       "    .dataframe thead th {\n",
       "        text-align: right;\n",
       "    }\n",
       "</style>\n",
       "<table border=\"1\" class=\"dataframe\">\n",
       "  <thead>\n",
       "    <tr style=\"text-align: right;\">\n",
       "      <th></th>\n",
       "      <th>RecordedAtTime</th>\n",
       "      <th>DirectionRef</th>\n",
       "      <th>PublishedLineName</th>\n",
       "      <th>OriginName</th>\n",
       "      <th>OriginLat</th>\n",
       "      <th>OriginLong</th>\n",
       "      <th>DestinationName</th>\n",
       "      <th>DestinationLat</th>\n",
       "      <th>DestinationLong</th>\n",
       "      <th>VehicleRef</th>\n",
       "      <th>VehicleLocation.Latitude</th>\n",
       "      <th>VehicleLocation.Longitude</th>\n",
       "      <th>NextStopPointName</th>\n",
       "      <th>ArrivalProximityText</th>\n",
       "      <th>DistanceFromStop</th>\n",
       "      <th>ExpectedArrivalTime</th>\n",
       "      <th>ScheduledArrivalTime</th>\n",
       "    </tr>\n",
       "  </thead>\n",
       "  <tbody>\n",
       "    <tr>\n",
       "      <th>0</th>\n",
       "      <td>2017-06-01 00:03:34</td>\n",
       "      <td>0</td>\n",
       "      <td>B8</td>\n",
       "      <td>4 AV/95 ST</td>\n",
       "      <td>40.616104</td>\n",
       "      <td>-74.031143</td>\n",
       "      <td>BROWNSVILLE ROCKAWAY AV</td>\n",
       "      <td>40.656048</td>\n",
       "      <td>-73.907379</td>\n",
       "      <td>NYCT_430</td>\n",
       "      <td>40.635170</td>\n",
       "      <td>-73.960803</td>\n",
       "      <td>FOSTER AV/E 18 ST</td>\n",
       "      <td>approaching</td>\n",
       "      <td>76.0</td>\n",
       "      <td>2017-06-01 00:03:59</td>\n",
       "      <td>24:06:14</td>\n",
       "    </tr>\n",
       "    <tr>\n",
       "      <th>1</th>\n",
       "      <td>2017-06-01 00:03:43</td>\n",
       "      <td>1</td>\n",
       "      <td>S61</td>\n",
       "      <td>ST GEORGE FERRY/S61 &amp; S91</td>\n",
       "      <td>40.643169</td>\n",
       "      <td>-74.073494</td>\n",
       "      <td>S I MALL YUKON AV</td>\n",
       "      <td>40.575935</td>\n",
       "      <td>-74.167686</td>\n",
       "      <td>NYCT_8263</td>\n",
       "      <td>40.590802</td>\n",
       "      <td>-74.158340</td>\n",
       "      <td>MERRYMOUNT ST/TRAVIS AV</td>\n",
       "      <td>approaching</td>\n",
       "      <td>62.0</td>\n",
       "      <td>2017-06-01 00:03:56</td>\n",
       "      <td>23:58:02</td>\n",
       "    </tr>\n",
       "    <tr>\n",
       "      <th>2</th>\n",
       "      <td>2017-06-01 00:03:49</td>\n",
       "      <td>0</td>\n",
       "      <td>Bx10</td>\n",
       "      <td>E 206 ST/BAINBRIDGE AV</td>\n",
       "      <td>40.875008</td>\n",
       "      <td>-73.880142</td>\n",
       "      <td>RIVERDALE 263 ST</td>\n",
       "      <td>40.912376</td>\n",
       "      <td>-73.902534</td>\n",
       "      <td>NYCT_4223</td>\n",
       "      <td>40.886010</td>\n",
       "      <td>-73.912647</td>\n",
       "      <td>HENRY HUDSON PKY E/W 235 ST</td>\n",
       "      <td>at stop</td>\n",
       "      <td>5.0</td>\n",
       "      <td>2017-06-01 00:03:56</td>\n",
       "      <td>24:00:53</td>\n",
       "    </tr>\n",
       "    <tr>\n",
       "      <th>3</th>\n",
       "      <td>2017-06-01 00:03:31</td>\n",
       "      <td>0</td>\n",
       "      <td>Q5</td>\n",
       "      <td>TEARDROP/LAYOVER</td>\n",
       "      <td>40.701748</td>\n",
       "      <td>-73.802399</td>\n",
       "      <td>ROSEDALE LIRR STA via MERRICK</td>\n",
       "      <td>40.666012</td>\n",
       "      <td>-73.735939</td>\n",
       "      <td>NYCT_8422</td>\n",
       "      <td>40.668002</td>\n",
       "      <td>-73.729348</td>\n",
       "      <td>HOOK CREEK BL/SUNRISE HY</td>\n",
       "      <td>&lt; 1 stop away</td>\n",
       "      <td>267.0</td>\n",
       "      <td>2017-06-01 00:04:03</td>\n",
       "      <td>24:03:00</td>\n",
       "    </tr>\n",
       "    <tr>\n",
       "      <th>4</th>\n",
       "      <td>2017-06-01 00:03:22</td>\n",
       "      <td>1</td>\n",
       "      <td>Bx1</td>\n",
       "      <td>RIVERDALE AV/W 231 ST</td>\n",
       "      <td>40.881187</td>\n",
       "      <td>-73.909340</td>\n",
       "      <td>MOTT HAVEN 136 ST via CONCOURSE</td>\n",
       "      <td>40.809654</td>\n",
       "      <td>-73.928360</td>\n",
       "      <td>NYCT_4710</td>\n",
       "      <td>40.868134</td>\n",
       "      <td>-73.893032</td>\n",
       "      <td>GRAND CONCOURSE/E 196 ST</td>\n",
       "      <td>at stop</td>\n",
       "      <td>11.0</td>\n",
       "      <td>2017-06-01 00:03:56</td>\n",
       "      <td>23:59:38</td>\n",
       "    </tr>\n",
       "    <tr>\n",
       "      <th>5</th>\n",
       "      <td>2017-06-01 00:03:40</td>\n",
       "      <td>0</td>\n",
       "      <td>M1</td>\n",
       "      <td>4 AV/E 10 ST</td>\n",
       "      <td>40.731342</td>\n",
       "      <td>-73.990288</td>\n",
       "      <td>HARLEM 147 ST via MADISON</td>\n",
       "      <td>40.821110</td>\n",
       "      <td>-73.935898</td>\n",
       "      <td>NYCT_3831</td>\n",
       "      <td>40.792897</td>\n",
       "      <td>-73.950023</td>\n",
       "      <td>MADISON AV/E 106 ST</td>\n",
       "      <td>approaching</td>\n",
       "      <td>73.0</td>\n",
       "      <td>2017-06-01 00:03:56</td>\n",
       "      <td>24:02:35</td>\n",
       "    </tr>\n",
       "    <tr>\n",
       "      <th>6</th>\n",
       "      <td>2017-06-01 00:03:24</td>\n",
       "      <td>0</td>\n",
       "      <td>B31</td>\n",
       "      <td>GERRITSEN AV/GERRITSEN BEACH</td>\n",
       "      <td>40.587101</td>\n",
       "      <td>-73.918503</td>\n",
       "      <td>MIDWOOD KINGS HWY STA</td>\n",
       "      <td>40.608433</td>\n",
       "      <td>-73.957100</td>\n",
       "      <td>NYCT_4611</td>\n",
       "      <td>40.587024</td>\n",
       "      <td>-73.918623</td>\n",
       "      <td>GERRITSEN AV/GERRITSEN BEACH</td>\n",
       "      <td>at stop</td>\n",
       "      <td>0.0</td>\n",
       "      <td>NaN</td>\n",
       "      <td>24:08:00</td>\n",
       "    </tr>\n",
       "    <tr>\n",
       "      <th>7</th>\n",
       "      <td>2017-06-01 00:03:29</td>\n",
       "      <td>0</td>\n",
       "      <td>B83</td>\n",
       "      <td>GATEWAY CTR TERM/GATEWAY DR</td>\n",
       "      <td>40.652649</td>\n",
       "      <td>-73.877029</td>\n",
       "      <td>BWAY JCT VN SNDRN AV</td>\n",
       "      <td>40.678139</td>\n",
       "      <td>-73.903572</td>\n",
       "      <td>NYCT_4841</td>\n",
       "      <td>40.648801</td>\n",
       "      <td>-73.882682</td>\n",
       "      <td>PENNSYLVANIA AV/DELMAR LOOP N</td>\n",
       "      <td>&lt; 1 stop away</td>\n",
       "      <td>196.0</td>\n",
       "      <td>2017-06-01 00:04:13</td>\n",
       "      <td>23:58:47</td>\n",
       "    </tr>\n",
       "    <tr>\n",
       "      <th>8</th>\n",
       "      <td>2017-06-01 00:03:27</td>\n",
       "      <td>0</td>\n",
       "      <td>B82</td>\n",
       "      <td>STILLWELL TERMINAL BUS LOOP</td>\n",
       "      <td>40.577080</td>\n",
       "      <td>-73.981293</td>\n",
       "      <td>SPRING CRK TWRS SEAVIEW AV via KINGS HWY</td>\n",
       "      <td>40.642990</td>\n",
       "      <td>-73.878326</td>\n",
       "      <td>NYCT_6592</td>\n",
       "      <td>40.632258</td>\n",
       "      <td>-73.918318</td>\n",
       "      <td>FLATLANDS AV/RALPH AV</td>\n",
       "      <td>approaching</td>\n",
       "      <td>35.0</td>\n",
       "      <td>2017-06-01 00:03:56</td>\n",
       "      <td>24:00:00</td>\n",
       "    </tr>\n",
       "    <tr>\n",
       "      <th>9</th>\n",
       "      <td>2017-06-01 00:03:51</td>\n",
       "      <td>1</td>\n",
       "      <td>S59</td>\n",
       "      <td>RICHMOND TER/PARK AV #3</td>\n",
       "      <td>40.640167</td>\n",
       "      <td>-74.130966</td>\n",
       "      <td>HYLAN BL</td>\n",
       "      <td>40.534260</td>\n",
       "      <td>-74.154213</td>\n",
       "      <td>NYCT_8279</td>\n",
       "      <td>40.590689</td>\n",
       "      <td>-74.165811</td>\n",
       "      <td>RICHMOND AV/NOME AV</td>\n",
       "      <td>approaching</td>\n",
       "      <td>31.0</td>\n",
       "      <td>2017-06-01 00:03:56</td>\n",
       "      <td>24:01:14</td>\n",
       "    </tr>\n",
       "    <tr>\n",
       "      <th>10</th>\n",
       "      <td>2017-06-01 00:03:48</td>\n",
       "      <td>0</td>\n",
       "      <td>Bx28</td>\n",
       "      <td>VALENTINE AV/E 192 ST</td>\n",
       "      <td>40.864079</td>\n",
       "      <td>-73.894615</td>\n",
       "      <td>CO-OP CITY EARHART LA via GUNHILL</td>\n",
       "      <td>40.860828</td>\n",
       "      <td>-73.822670</td>\n",
       "      <td>NYCT_8334</td>\n",
       "      <td>40.876032</td>\n",
       "      <td>-73.829543</td>\n",
       "      <td>DREISER LOOP/DEBS PL</td>\n",
       "      <td>&lt; 1 stop away</td>\n",
       "      <td>207.0</td>\n",
       "      <td>2017-06-01 00:04:29</td>\n",
       "      <td>23:48:35</td>\n",
       "    </tr>\n",
       "    <tr>\n",
       "      <th>11</th>\n",
       "      <td>2017-06-01 00:03:52</td>\n",
       "      <td>1</td>\n",
       "      <td>B1</td>\n",
       "      <td>87 ST/4 Av</td>\n",
       "      <td>40.621925</td>\n",
       "      <td>-74.028496</td>\n",
       "      <td>MANHATTAN BEACH KINGSBORO CC</td>\n",
       "      <td>40.578094</td>\n",
       "      <td>-73.940170</td>\n",
       "      <td>NYCT_7141</td>\n",
       "      <td>40.602164</td>\n",
       "      <td>-73.994162</td>\n",
       "      <td>86 ST/BAY PY</td>\n",
       "      <td>at stop</td>\n",
       "      <td>22.0</td>\n",
       "      <td>2017-06-01 00:03:57</td>\n",
       "      <td>24:05:55</td>\n",
       "    </tr>\n",
       "    <tr>\n",
       "      <th>12</th>\n",
       "      <td>2017-06-01 00:03:35</td>\n",
       "      <td>1</td>\n",
       "      <td>B26</td>\n",
       "      <td>WYCKOFF ST/PALMETTO ST</td>\n",
       "      <td>40.699150</td>\n",
       "      <td>-73.910477</td>\n",
       "      <td>DNTWN BKLYN TILLARY ST via HALSEY</td>\n",
       "      <td>40.693939</td>\n",
       "      <td>-73.990311</td>\n",
       "      <td>NYCT_6503</td>\n",
       "      <td>40.693922</td>\n",
       "      <td>-73.990411</td>\n",
       "      <td>CADMAN PZ W/TILLARY ST</td>\n",
       "      <td>approaching</td>\n",
       "      <td>47.0</td>\n",
       "      <td>NaN</td>\n",
       "      <td>NaN</td>\n",
       "    </tr>\n",
       "  </tbody>\n",
       "</table>\n",
       "</div>"
      ],
      "text/plain": [
       "         RecordedAtTime  DirectionRef  ...  ExpectedArrivalTime ScheduledArrivalTime\n",
       "0   2017-06-01 00:03:34             0  ...  2017-06-01 00:03:59             24:06:14\n",
       "1   2017-06-01 00:03:43             1  ...  2017-06-01 00:03:56             23:58:02\n",
       "2   2017-06-01 00:03:49             0  ...  2017-06-01 00:03:56             24:00:53\n",
       "3   2017-06-01 00:03:31             0  ...  2017-06-01 00:04:03             24:03:00\n",
       "4   2017-06-01 00:03:22             1  ...  2017-06-01 00:03:56             23:59:38\n",
       "5   2017-06-01 00:03:40             0  ...  2017-06-01 00:03:56             24:02:35\n",
       "6   2017-06-01 00:03:24             0  ...                  NaN             24:08:00\n",
       "7   2017-06-01 00:03:29             0  ...  2017-06-01 00:04:13             23:58:47\n",
       "8   2017-06-01 00:03:27             0  ...  2017-06-01 00:03:56             24:00:00\n",
       "9   2017-06-01 00:03:51             1  ...  2017-06-01 00:03:56             24:01:14\n",
       "10  2017-06-01 00:03:48             0  ...  2017-06-01 00:04:29             23:48:35\n",
       "11  2017-06-01 00:03:52             1  ...  2017-06-01 00:03:57             24:05:55\n",
       "12  2017-06-01 00:03:35             1  ...                  NaN                  NaN\n",
       "\n",
       "[13 rows x 17 columns]"
      ]
     },
     "execution_count": 4,
     "metadata": {
      "tags": []
     },
     "output_type": "execute_result"
    }
   ],
   "source": [
    "df.head(13)"
   ]
  },
  {
   "cell_type": "code",
   "execution_count": 5,
   "metadata": {
    "colab": {
     "base_uri": "https://localhost:8080/"
    },
    "id": "ut6FArcUNNLI",
    "outputId": "1934f1b3-f945-449f-be53-9940309f04bd"
   },
   "outputs": [
    {
     "name": "stdout",
     "output_type": "stream",
     "text": [
      "<class 'pandas.core.frame.DataFrame'>\n",
      "RangeIndex: 6730436 entries, 0 to 6730435\n",
      "Data columns (total 17 columns):\n",
      " #   Column                     Dtype  \n",
      "---  ------                     -----  \n",
      " 0   RecordedAtTime             object \n",
      " 1   DirectionRef               int64  \n",
      " 2   PublishedLineName          object \n",
      " 3   OriginName                 object \n",
      " 4   OriginLat                  float64\n",
      " 5   OriginLong                 float64\n",
      " 6   DestinationName            object \n",
      " 7   DestinationLat             float64\n",
      " 8   DestinationLong            float64\n",
      " 9   VehicleRef                 object \n",
      " 10  VehicleLocation.Latitude   float64\n",
      " 11  VehicleLocation.Longitude  float64\n",
      " 12  NextStopPointName          object \n",
      " 13  ArrivalProximityText       object \n",
      " 14  DistanceFromStop           float64\n",
      " 15  ExpectedArrivalTime        object \n",
      " 16  ScheduledArrivalTime       object \n",
      "dtypes: float64(7), int64(1), object(9)\n",
      "memory usage: 872.9+ MB\n"
     ]
    }
   ],
   "source": [
    "df.info()"
   ]
  },
  {
   "cell_type": "markdown",
   "metadata": {
    "id": "9dABfFD_bZzy"
   },
   "source": [
    "**Data Preprocessing**"
   ]
  },
  {
   "cell_type": "markdown",
   "metadata": {
    "id": "zYN2rqEWzyUZ"
   },
   "source": [
    "\n",
    "\n",
    "*   Replacing the null and NaN values of numeric columns with the mean of that column\n",
    "*   Converting the timestamp columns to datetime datatype\n",
    "*   Replacing the null and NaN values of 'ExpectedArrivalTime' column with the corresponding value in 'RecordedAtTime' column\n",
    "*   Replacing the null and NaN values of 'ScheduledArrivalTime' column with the corresponding value in 'ExpectedArrivalTime' column\n",
    "*   Converting certain erroneous data in 'ScheduledArrivalTime' column of the format '25:00:00' to '00:00:00'\n",
    "*   Appending dates to 'ScheduledArrivalTime' column:\n",
    "  *   Same date as that of 'ExpectedArrivalTime' column if difference between 'ScheduledArrivalTime' and 'ExpectedArrivalTime' column is <= 12 hr\n",
    "  *   1 day less than that of 'ExpectedArrivalTime' column if difference between 'ScheduledArrivalTime' and 'ExpectedArrivalTime' column is > 12 hr\n",
    "  *   1 day more than that of 'ExpectedArrivalTime' column if difference between 'ExpectedArrivalTime' and 'ScheduledArrivalTime' column is > 12 hr\n",
    "\n",
    "\n",
    "\n",
    "\n",
    "\n",
    "\n",
    "\n",
    "\n",
    "\n",
    "\n",
    "\n"
   ]
  },
  {
   "cell_type": "code",
   "execution_count": 6,
   "metadata": {
    "id": "g_GSGMykbSrh"
   },
   "outputs": [],
   "source": [
    "df['OriginLat'] = df['OriginLat'].fillna(df['OriginLat'].mean())\n",
    "df['OriginLong'] = df['OriginLong'].fillna(df['OriginLong'].mean())\n",
    "df['DestinationLat'] = df['DestinationLat'].fillna(df['DestinationLat'].mean())\n",
    "df['DestinationLong'] = df['DestinationLong'].fillna(df['DestinationLong'].mean())\n",
    "df['VehicleLocation.Latitude'] = df['VehicleLocation.Latitude'].fillna(df['VehicleLocation.Latitude'].mean())\n",
    "df['VehicleLocation.Longitude'] = df['VehicleLocation.Longitude'].fillna(df['VehicleLocation.Longitude'].mean())\n",
    "df['DistanceFromStop'] = df['DistanceFromStop'].fillna(df['DistanceFromStop'].mean())"
   ]
  },
  {
   "cell_type": "code",
   "execution_count": 7,
   "metadata": {
    "id": "CXVVarI1hatn"
   },
   "outputs": [],
   "source": [
    "df['RecordedAtTime'] = pd.to_datetime(df['RecordedAtTime'])"
   ]
  },
  {
   "cell_type": "code",
   "execution_count": 8,
   "metadata": {
    "id": "pUcxyu4iiRI6"
   },
   "outputs": [],
   "source": [
    "df['ExpectedArrivalTime'] = df['ExpectedArrivalTime'].fillna(df['RecordedAtTime'])"
   ]
  },
  {
   "cell_type": "code",
   "execution_count": 9,
   "metadata": {
    "id": "385_LErOidqV"
   },
   "outputs": [],
   "source": [
    "df['ExpectedArrivalTime'] = pd.to_datetime(df['ExpectedArrivalTime'])"
   ]
  },
  {
   "cell_type": "code",
   "execution_count": 10,
   "metadata": {
    "id": "9T-IjOTzinMw"
   },
   "outputs": [],
   "source": [
    "df['ScheduledArrivalTime'] = df['ScheduledArrivalTime'].fillna(df['ExpectedArrivalTime'].dt.time)"
   ]
  },
  {
   "cell_type": "code",
   "execution_count": 11,
   "metadata": {
    "id": "ctZzvTBeuNLe"
   },
   "outputs": [],
   "source": [
    "df['ScheduledArrivalTime'] = np.where(df['ScheduledArrivalTime'].astype(str).str[:2].astype(float) >= 24, (df['ScheduledArrivalTime'].astype(str).str[:2].astype(float)-24).astype(str).str.replace('.0','') + df['ScheduledArrivalTime'].astype(str).str[2:], df['ScheduledArrivalTime'])"
   ]
  },
  {
   "cell_type": "code",
   "execution_count": 12,
   "metadata": {
    "id": "BMM2n8HfNOXo"
   },
   "outputs": [],
   "source": [
    "df['ScheduledArrivalTime'] = np.where(df['ScheduledArrivalTime'].astype(str).str.len() == 7, df['ScheduledArrivalTime'].astype(str).str.zfill(8), df['ScheduledArrivalTime'])"
   ]
  },
  {
   "cell_type": "code",
   "execution_count": 13,
   "metadata": {
    "id": "EqRAH7f8OlvO"
   },
   "outputs": [],
   "source": [
    "df['ScheduledArrivalTime'] = np.where((df['ScheduledArrivalTime'].astype(str).str[:2].astype(float) - df['ExpectedArrivalTime'].dt.hour.astype(float)) > 12, (df['ExpectedArrivalTime'].dt.date - datetime.timedelta(days=1)).astype(str) + df['ScheduledArrivalTime'].astype(str).str.rjust(9), df['ScheduledArrivalTime'])"
   ]
  },
  {
   "cell_type": "code",
   "execution_count": 14,
   "metadata": {
    "id": "QowmLbXQpqmT"
   },
   "outputs": [],
   "source": [
    "df['ScheduledArrivalTime'] = np.where((df['ExpectedArrivalTime'].dt.hour.astype(float) - df['ScheduledArrivalTime'].astype(str).str[:2].astype(float)) > 12, (df['ExpectedArrivalTime'].dt.date + datetime.timedelta(days=1)).astype(str) + df['ScheduledArrivalTime'].astype(str).str.rjust(9), df['ScheduledArrivalTime'])"
   ]
  },
  {
   "cell_type": "code",
   "execution_count": 15,
   "metadata": {
    "id": "FRi6wDgqVXPr"
   },
   "outputs": [],
   "source": [
    "df['ScheduledArrivalTime'] = np.where(df['ScheduledArrivalTime'].astype(str).str.len() < 10, ((df['ExpectedArrivalTime'].dt.date).astype(str) + df['ScheduledArrivalTime'].astype(str).str.rjust(9)).astype(str), df['ScheduledArrivalTime'])"
   ]
  },
  {
   "cell_type": "code",
   "execution_count": 16,
   "metadata": {
    "id": "_xLtj5txpcm9"
   },
   "outputs": [],
   "source": [
    "df['ScheduledArrivalTime'] = pd.to_datetime(df['ScheduledArrivalTime'])"
   ]
  },
  {
   "cell_type": "code",
   "execution_count": 17,
   "metadata": {
    "colab": {
     "base_uri": "https://localhost:8080/",
     "height": 764
    },
    "id": "TwHuxbJnE1mR",
    "outputId": "6c6ed64b-b342-4d23-da4b-df1a4db375eb"
   },
   "outputs": [
    {
     "data": {
      "text/html": [
       "<div>\n",
       "<style scoped>\n",
       "    .dataframe tbody tr th:only-of-type {\n",
       "        vertical-align: middle;\n",
       "    }\n",
       "\n",
       "    .dataframe tbody tr th {\n",
       "        vertical-align: top;\n",
       "    }\n",
       "\n",
       "    .dataframe thead th {\n",
       "        text-align: right;\n",
       "    }\n",
       "</style>\n",
       "<table border=\"1\" class=\"dataframe\">\n",
       "  <thead>\n",
       "    <tr style=\"text-align: right;\">\n",
       "      <th></th>\n",
       "      <th>RecordedAtTime</th>\n",
       "      <th>DirectionRef</th>\n",
       "      <th>PublishedLineName</th>\n",
       "      <th>OriginName</th>\n",
       "      <th>OriginLat</th>\n",
       "      <th>OriginLong</th>\n",
       "      <th>DestinationName</th>\n",
       "      <th>DestinationLat</th>\n",
       "      <th>DestinationLong</th>\n",
       "      <th>VehicleRef</th>\n",
       "      <th>VehicleLocation.Latitude</th>\n",
       "      <th>VehicleLocation.Longitude</th>\n",
       "      <th>NextStopPointName</th>\n",
       "      <th>ArrivalProximityText</th>\n",
       "      <th>DistanceFromStop</th>\n",
       "      <th>ExpectedArrivalTime</th>\n",
       "      <th>ScheduledArrivalTime</th>\n",
       "    </tr>\n",
       "  </thead>\n",
       "  <tbody>\n",
       "    <tr>\n",
       "      <th>0</th>\n",
       "      <td>2017-06-01 00:03:34</td>\n",
       "      <td>0</td>\n",
       "      <td>B8</td>\n",
       "      <td>4 AV/95 ST</td>\n",
       "      <td>40.616104</td>\n",
       "      <td>-74.031143</td>\n",
       "      <td>BROWNSVILLE ROCKAWAY AV</td>\n",
       "      <td>40.656048</td>\n",
       "      <td>-73.907379</td>\n",
       "      <td>NYCT_430</td>\n",
       "      <td>40.635170</td>\n",
       "      <td>-73.960803</td>\n",
       "      <td>FOSTER AV/E 18 ST</td>\n",
       "      <td>approaching</td>\n",
       "      <td>76.0</td>\n",
       "      <td>2017-06-01 00:03:59</td>\n",
       "      <td>2017-06-01 00:06:14</td>\n",
       "    </tr>\n",
       "    <tr>\n",
       "      <th>1</th>\n",
       "      <td>2017-06-01 00:03:43</td>\n",
       "      <td>1</td>\n",
       "      <td>S61</td>\n",
       "      <td>ST GEORGE FERRY/S61 &amp; S91</td>\n",
       "      <td>40.643169</td>\n",
       "      <td>-74.073494</td>\n",
       "      <td>S I MALL YUKON AV</td>\n",
       "      <td>40.575935</td>\n",
       "      <td>-74.167686</td>\n",
       "      <td>NYCT_8263</td>\n",
       "      <td>40.590802</td>\n",
       "      <td>-74.158340</td>\n",
       "      <td>MERRYMOUNT ST/TRAVIS AV</td>\n",
       "      <td>approaching</td>\n",
       "      <td>62.0</td>\n",
       "      <td>2017-06-01 00:03:56</td>\n",
       "      <td>2017-05-31 23:58:02</td>\n",
       "    </tr>\n",
       "    <tr>\n",
       "      <th>2</th>\n",
       "      <td>2017-06-01 00:03:49</td>\n",
       "      <td>0</td>\n",
       "      <td>Bx10</td>\n",
       "      <td>E 206 ST/BAINBRIDGE AV</td>\n",
       "      <td>40.875008</td>\n",
       "      <td>-73.880142</td>\n",
       "      <td>RIVERDALE 263 ST</td>\n",
       "      <td>40.912376</td>\n",
       "      <td>-73.902534</td>\n",
       "      <td>NYCT_4223</td>\n",
       "      <td>40.886010</td>\n",
       "      <td>-73.912647</td>\n",
       "      <td>HENRY HUDSON PKY E/W 235 ST</td>\n",
       "      <td>at stop</td>\n",
       "      <td>5.0</td>\n",
       "      <td>2017-06-01 00:03:56</td>\n",
       "      <td>2017-06-01 00:00:53</td>\n",
       "    </tr>\n",
       "    <tr>\n",
       "      <th>3</th>\n",
       "      <td>2017-06-01 00:03:31</td>\n",
       "      <td>0</td>\n",
       "      <td>Q5</td>\n",
       "      <td>TEARDROP/LAYOVER</td>\n",
       "      <td>40.701748</td>\n",
       "      <td>-73.802399</td>\n",
       "      <td>ROSEDALE LIRR STA via MERRICK</td>\n",
       "      <td>40.666012</td>\n",
       "      <td>-73.735939</td>\n",
       "      <td>NYCT_8422</td>\n",
       "      <td>40.668002</td>\n",
       "      <td>-73.729348</td>\n",
       "      <td>HOOK CREEK BL/SUNRISE HY</td>\n",
       "      <td>&lt; 1 stop away</td>\n",
       "      <td>267.0</td>\n",
       "      <td>2017-06-01 00:04:03</td>\n",
       "      <td>2017-06-01 00:03:00</td>\n",
       "    </tr>\n",
       "    <tr>\n",
       "      <th>4</th>\n",
       "      <td>2017-06-01 00:03:22</td>\n",
       "      <td>1</td>\n",
       "      <td>Bx1</td>\n",
       "      <td>RIVERDALE AV/W 231 ST</td>\n",
       "      <td>40.881187</td>\n",
       "      <td>-73.909340</td>\n",
       "      <td>MOTT HAVEN 136 ST via CONCOURSE</td>\n",
       "      <td>40.809654</td>\n",
       "      <td>-73.928360</td>\n",
       "      <td>NYCT_4710</td>\n",
       "      <td>40.868134</td>\n",
       "      <td>-73.893032</td>\n",
       "      <td>GRAND CONCOURSE/E 196 ST</td>\n",
       "      <td>at stop</td>\n",
       "      <td>11.0</td>\n",
       "      <td>2017-06-01 00:03:56</td>\n",
       "      <td>2017-05-31 23:59:38</td>\n",
       "    </tr>\n",
       "    <tr>\n",
       "      <th>5</th>\n",
       "      <td>2017-06-01 00:03:40</td>\n",
       "      <td>0</td>\n",
       "      <td>M1</td>\n",
       "      <td>4 AV/E 10 ST</td>\n",
       "      <td>40.731342</td>\n",
       "      <td>-73.990288</td>\n",
       "      <td>HARLEM 147 ST via MADISON</td>\n",
       "      <td>40.821110</td>\n",
       "      <td>-73.935898</td>\n",
       "      <td>NYCT_3831</td>\n",
       "      <td>40.792897</td>\n",
       "      <td>-73.950023</td>\n",
       "      <td>MADISON AV/E 106 ST</td>\n",
       "      <td>approaching</td>\n",
       "      <td>73.0</td>\n",
       "      <td>2017-06-01 00:03:56</td>\n",
       "      <td>2017-06-01 00:02:35</td>\n",
       "    </tr>\n",
       "    <tr>\n",
       "      <th>6</th>\n",
       "      <td>2017-06-01 00:03:24</td>\n",
       "      <td>0</td>\n",
       "      <td>B31</td>\n",
       "      <td>GERRITSEN AV/GERRITSEN BEACH</td>\n",
       "      <td>40.587101</td>\n",
       "      <td>-73.918503</td>\n",
       "      <td>MIDWOOD KINGS HWY STA</td>\n",
       "      <td>40.608433</td>\n",
       "      <td>-73.957100</td>\n",
       "      <td>NYCT_4611</td>\n",
       "      <td>40.587024</td>\n",
       "      <td>-73.918623</td>\n",
       "      <td>GERRITSEN AV/GERRITSEN BEACH</td>\n",
       "      <td>at stop</td>\n",
       "      <td>0.0</td>\n",
       "      <td>2017-06-01 00:03:24</td>\n",
       "      <td>2017-06-01 00:08:00</td>\n",
       "    </tr>\n",
       "    <tr>\n",
       "      <th>7</th>\n",
       "      <td>2017-06-01 00:03:29</td>\n",
       "      <td>0</td>\n",
       "      <td>B83</td>\n",
       "      <td>GATEWAY CTR TERM/GATEWAY DR</td>\n",
       "      <td>40.652649</td>\n",
       "      <td>-73.877029</td>\n",
       "      <td>BWAY JCT VN SNDRN AV</td>\n",
       "      <td>40.678139</td>\n",
       "      <td>-73.903572</td>\n",
       "      <td>NYCT_4841</td>\n",
       "      <td>40.648801</td>\n",
       "      <td>-73.882682</td>\n",
       "      <td>PENNSYLVANIA AV/DELMAR LOOP N</td>\n",
       "      <td>&lt; 1 stop away</td>\n",
       "      <td>196.0</td>\n",
       "      <td>2017-06-01 00:04:13</td>\n",
       "      <td>2017-05-31 23:58:47</td>\n",
       "    </tr>\n",
       "    <tr>\n",
       "      <th>8</th>\n",
       "      <td>2017-06-01 00:03:27</td>\n",
       "      <td>0</td>\n",
       "      <td>B82</td>\n",
       "      <td>STILLWELL TERMINAL BUS LOOP</td>\n",
       "      <td>40.577080</td>\n",
       "      <td>-73.981293</td>\n",
       "      <td>SPRING CRK TWRS SEAVIEW AV via KINGS HWY</td>\n",
       "      <td>40.642990</td>\n",
       "      <td>-73.878326</td>\n",
       "      <td>NYCT_6592</td>\n",
       "      <td>40.632258</td>\n",
       "      <td>-73.918318</td>\n",
       "      <td>FLATLANDS AV/RALPH AV</td>\n",
       "      <td>approaching</td>\n",
       "      <td>35.0</td>\n",
       "      <td>2017-06-01 00:03:56</td>\n",
       "      <td>2017-06-01 00:00:00</td>\n",
       "    </tr>\n",
       "    <tr>\n",
       "      <th>9</th>\n",
       "      <td>2017-06-01 00:03:51</td>\n",
       "      <td>1</td>\n",
       "      <td>S59</td>\n",
       "      <td>RICHMOND TER/PARK AV #3</td>\n",
       "      <td>40.640167</td>\n",
       "      <td>-74.130966</td>\n",
       "      <td>HYLAN BL</td>\n",
       "      <td>40.534260</td>\n",
       "      <td>-74.154213</td>\n",
       "      <td>NYCT_8279</td>\n",
       "      <td>40.590689</td>\n",
       "      <td>-74.165811</td>\n",
       "      <td>RICHMOND AV/NOME AV</td>\n",
       "      <td>approaching</td>\n",
       "      <td>31.0</td>\n",
       "      <td>2017-06-01 00:03:56</td>\n",
       "      <td>2017-06-01 00:01:14</td>\n",
       "    </tr>\n",
       "    <tr>\n",
       "      <th>10</th>\n",
       "      <td>2017-06-01 00:03:48</td>\n",
       "      <td>0</td>\n",
       "      <td>Bx28</td>\n",
       "      <td>VALENTINE AV/E 192 ST</td>\n",
       "      <td>40.864079</td>\n",
       "      <td>-73.894615</td>\n",
       "      <td>CO-OP CITY EARHART LA via GUNHILL</td>\n",
       "      <td>40.860828</td>\n",
       "      <td>-73.822670</td>\n",
       "      <td>NYCT_8334</td>\n",
       "      <td>40.876032</td>\n",
       "      <td>-73.829543</td>\n",
       "      <td>DREISER LOOP/DEBS PL</td>\n",
       "      <td>&lt; 1 stop away</td>\n",
       "      <td>207.0</td>\n",
       "      <td>2017-06-01 00:04:29</td>\n",
       "      <td>2017-05-31 23:48:35</td>\n",
       "    </tr>\n",
       "    <tr>\n",
       "      <th>11</th>\n",
       "      <td>2017-06-01 00:03:52</td>\n",
       "      <td>1</td>\n",
       "      <td>B1</td>\n",
       "      <td>87 ST/4 Av</td>\n",
       "      <td>40.621925</td>\n",
       "      <td>-74.028496</td>\n",
       "      <td>MANHATTAN BEACH KINGSBORO CC</td>\n",
       "      <td>40.578094</td>\n",
       "      <td>-73.940170</td>\n",
       "      <td>NYCT_7141</td>\n",
       "      <td>40.602164</td>\n",
       "      <td>-73.994162</td>\n",
       "      <td>86 ST/BAY PY</td>\n",
       "      <td>at stop</td>\n",
       "      <td>22.0</td>\n",
       "      <td>2017-06-01 00:03:57</td>\n",
       "      <td>2017-06-01 00:05:55</td>\n",
       "    </tr>\n",
       "  </tbody>\n",
       "</table>\n",
       "</div>"
      ],
      "text/plain": [
       "        RecordedAtTime  DirectionRef  ... ExpectedArrivalTime ScheduledArrivalTime\n",
       "0  2017-06-01 00:03:34             0  ... 2017-06-01 00:03:59  2017-06-01 00:06:14\n",
       "1  2017-06-01 00:03:43             1  ... 2017-06-01 00:03:56  2017-05-31 23:58:02\n",
       "2  2017-06-01 00:03:49             0  ... 2017-06-01 00:03:56  2017-06-01 00:00:53\n",
       "3  2017-06-01 00:03:31             0  ... 2017-06-01 00:04:03  2017-06-01 00:03:00\n",
       "4  2017-06-01 00:03:22             1  ... 2017-06-01 00:03:56  2017-05-31 23:59:38\n",
       "5  2017-06-01 00:03:40             0  ... 2017-06-01 00:03:56  2017-06-01 00:02:35\n",
       "6  2017-06-01 00:03:24             0  ... 2017-06-01 00:03:24  2017-06-01 00:08:00\n",
       "7  2017-06-01 00:03:29             0  ... 2017-06-01 00:04:13  2017-05-31 23:58:47\n",
       "8  2017-06-01 00:03:27             0  ... 2017-06-01 00:03:56  2017-06-01 00:00:00\n",
       "9  2017-06-01 00:03:51             1  ... 2017-06-01 00:03:56  2017-06-01 00:01:14\n",
       "10 2017-06-01 00:03:48             0  ... 2017-06-01 00:04:29  2017-05-31 23:48:35\n",
       "11 2017-06-01 00:03:52             1  ... 2017-06-01 00:03:57  2017-06-01 00:05:55\n",
       "\n",
       "[12 rows x 17 columns]"
      ]
     },
     "execution_count": 17,
     "metadata": {
      "tags": []
     },
     "output_type": "execute_result"
    }
   ],
   "source": [
    "df.head(12)"
   ]
  },
  {
   "cell_type": "markdown",
   "metadata": {
    "id": "8jUuQQh3rmG-"
   },
   "source": [
    "\n",
    "\n",
    "---\n",
    "\n"
   ]
  },
  {
   "cell_type": "markdown",
   "metadata": {
    "id": "hjjIBO05NgXL"
   },
   "source": [
    "**Categorical Datatype Example**"
   ]
  },
  {
   "cell_type": "code",
   "execution_count": 18,
   "metadata": {
    "colab": {
     "base_uri": "https://localhost:8080/"
    },
    "id": "tcZx_C7PNQff",
    "outputId": "75d5c967-fbe5-4dad-c2cf-a4d61348e5d2"
   },
   "outputs": [
    {
     "data": {
      "text/plain": [
       "array([0, 1])"
      ]
     },
     "execution_count": 18,
     "metadata": {
      "tags": []
     },
     "output_type": "execute_result"
    }
   ],
   "source": [
    "df.DirectionRef.unique()"
   ]
  },
  {
   "cell_type": "code",
   "execution_count": 19,
   "metadata": {
    "colab": {
     "base_uri": "https://localhost:8080/",
     "height": 290
    },
    "id": "3hEQ1THSN8x5",
    "outputId": "3453c9b8-92e0-421f-a30e-5f6c3292dbb1"
   },
   "outputs": [
    {
     "data": {
      "image/png": "[encoded data removed]",
      "text/plain": [
       "<Figure size 432x288 with 1 Axes>"
      ]
     },
     "metadata": {
      "needs_background": "light",
      "tags": []
     },
     "output_type": "display_data"
    }
   ],
   "source": [
    "sns.countplot(x='DirectionRef', data=df)\n",
    "plt.show()"
   ]
  },
  {
   "cell_type": "markdown",
   "metadata": {
    "id": "YxX-FSiVrp-z"
   },
   "source": [
    "\n",
    "\n",
    "---\n",
    "\n"
   ]
  },
  {
   "cell_type": "markdown",
   "metadata": {
    "id": "f6mx_IkROjWx"
   },
   "source": [
    "**Measures of Central Tendency**"
   ]
  },
  {
   "cell_type": "markdown",
   "metadata": {
    "id": "lMtqzfyCWvG8"
   },
   "source": [
    "**Mean** of every numeric column(interval and ratio type data) present in the dataset"
   ]
  },
  {
   "cell_type": "code",
   "execution_count": 20,
   "metadata": {
    "colab": {
     "base_uri": "https://localhost:8080/"
    },
    "id": "zBEhCkqkOMtn",
    "outputId": "a1d16f4f-d57b-4510-b368-0f825b675ea9"
   },
   "outputs": [
    {
     "name": "stdout",
     "output_type": "stream",
     "text": [
      "OriginLat                     40.729610\n",
      "OriginLong                   -73.931110\n",
      "DestinationLat                40.728634\n",
      "DestinationLong              -73.931565\n",
      "VehicleLocation.Latitude      40.728485\n",
      "VehicleLocation.Longitude    -73.930712\n",
      "DistanceFromStop             225.881287\n",
      "dtype: float64\n"
     ]
    }
   ],
   "source": [
    "colMeans = df.drop('DirectionRef', axis=1).mean(axis=0, numeric_only=True)\n",
    "print(colMeans)"
   ]
  },
  {
   "cell_type": "markdown",
   "metadata": {
    "id": "61zoR112sdoQ"
   },
   "source": [
    "\n",
    "\n",
    "---\n",
    "\n"
   ]
  },
  {
   "cell_type": "markdown",
   "metadata": {
    "id": "BPx6UPwlnvse"
   },
   "source": [
    "**Median** of every numeric column(interval and ratio type data) present in the dataset"
   ]
  },
  {
   "cell_type": "code",
   "execution_count": 21,
   "metadata": {
    "colab": {
     "base_uri": "https://localhost:8080/"
    },
    "id": "5y5_RspOnuOO",
    "outputId": "57383838-3d37-4f9d-9b68-0bfaae813e48"
   },
   "outputs": [
    {
     "name": "stdout",
     "output_type": "stream",
     "text": [
      "OriginLat                    40.716423\n",
      "OriginLong                  -73.932449\n",
      "DestinationLat               40.714531\n",
      "DestinationLong             -73.932266\n",
      "VehicleLocation.Latitude     40.723225\n",
      "VehicleLocation.Longitude   -73.936528\n",
      "DistanceFromStop             90.000000\n",
      "dtype: float64\n"
     ]
    }
   ],
   "source": [
    "colMedians = df.drop('DirectionRef', axis=1).median(axis=0, numeric_only=True)\n",
    "print(colMedians)"
   ]
  },
  {
   "cell_type": "markdown",
   "metadata": {
    "id": "81yQhwscshrV"
   },
   "source": [
    "\n",
    "\n",
    "---\n",
    "\n"
   ]
  },
  {
   "cell_type": "markdown",
   "metadata": {
    "id": "2fWpn4qNPtf_"
   },
   "source": [
    "**Using Mean and Median**"
   ]
  },
  {
   "cell_type": "markdown",
   "metadata": {
    "id": "v4Y77SV_Xwx5"
   },
   "source": [
    "To find the location which is equidistant from all the bus stops"
   ]
  },
  {
   "cell_type": "code",
   "execution_count": 22,
   "metadata": {
    "colab": {
     "base_uri": "https://localhost:8080/"
    },
    "id": "DftFj725Qfi-",
    "outputId": "d8125daa-a8a2-4b2e-c739-ab94742d9d42"
   },
   "outputs": [
    {
     "name": "stdout",
     "output_type": "stream",
     "text": [
      "Location Equidistant from all bus stops: 40.71775490683684 N, 73.93839068414633 W\n"
     ]
    }
   ],
   "source": [
    "from math import cos, sin, radians, atan2, sqrt, degrees, pi\n",
    "\n",
    "pos = pd.DataFrame()\n",
    "\n",
    "pos[\"Lat\"] = np.hstack((df.OriginLat, df.DestinationLat))\n",
    "pos[\"Lat\"] = pos.Lat.apply(radians)\n",
    "\n",
    "pos[\"Lon\"] = np.hstack((df.OriginLong, df.DestinationLong))\n",
    "pos[\"Lon\"] = pos.Lon.apply(radians)\n",
    "\n",
    "pos = pos.drop_duplicates()\n",
    "\n",
    "pos[\"X\"] = np.vectorize(lambda lat, lon: cos(lat)*cos(lon))(pos[\"Lat\"], pos[\"Lon\"])\n",
    "pos[\"Y\"] = np.vectorize(lambda lat, lon: cos(lat)*sin(lon))(pos[\"Lat\"], pos[\"Lon\"])\n",
    "pos[\"Z\"] = np.vectorize(sin)(pos[\"Lat\"])\n",
    "\n",
    "x = pos.X.mean() # pos.X.median()\n",
    "y = pos.Y.mean() # pos.Y.median()\n",
    "z = pos.Z.mean() # pos.Z.median()\n",
    "\n",
    "Center_Lon = atan2(y, x)\n",
    "Hyp = sqrt(x*x + y*y)\n",
    "Center_Lat = atan2(z, Hyp)\n",
    "\n",
    "print(f\"Location Equidistant from all bus stops: {degrees(Center_Lat)} N, {-1*degrees(Center_Lon)} W\")"
   ]
  },
  {
   "cell_type": "markdown",
   "metadata": {
    "id": "wWtmAaozoqAD"
   },
   "source": [
    "The above location remains the same for both **mean** and **median** values"
   ]
  },
  {
   "cell_type": "markdown",
   "metadata": {
    "id": "0lP7wlDKsk3f"
   },
   "source": [
    "\n",
    "\n",
    "---\n",
    "\n"
   ]
  },
  {
   "cell_type": "markdown",
   "metadata": {
    "id": "NvOc8UgrX_K0"
   },
   "source": [
    "To locate the above found location on the map"
   ]
  },
  {
   "cell_type": "code",
   "execution_count": 23,
   "metadata": {
    "colab": {
     "base_uri": "https://localhost:8080/",
     "height": 17,
     "referenced_widgets": [
      "41496be6dcce48b0a5ddb336bc239b36"
     ]
    },
    "id": "_G79RXieOEWB",
    "outputId": "a0fbba2c-c2d5-4469-d409-77dd3324f281"
   },
   "outputs": [
    {
     "data": {
      "application/vnd.jupyter.widget-view+json": {
       "model_id": "41496be6dcce48b0a5ddb336bc239b36",
       "version_major": 2,
       "version_minor": 0
      },
      "text/plain": [
       "Map(center=[40.71775490683684, -73.93839068414633], controls=(ZoomControl(options=['position', 'zoom_in_text',…"
      ]
     },
     "metadata": {
      "tags": []
     },
     "output_type": "display_data"
    }
   ],
   "source": [
    "center = (degrees(Center_Lat),degrees(Center_Lon))\n",
    "\n",
    "m = Map(center=center, zoom=10)\n",
    "\n",
    "icon1 = AwesomeIcon(\n",
    "    name='bus',\n",
    "    marker_color='red',\n",
    "    icon_color='white',\n",
    "    spin=False\n",
    ")\n",
    "marker = Marker(location=center, draggable=False, icon=icon1)\n",
    "\n",
    "icon2 = AwesomeIcon(\n",
    "    name='bus',\n",
    "    marker_color='green',\n",
    "    icon_color='white',\n",
    "    spin=False\n",
    ")\n",
    "\n",
    "markers=list()\n",
    "markers = ( Marker(location=(degrees(i[0]), degrees(i[1])), draggable=False, icon=icon2) for i in np.array(pos) )\n",
    "\n",
    "marker_cluster = MarkerCluster( markers=tuple(markers) )\n",
    "\n",
    "m.add_layer(marker)\n",
    "m.add_layer(marker_cluster)\n",
    "\n",
    "display(m)"
   ]
  },
  {
   "cell_type": "markdown",
   "metadata": {
    "id": "_kAoRWP0sra6"
   },
   "source": [
    "\n",
    "\n",
    "---\n",
    "\n"
   ]
  },
  {
   "cell_type": "markdown",
   "metadata": {
    "id": "jm-v2lOfYKIK"
   },
   "source": [
    "**Mode** of every column present in the dataset(Nominal, interval and ratio type data)"
   ]
  },
  {
   "cell_type": "code",
   "execution_count": 24,
   "metadata": {
    "colab": {
     "base_uri": "https://localhost:8080/",
     "height": 134
    },
    "id": "-Qr213DYUZEU",
    "outputId": "c9c7293f-a28f-41f8-9d01-20f32ae5ed6c"
   },
   "outputs": [
    {
     "data": {
      "text/html": [
       "<div>\n",
       "<style scoped>\n",
       "    .dataframe tbody tr th:only-of-type {\n",
       "        vertical-align: middle;\n",
       "    }\n",
       "\n",
       "    .dataframe tbody tr th {\n",
       "        vertical-align: top;\n",
       "    }\n",
       "\n",
       "    .dataframe thead th {\n",
       "        text-align: right;\n",
       "    }\n",
       "</style>\n",
       "<table border=\"1\" class=\"dataframe\">\n",
       "  <thead>\n",
       "    <tr style=\"text-align: right;\">\n",
       "      <th></th>\n",
       "      <th>RecordedAtTime</th>\n",
       "      <th>DirectionRef</th>\n",
       "      <th>PublishedLineName</th>\n",
       "      <th>OriginName</th>\n",
       "      <th>OriginLat</th>\n",
       "      <th>OriginLong</th>\n",
       "      <th>DestinationName</th>\n",
       "      <th>DestinationLat</th>\n",
       "      <th>DestinationLong</th>\n",
       "      <th>VehicleRef</th>\n",
       "      <th>VehicleLocation.Latitude</th>\n",
       "      <th>VehicleLocation.Longitude</th>\n",
       "      <th>NextStopPointName</th>\n",
       "      <th>ArrivalProximityText</th>\n",
       "      <th>DistanceFromStop</th>\n",
       "      <th>ExpectedArrivalTime</th>\n",
       "      <th>ScheduledArrivalTime</th>\n",
       "    </tr>\n",
       "  </thead>\n",
       "  <tbody>\n",
       "    <tr>\n",
       "      <th>0</th>\n",
       "      <td>2017-06-16 07:58:54</td>\n",
       "      <td>1</td>\n",
       "      <td>B6</td>\n",
       "      <td>E 126 ST/2 AV</td>\n",
       "      <td>40.704906</td>\n",
       "      <td>-73.793304</td>\n",
       "      <td>WASHINGTON HTS GW BRIDGE</td>\n",
       "      <td>40.704933</td>\n",
       "      <td>-73.79332</td>\n",
       "      <td>NYCT_5860</td>\n",
       "      <td>40.714687</td>\n",
       "      <td>-73.831286</td>\n",
       "      <td>W 181 ST/AMSTERDAM AV</td>\n",
       "      <td>approaching</td>\n",
       "      <td>0.0</td>\n",
       "      <td>2017-06-14 11:36:23</td>\n",
       "      <td>2017-06-27 16:27:02</td>\n",
       "    </tr>\n",
       "  </tbody>\n",
       "</table>\n",
       "</div>"
      ],
      "text/plain": [
       "       RecordedAtTime  DirectionRef  ... ExpectedArrivalTime ScheduledArrivalTime\n",
       "0 2017-06-16 07:58:54             1  ... 2017-06-14 11:36:23  2017-06-27 16:27:02\n",
       "\n",
       "[1 rows x 17 columns]"
      ]
     },
     "execution_count": 24,
     "metadata": {
      "tags": []
     },
     "output_type": "execute_result"
    }
   ],
   "source": [
    "colModes = df.mode(axis=0)\n",
    "colModes.head()"
   ]
  },
  {
   "cell_type": "markdown",
   "metadata": {
    "id": "tinLknFOsxw_"
   },
   "source": [
    "\n",
    "\n",
    "---\n",
    "\n"
   ]
  },
  {
   "cell_type": "markdown",
   "metadata": {
    "id": "sy2S9q70YcM6"
   },
   "source": [
    "**Using Mode**"
   ]
  },
  {
   "cell_type": "markdown",
   "metadata": {
    "id": "Eo1kF9x6L1Qm"
   },
   "source": [
    "To find Common Initial(origin) and Final(destination) Stops with respect to directionRef(0 or 1)."
   ]
  },
  {
   "cell_type": "code",
   "execution_count": 25,
   "metadata": {
    "colab": {
     "base_uri": "https://localhost:8080/"
    },
    "id": "68Z8tX2NuFuh",
    "outputId": "f8dc4d60-99a5-4135-c335-009caf02b51b"
   },
   "outputs": [
    {
     "name": "stdout",
     "output_type": "stream",
     "text": [
      "Common Origins:\n",
      "\tDir-0: MERRICK BL/ARCHER AV\n",
      "\tDir-1: E 126 ST/2 AV\n",
      "\n",
      "Common Destinations:\n",
      "\tDir-0: ST GEORGE FERRY\n",
      "\tDir-1: WASHINGTON HTS GW BRIDGE\n",
      "\n"
     ]
    }
   ],
   "source": [
    "origins = [\n",
    "    df[df.DirectionRef==i]['OriginName'].value_counts().idxmax() \n",
    "    for i in df.DirectionRef.unique()\n",
    "]\n",
    "print(f\"Common Origins:\\n\\tDir-0: {origins[0]}\\n\\tDir-1: {origins[1]}\\n\")\n",
    "\n",
    "destinations = [\n",
    "    df[df.DirectionRef==i]['DestinationName'].value_counts().idxmax() \n",
    "    for i in df.DirectionRef.unique()\n",
    "]\n",
    "print(f\"Common Destinations:\\n\\tDir-0: {destinations[0]}\\n\\tDir-1: {destinations[1]}\\n\")"
   ]
  },
  {
   "cell_type": "markdown",
   "metadata": {
    "id": "cfK_S9pFs17X"
   },
   "source": [
    "\n",
    "\n",
    "---\n",
    "\n"
   ]
  },
  {
   "cell_type": "markdown",
   "metadata": {
    "id": "56t6OsTdNAzO"
   },
   "source": [
    "To find the most frequent paths from those Initial Stops(origins)"
   ]
  },
  {
   "cell_type": "code",
   "execution_count": 26,
   "metadata": {
    "colab": {
     "base_uri": "https://localhost:8080/"
    },
    "id": "CDbXHhkpua7G",
    "outputId": "3c056f13-e739-4c23-b45e-77c9cc3b8f2e"
   },
   "outputs": [
    {
     "name": "stdout",
     "output_type": "stream",
     "text": [
      "Most Common Paths from Common Origins:\n",
      "\n",
      "\tDirection Reference: 0\n",
      "\tFrom: MERRICK BL/ARCHER AV\n",
      "\tTo: SELECT BUS BRONX ZOO via MAIN ST\n",
      "\tNo of Trips: 40732 \n",
      "\n",
      "\tDirection Reference: 1\n",
      "\tFrom: E 126 ST/2 AV\n",
      "\tTo: SELECT BUS SERVICE SOUTH FERRY via 2 AV\n",
      "\tNo of Trips: 51015 \n",
      "\n"
     ]
    }
   ],
   "source": [
    "paths_from_origins = list( map( lambda x : \n",
    "                               [ \n",
    "                                   x,\n",
    "                                   df[ df.OriginName == x ][ \"DestinationName\" ].value_counts().idxmax(),\n",
    "                                   df[ df.OriginName == x ][ \"DestinationName\" ].value_counts()[0]\n",
    "                               ],\n",
    "                               origins\n",
    "                              )\n",
    "                         )\n",
    "print(\"Most Common Paths from Common Origins:\\n\")\n",
    "k=0\n",
    "for i in paths_from_origins:\n",
    "    print(\"\\tDirection Reference:\", k)\n",
    "    k+=1\n",
    "    print(\"\\tFrom:\", i[0])\n",
    "    print(\"\\tTo:\", i[1])\n",
    "    print(\"\\tNo of Trips:\", i[2],\"\\n\")"
   ]
  },
  {
   "cell_type": "markdown",
   "metadata": {
    "id": "R1-vywDzs6Ys"
   },
   "source": [
    "\n",
    "\n",
    "---\n",
    "\n"
   ]
  },
  {
   "cell_type": "markdown",
   "metadata": {
    "id": "mFkDxfluNXF2"
   },
   "source": [
    "To find the most frequent paths to those Final Stops(destinations)"
   ]
  },
  {
   "cell_type": "code",
   "execution_count": 27,
   "metadata": {
    "colab": {
     "base_uri": "https://localhost:8080/"
    },
    "id": "q5Dh9B8PuoES",
    "outputId": "7fbc6449-1640-4490-9f42-f68fe79ee820"
   },
   "outputs": [
    {
     "name": "stdout",
     "output_type": "stream",
     "text": [
      "\n",
      "Most Common Paths to Common Destination:\n",
      "\n",
      "\tDirection Reference: 0\n",
      "\tFrom: ST GEORGE FERRY\n",
      "\tTo: YUKON AV/KMART DWY\n",
      "\tNo of Trips: 21421 \n",
      "\n",
      "\tDirection Reference: 1\n",
      "\tFrom: WASHINGTON HTS GW BRIDGE\n",
      "\tTo: RANDALL AV/OLMSTEAD AV\n",
      "\tNo of Trips: 30743 \n",
      "\n"
     ]
    }
   ],
   "source": [
    "paths_to_destinations = list( map( lambda x : \n",
    "                               [ \n",
    "                                   x,\n",
    "                                   df[ df.DestinationName == x ][ \"OriginName\" ].value_counts().idxmax(),\n",
    "                                   df[ df.DestinationName == x ][ \"OriginName\" ].value_counts()[0]\n",
    "                               ],\n",
    "                               destinations\n",
    "                              )\n",
    "                         )\n",
    "\n",
    "print(\"\\nMost Common Paths to Common Destination:\\n\")\n",
    "k=0\n",
    "for i in paths_to_destinations:\n",
    "    print(\"\\tDirection Reference:\", k)\n",
    "    k+=1\n",
    "    print(\"\\tFrom:\", i[0])\n",
    "    print(\"\\tTo:\", i[1])\n",
    "    print(\"\\tNo of Trips:\", i[2],\"\\n\")"
   ]
  },
  {
   "cell_type": "markdown",
   "metadata": {
    "id": "jjqbJK8ys8Pu"
   },
   "source": [
    "\n",
    "\n",
    "---\n",
    "\n"
   ]
  },
  {
   "cell_type": "markdown",
   "metadata": {
    "id": "b9WWLpnwNf11"
   },
   "source": [
    "To find the number of buses from the above initial stops to the final stops"
   ]
  },
  {
   "cell_type": "code",
   "execution_count": 28,
   "metadata": {
    "id": "DTuKLGHtut8f"
   },
   "outputs": [],
   "source": [
    "ini_stop_0 = df[df[\"DirectionRef\"]==0]['OriginName'].mode().get(0)\n",
    "ini_stop_1 = df[df[\"DirectionRef\"]==1]['OriginName'].mode().get(0)\n",
    "fin_stop_1 = df[df[\"DirectionRef\"]==1]['DestinationName'].mode().get(0)\n",
    "fin_stop_0 = df[df[\"DirectionRef\"]==0]['DestinationName'].mode().get(0)"
   ]
  },
  {
   "cell_type": "markdown",
   "metadata": {
    "id": "_CP72mUGtSWz"
   },
   "source": [
    "The most frequent path with DirectionRef = 0"
   ]
  },
  {
   "cell_type": "code",
   "execution_count": 29,
   "metadata": {
    "colab": {
     "base_uri": "https://localhost:8080/",
     "height": 114
    },
    "id": "IFcB-jwgu_aI",
    "outputId": "4823cf35-b987-47e7-8060-48fe7c45ed1f"
   },
   "outputs": [
    {
     "name": "stderr",
     "output_type": "stream",
     "text": [
      "/usr/local/lib/python3.6/dist-packages/ipykernel_launcher.py:1: UserWarning: Boolean Series key will be reindexed to match DataFrame index.\n",
      "  \"\"\"Entry point for launching an IPython kernel.\n"
     ]
    },
    {
     "data": {
      "text/html": [
       "<div>\n",
       "<style scoped>\n",
       "    .dataframe tbody tr th:only-of-type {\n",
       "        vertical-align: middle;\n",
       "    }\n",
       "\n",
       "    .dataframe tbody tr th {\n",
       "        vertical-align: top;\n",
       "    }\n",
       "\n",
       "    .dataframe thead th {\n",
       "        text-align: right;\n",
       "    }\n",
       "</style>\n",
       "<table border=\"1\" class=\"dataframe\">\n",
       "  <thead>\n",
       "    <tr style=\"text-align: right;\">\n",
       "      <th></th>\n",
       "      <th>OriginName</th>\n",
       "      <th>DestinationName</th>\n",
       "    </tr>\n",
       "  </thead>\n",
       "  <tbody>\n",
       "    <tr>\n",
       "      <th>0</th>\n",
       "      <td>MERRICK BL/ARCHER AV</td>\n",
       "      <td>SELECT BUS BRONX ZOO via MAIN ST</td>\n",
       "    </tr>\n",
       "  </tbody>\n",
       "</table>\n",
       "</div>"
      ],
      "text/plain": [
       "             OriginName                   DestinationName\n",
       "0  MERRICK BL/ARCHER AV  SELECT BUS BRONX ZOO via MAIN ST"
      ]
     },
     "execution_count": 29,
     "metadata": {
      "tags": []
     },
     "output_type": "execute_result"
    }
   ],
   "source": [
    "(df[df[\"DirectionRef\"]==0][df['OriginName']==ini_stop_0].mode())[[\"OriginName\", \"DestinationName\"]]"
   ]
  },
  {
   "cell_type": "markdown",
   "metadata": {
    "id": "2wlPZg3rtgI3"
   },
   "source": [
    "The most frequent path with DirectionRef = 1"
   ]
  },
  {
   "cell_type": "code",
   "execution_count": 30,
   "metadata": {
    "colab": {
     "base_uri": "https://localhost:8080/",
     "height": 114
    },
    "id": "BaaONoAzvG42",
    "outputId": "ceaf2649-7cf8-4b04-b5c3-9a1e01472f3d"
   },
   "outputs": [
    {
     "name": "stderr",
     "output_type": "stream",
     "text": [
      "/usr/local/lib/python3.6/dist-packages/ipykernel_launcher.py:1: UserWarning: Boolean Series key will be reindexed to match DataFrame index.\n",
      "  \"\"\"Entry point for launching an IPython kernel.\n"
     ]
    },
    {
     "data": {
      "text/html": [
       "<div>\n",
       "<style scoped>\n",
       "    .dataframe tbody tr th:only-of-type {\n",
       "        vertical-align: middle;\n",
       "    }\n",
       "\n",
       "    .dataframe tbody tr th {\n",
       "        vertical-align: top;\n",
       "    }\n",
       "\n",
       "    .dataframe thead th {\n",
       "        text-align: right;\n",
       "    }\n",
       "</style>\n",
       "<table border=\"1\" class=\"dataframe\">\n",
       "  <thead>\n",
       "    <tr style=\"text-align: right;\">\n",
       "      <th></th>\n",
       "      <th>OriginName</th>\n",
       "      <th>DestinationName</th>\n",
       "    </tr>\n",
       "  </thead>\n",
       "  <tbody>\n",
       "    <tr>\n",
       "      <th>0</th>\n",
       "      <td>E 126 ST/2 AV</td>\n",
       "      <td>SELECT BUS SERVICE SOUTH FERRY via 2 AV</td>\n",
       "    </tr>\n",
       "  </tbody>\n",
       "</table>\n",
       "</div>"
      ],
      "text/plain": [
       "      OriginName                          DestinationName\n",
       "0  E 126 ST/2 AV  SELECT BUS SERVICE SOUTH FERRY via 2 AV"
      ]
     },
     "execution_count": 30,
     "metadata": {
      "tags": []
     },
     "output_type": "execute_result"
    }
   ],
   "source": [
    "(df[df[\"DirectionRef\"]==1][df['OriginName']==ini_stop_1].mode())[[\"OriginName\", \"DestinationName\"]]"
   ]
  },
  {
   "cell_type": "markdown",
   "metadata": {
    "id": "XzwUC5bEtp8q"
   },
   "source": [
    "To find the number of buses for the above paths"
   ]
  },
  {
   "cell_type": "code",
   "execution_count": 31,
   "metadata": {
    "colab": {
     "base_uri": "https://localhost:8080/"
    },
    "id": "xfbQC8OtvNRn",
    "outputId": "f7f4174a-a21f-47f7-d9f6-bf20cbc4f32e"
   },
   "outputs": [
    {
     "name": "stderr",
     "output_type": "stream",
     "text": [
      "/usr/local/lib/python3.6/dist-packages/ipykernel_launcher.py:1: UserWarning: Boolean Series key will be reindexed to match DataFrame index.\n",
      "  \"\"\"Entry point for launching an IPython kernel.\n"
     ]
    },
    {
     "name": "stdout",
     "output_type": "stream",
     "text": [
      "OriginName         0\n",
      "DestinationName    0\n",
      "dtype: int64 \n",
      "\n"
     ]
    },
    {
     "name": "stderr",
     "output_type": "stream",
     "text": [
      "/usr/local/lib/python3.6/dist-packages/ipykernel_launcher.py:2: UserWarning: Boolean Series key will be reindexed to match DataFrame index.\n",
      "  \n"
     ]
    },
    {
     "name": "stdout",
     "output_type": "stream",
     "text": [
      "OriginName         0\n",
      "DestinationName    0\n",
      "dtype: int64\n"
     ]
    }
   ],
   "source": [
    "print(df[df[\"DirectionRef\"]==0][df['OriginName']==ini_stop_0][[\"OriginName\", \"DestinationName\"]][df.DestinationName==fin_stop_0].count(),\"\\n\")\n",
    "print(df[df[\"DirectionRef\"]==0][df['OriginName']==ini_stop_0][[\"OriginName\", \"DestinationName\"]][df.DestinationName==fin_stop_1].count())"
   ]
  },
  {
   "cell_type": "markdown",
   "metadata": {
    "id": "bXGp61NtN6WG"
   },
   "source": [
    "We find that there are no buses directly from those most frequent initial to final stops"
   ]
  },
  {
   "cell_type": "markdown",
   "metadata": {
    "id": "fMdV9IVouTgs"
   },
   "source": [
    "\n",
    "\n",
    "---\n",
    "\n"
   ]
  },
  {
   "cell_type": "markdown",
   "metadata": {
    "id": "Xrcs2FJXpYJi"
   },
   "source": [
    "From the above results, we also find that the central tendency measures(mean, median and mode) are the same for all the numeric columns(interval type data) except for the DistanceFromStop column(ratio type data)"
   ]
  },
  {
   "cell_type": "markdown",
   "metadata": {
    "id": "Y55InuOEuZy1"
   },
   "source": [
    "\n",
    "\n",
    "---\n",
    "\n"
   ]
  },
  {
   "cell_type": "markdown",
   "metadata": {
    "id": "lptPtrgwuik3"
   },
   "source": [
    "**Distribution Type**"
   ]
  },
  {
   "cell_type": "markdown",
   "metadata": {
    "id": "WclTXc-kutrp"
   },
   "source": [
    "To identify the distribution type of data using visualizations like histograms, box-plot, kernel density estimation(kdeplot) and Quantile-Quantile(qqplot)."
   ]
  },
  {
   "cell_type": "markdown",
   "metadata": {
    "id": "0eFKvDTkvY2m"
   },
   "source": [
    "\n",
    "\n",
    "*   Origin Latitude column\n"
   ]
  },
  {
   "cell_type": "code",
   "execution_count": 32,
   "metadata": {
    "colab": {
     "base_uri": "https://localhost:8080/",
     "height": 621
    },
    "id": "x6kOIO1Mvuet",
    "outputId": "d8ff8b90-daab-4f94-ca1a-c0d620b1ef1f"
   },
   "outputs": [
    {
     "data": {
      "image/png": "[encoded data removed]",
      "text/plain": [
       "<Figure size 1080x720 with 4 Axes>"
      ]
     },
     "metadata": {
      "needs_background": "light",
      "tags": []
     },
     "output_type": "display_data"
    }
   ],
   "source": [
    "fig, a = plt.subplots(2, 2, figsize = (15, 10))\n",
    "\n",
    "a[0][0].hist(df['OriginLat'], bins=50)\n",
    "a[0][0].set_title('OriginLat histogram')\n",
    "\n",
    "sns.kdeplot(df['OriginLat'], bw_adjust=4.5, shade='blue', ax=a[0][1])\n",
    "a[0][1].set_title('OriginLat probability dist')\n",
    "\n",
    "sns.boxplot(x=df['OriginLat'], ax=a[1][0])\n",
    "a[1][0].set_title('OriginLat box plot')\n",
    "\n",
    "qqplot(df['OriginLat'], line='s', ax=a[1][1])\n",
    "a[1][1].set_title('Normal dist. test using QQ Plot')\n",
    "\n",
    "plt.show()"
   ]
  },
  {
   "cell_type": "markdown",
   "metadata": {
    "id": "rA562pGPvvcb"
   },
   "source": [
    "\n",
    "\n",
    "*   Origin Longitude column\n",
    "\n"
   ]
  },
  {
   "cell_type": "code",
   "execution_count": 33,
   "metadata": {
    "colab": {
     "base_uri": "https://localhost:8080/",
     "height": 621
    },
    "id": "e16SMPUtHQvC",
    "outputId": "c0196cb9-01cb-47e5-d78c-50d941066efb"
   },
   "outputs": [
    {
     "data": {
      "image/png": "[encoded data removed]",
      "text/plain": [
       "<Figure size 1080x720 with 4 Axes>"
      ]
     },
     "metadata": {
      "needs_background": "light",
      "tags": []
     },
     "output_type": "display_data"
    }
   ],
   "source": [
    "fig, a = plt.subplots(2, 2, figsize = (15, 10))\n",
    "\n",
    "a[0][0].hist(df['OriginLong'], bins=50)\n",
    "a[0][0].set_title('OriginLong histogram')\n",
    "\n",
    "sns.kdeplot(df['OriginLong'], bw_adjust=4.5, shade='blue', ax=a[0][1])\n",
    "a[0][1].set_title('OriginLong probability dist')\n",
    "\n",
    "sns.boxplot(x=df['OriginLong'], ax=a[1][0])\n",
    "a[1][0].set_title('OriginLong box plot')\n",
    "\n",
    "qqplot(df['OriginLong'], line='s', ax=a[1][1])\n",
    "a[1][1].set_title('Normal dist. test using QQ Plot')\n",
    "\n",
    "plt.show()"
   ]
  },
  {
   "cell_type": "markdown",
   "metadata": {
    "id": "Yk7gQV12v7LQ"
   },
   "source": [
    "\n",
    "\n",
    "*   Destination Latitude column\n",
    "\n"
   ]
  },
  {
   "cell_type": "code",
   "execution_count": 34,
   "metadata": {
    "colab": {
     "base_uri": "https://localhost:8080/",
     "height": 621
    },
    "id": "BIgmxVnXwQx-",
    "outputId": "4f03e38e-c1ab-401d-ffd1-9d4c6b50537e"
   },
   "outputs": [
    {
     "data": {
      "image/png": "[encoded data removed]",
      "text/plain": [
       "<Figure size 1080x720 with 4 Axes>"
      ]
     },
     "metadata": {
      "needs_background": "light",
      "tags": []
     },
     "output_type": "display_data"
    }
   ],
   "source": [
    "fig, a = plt.subplots(2, 2, figsize = (15, 10))\n",
    "\n",
    "a[0][0].hist(df['DestinationLat'], bins=50)\n",
    "a[0][0].set_title('DestinationLat histogram')\n",
    "\n",
    "sns.kdeplot(df['DestinationLat'], bw_adjust=4.5, shade='blue', ax=a[0][1])\n",
    "a[0][1].set_title('DestinationLat probability dist')\n",
    "\n",
    "sns.boxplot(x=df['DestinationLat'], ax=a[1][0])\n",
    "a[1][0].set_title('DestinationLat box plot')\n",
    "\n",
    "qqplot(df['DestinationLat'], line='s', ax=a[1][1])\n",
    "a[1][1].set_title('Normal dist. test using QQ Plot')\n",
    "\n",
    "plt.show()"
   ]
  },
  {
   "cell_type": "markdown",
   "metadata": {
    "id": "gtNfWXhCwRf-"
   },
   "source": [
    "*   Destination Longitude column data\n",
    "\n"
   ]
  },
  {
   "cell_type": "code",
   "execution_count": 35,
   "metadata": {
    "colab": {
     "base_uri": "https://localhost:8080/",
     "height": 621
    },
    "id": "lOwp7Bzuwb3c",
    "outputId": "0900f8c0-10d2-4708-f5dc-dd9ea43138df"
   },
   "outputs": [
    {
     "data": {
      "image/png": "[encoded data removed]",
      "text/plain": [
       "<Figure size 1080x720 with 4 Axes>"
      ]
     },
     "metadata": {
      "needs_background": "light",
      "tags": []
     },
     "output_type": "display_data"
    }
   ],
   "source": [
    "fig, a = plt.subplots(2, 2, figsize = (15, 10))\n",
    "\n",
    "a[0][0].hist(df['DestinationLong'], bins=50)\n",
    "a[0][0].set_title('DestinationLong histogram')\n",
    "\n",
    "sns.kdeplot(df['DestinationLong'], bw_adjust=4.5, shade='blue', ax=a[0][1])\n",
    "a[0][1].set_title('DestinationLong probability dist')\n",
    "\n",
    "sns.boxplot(x=df['DestinationLong'], ax=a[1][0])\n",
    "a[1][0].set_title('DestinationLong box plot')\n",
    "\n",
    "qqplot(df['DestinationLong'], line='s', ax=a[1][1])\n",
    "a[1][1].set_title('Normal dist. test using QQ Plot')\n",
    "\n",
    "plt.show()"
   ]
  },
  {
   "cell_type": "markdown",
   "metadata": {
    "id": "SSl4eOkzwc7F"
   },
   "source": [
    "\n",
    "\n",
    "*   Vehicle Location Latitude column\n",
    "\n",
    "\n",
    "\n"
   ]
  },
  {
   "cell_type": "code",
   "execution_count": 36,
   "metadata": {
    "colab": {
     "base_uri": "https://localhost:8080/",
     "height": 621
    },
    "id": "VnZTkTmxID9B",
    "outputId": "3e89e472-e038-42c6-a456-6febc6abe339"
   },
   "outputs": [
    {
     "data": {
      "image/png": "[encoded data removed]",
      "text/plain": [
       "<Figure size 1080x720 with 4 Axes>"
      ]
     },
     "metadata": {
      "needs_background": "light",
      "tags": []
     },
     "output_type": "display_data"
    }
   ],
   "source": [
    "fig, a = plt.subplots(2, 2, figsize = (15, 10))\n",
    "\n",
    "a[0][0].hist(df['VehicleLocation.Latitude'], bins=50)\n",
    "a[0][0].set_title('VehicleLocation.Latitude histogram')\n",
    "\n",
    "sns.kdeplot(df['VehicleLocation.Latitude'], bw_adjust=4.5, shade='blue', ax=a[0][1])\n",
    "a[0][1].set_title('VehicleLocation.Latitude probability dist.')\n",
    "\n",
    "sns.boxplot(x=df['VehicleLocation.Latitude'], ax=a[1][0])\n",
    "a[1][0].set_title('VehicleLocation.Latitude box plot')\n",
    "\n",
    "qqplot(df['VehicleLocation.Latitude'], line='s', ax=a[1][1])\n",
    "a[1][1].set_title('Normal dist. test using QQ Plot')\n",
    "\n",
    "plt.show()"
   ]
  },
  {
   "cell_type": "markdown",
   "metadata": {
    "id": "uHy8xeOWw0-J"
   },
   "source": [
    "\n",
    "\n",
    "*   Vehicle Location Longitude column\n",
    "\n"
   ]
  },
  {
   "cell_type": "code",
   "execution_count": 37,
   "metadata": {
    "colab": {
     "base_uri": "https://localhost:8080/",
     "height": 621
    },
    "id": "tyKkgXtZJACC",
    "outputId": "d13e46ae-fd53-4195-decf-94e5053f021d"
   },
   "outputs": [
    {
     "data": {
      "image/png": "[encoded data removed]",
      "text/plain": [
       "<Figure size 1080x720 with 4 Axes>"
      ]
     },
     "metadata": {
      "needs_background": "light",
      "tags": []
     },
     "output_type": "display_data"
    }
   ],
   "source": [
    "fig, a = plt.subplots(2, 2, figsize = (15, 10))\n",
    "\n",
    "a[0][0].hist(df['VehicleLocation.Longitude'], bins=50)\n",
    "a[0][0].set_title('VehicleLocation.Longitude histogram')\n",
    "\n",
    "sns.kdeplot(df['VehicleLocation.Longitude'], bw_adjust=4.5, shade='blue', ax=a[0][1])\n",
    "a[0][1].set_title('VehicleLocation.Longitude probability dist.')\n",
    "\n",
    "sns.boxplot(x=df['VehicleLocation.Longitude'], ax=a[1][0])\n",
    "a[1][0].set_title('VehicleLocation.Longitude box plot')\n",
    "\n",
    "qqplot(df['VehicleLocation.Longitude'], line='s', ax=a[1][1])\n",
    "a[1][1].set_title('Normal dist. test using QQ Plot')\n",
    "\n",
    "plt.show()"
   ]
  },
  {
   "cell_type": "markdown",
   "metadata": {
    "id": "qxQ-G6P2zAgW"
   },
   "source": [
    "The above plots show that, the data follows normal distribution although there is a slight deviation from the actual distribution owing to the presence of certain outliers and the fact that no real time data can be perfect. Adding to the above observations we've also pointed that the central tendency measures are all equal which is usually the case when the data follows a normal distribution."
   ]
  },
  {
   "cell_type": "markdown",
   "metadata": {
    "id": "1ruGXtviqnCM"
   },
   "source": [
    "To confirm that VehicleLocation.Longitude follows normal distribution, ks test is performed<br>\n",
    "H0: Does not follow normal distribution<br>\n",
    "H1: Follows a normal distribution"
   ]
  },
  {
   "cell_type": "code",
   "execution_count": 38,
   "metadata": {
    "colab": {
     "base_uri": "https://localhost:8080/"
    },
    "id": "24jb8GdgtfH8",
    "outputId": "6abfae92-faf6-4da8-8c5a-9c7fcf9f192d"
   },
   "outputs": [
    {
     "data": {
      "text/plain": [
       "KstestResult(statistic=1.0, pvalue=0.0)"
      ]
     },
     "execution_count": 38,
     "metadata": {
      "tags": []
     },
     "output_type": "execute_result"
    }
   ],
   "source": [
    "from scipy import stats\n",
    "\n",
    "stats.kstest(df['VehicleLocation.Longitude'], 'norm')"
   ]
  },
  {
   "cell_type": "markdown",
   "metadata": {
    "id": "S54DRl6rYI8_"
   },
   "source": [
    "From the above test, we can observe that the null hypothesis is being rejected which implies that the VehicleLocation.Longitude follows a normal distribution. And an absolute 0.0(p value), is assumed to be a very small value which could be due to the size of the dataset and the presence of certain outliers."
   ]
  },
  {
   "cell_type": "markdown",
   "metadata": {
    "id": "qbFZWl7U1uSG"
   },
   "source": [
    "\n",
    "\n",
    "---\n",
    "\n"
   ]
  },
  {
   "cell_type": "markdown",
   "metadata": {
    "id": "4wdlda9A1wc1"
   },
   "source": [
    "\n",
    "\n",
    "*   Distance From Stop column\n",
    "\n"
   ]
  },
  {
   "cell_type": "code",
   "execution_count": 39,
   "metadata": {
    "colab": {
     "base_uri": "https://localhost:8080/",
     "height": 350
    },
    "id": "QNDeJTEhfab1",
    "outputId": "88e6200f-d110-49d8-a957-3352ef1330af"
   },
   "outputs": [
    {
     "data": {
      "image/png": "[encoded data removed]",
      "text/plain": [
       "<Figure size 1080x360 with 2 Axes>"
      ]
     },
     "metadata": {
      "needs_background": "light",
      "tags": []
     },
     "output_type": "display_data"
    }
   ],
   "source": [
    "fig, a = plt.subplots(1, 2, figsize = (15, 5))\n",
    "\n",
    "a[0].hist(df['DistanceFromStop'], bins=50)\n",
    "a[0].set_title('DistanceFromStop histogram')\n",
    "\n",
    "sns.kdeplot(df['DistanceFromStop'], bw_adjust=4.5, shade='blue', ax=a[1])\n",
    "a[1].set_title('DistanceFromStop probability dist.')\n",
    "\n",
    "plt.show()"
   ]
  },
  {
   "cell_type": "markdown",
   "metadata": {
    "id": "v5bxmQQ52WwG"
   },
   "source": [
    "The above plots show that DistanceFromStop follows an exponential distribution because the number of buses reaching the intended stop grows exponentially."
   ]
  },
  {
   "cell_type": "markdown",
   "metadata": {
    "id": "E_umG_CP4M46"
   },
   "source": [
    "\n",
    "\n",
    "---\n",
    "\n"
   ]
  },
  {
   "cell_type": "markdown",
   "metadata": {
    "id": "5TYp4qJhBBRw"
   },
   "source": [
    "To find the frequency of buses on days of the week and hours of the day"
   ]
  },
  {
   "cell_type": "code",
   "execution_count": 40,
   "metadata": {
    "colab": {
     "base_uri": "https://localhost:8080/",
     "height": 204
    },
    "id": "hzFW1f2c9XaH",
    "outputId": "8c4df034-1609-4215-b7a6-a724657067f7"
   },
   "outputs": [
    {
     "data": {
      "text/html": [
       "<div>\n",
       "<style scoped>\n",
       "    .dataframe tbody tr th:only-of-type {\n",
       "        vertical-align: middle;\n",
       "    }\n",
       "\n",
       "    .dataframe tbody tr th {\n",
       "        vertical-align: top;\n",
       "    }\n",
       "\n",
       "    .dataframe thead th {\n",
       "        text-align: right;\n",
       "    }\n",
       "</style>\n",
       "<table border=\"1\" class=\"dataframe\">\n",
       "  <thead>\n",
       "    <tr style=\"text-align: right;\">\n",
       "      <th></th>\n",
       "      <th>RecordedAtTime</th>\n",
       "      <th>Hour</th>\n",
       "      <th>Date</th>\n",
       "      <th>Day</th>\n",
       "    </tr>\n",
       "  </thead>\n",
       "  <tbody>\n",
       "    <tr>\n",
       "      <th>0</th>\n",
       "      <td>2017-06-01 00:03:34</td>\n",
       "      <td>0</td>\n",
       "      <td>2017-06-01</td>\n",
       "      <td>Thursday</td>\n",
       "    </tr>\n",
       "    <tr>\n",
       "      <th>1</th>\n",
       "      <td>2017-06-01 00:03:43</td>\n",
       "      <td>0</td>\n",
       "      <td>2017-06-01</td>\n",
       "      <td>Thursday</td>\n",
       "    </tr>\n",
       "    <tr>\n",
       "      <th>2</th>\n",
       "      <td>2017-06-01 00:03:49</td>\n",
       "      <td>0</td>\n",
       "      <td>2017-06-01</td>\n",
       "      <td>Thursday</td>\n",
       "    </tr>\n",
       "    <tr>\n",
       "      <th>3</th>\n",
       "      <td>2017-06-01 00:03:31</td>\n",
       "      <td>0</td>\n",
       "      <td>2017-06-01</td>\n",
       "      <td>Thursday</td>\n",
       "    </tr>\n",
       "    <tr>\n",
       "      <th>4</th>\n",
       "      <td>2017-06-01 00:03:22</td>\n",
       "      <td>0</td>\n",
       "      <td>2017-06-01</td>\n",
       "      <td>Thursday</td>\n",
       "    </tr>\n",
       "  </tbody>\n",
       "</table>\n",
       "</div>"
      ],
      "text/plain": [
       "       RecordedAtTime  Hour        Date       Day\n",
       "0 2017-06-01 00:03:34     0  2017-06-01  Thursday\n",
       "1 2017-06-01 00:03:43     0  2017-06-01  Thursday\n",
       "2 2017-06-01 00:03:49     0  2017-06-01  Thursday\n",
       "3 2017-06-01 00:03:31     0  2017-06-01  Thursday\n",
       "4 2017-06-01 00:03:22     0  2017-06-01  Thursday"
      ]
     },
     "execution_count": 40,
     "metadata": {
      "tags": []
     },
     "output_type": "execute_result"
    }
   ],
   "source": [
    "df['RecordedAtTime']=pd.to_datetime(df['RecordedAtTime'])\n",
    "df_temp=pd.DataFrame(df['RecordedAtTime'])\n",
    "df_temp['Hour'] = df['RecordedAtTime'].dt.hour\n",
    "df_temp['Date'] = df['RecordedAtTime'].dt.date\n",
    "df_temp['Day'] = df['RecordedAtTime'].dt.day_name()\n",
    "\n",
    "df_temp.head()"
   ]
  },
  {
   "cell_type": "code",
   "execution_count": 41,
   "metadata": {
    "colab": {
     "base_uri": "https://localhost:8080/",
     "height": 290
    },
    "id": "fGW5nNHWDDm9",
    "outputId": "e8d58ef7-1110-4cfd-a9f9-b827ce67e733"
   },
   "outputs": [
    {
     "data": {
      "image/png": "[encoded data removed]",
      "text/plain": [
       "<Figure size 432x288 with 1 Axes>"
      ]
     },
     "metadata": {
      "needs_background": "light",
      "tags": []
     },
     "output_type": "display_data"
    }
   ],
   "source": [
    "order=['Sunday', 'Monday', 'Tuesday', 'Wednesday', 'Thursday', 'Friday', 'Saturday']\n",
    "sns.countplot(x='Day', order=order, data=df_temp)\n",
    "plt.show()"
   ]
  },
  {
   "cell_type": "code",
   "execution_count": 42,
   "metadata": {
    "colab": {
     "base_uri": "https://localhost:8080/",
     "height": 279
    },
    "id": "ZVX4QlTPIgLm",
    "outputId": "a748de0d-c8ae-4687-a87c-c604dcdc91f4"
   },
   "outputs": [
    {
     "data": {
      "image/png": "[encoded data removed]",
      "text/plain": [
       "<Figure size 432x288 with 1 Axes>"
      ]
     },
     "metadata": {
      "needs_background": "light",
      "tags": []
     },
     "output_type": "display_data"
    }
   ],
   "source": [
    "sns.countplot(x='Hour', data=df_temp)\n",
    "plt.show()"
   ]
  },
  {
   "cell_type": "markdown",
   "metadata": {
    "id": "22EpLc8u5i4u"
   },
   "source": [
    "\n",
    "\n",
    "---\n",
    "\n"
   ]
  },
  {
   "cell_type": "markdown",
   "metadata": {
    "id": "nIs21Ml35NaQ"
   },
   "source": [
    "To calculate the delay in reaching the next stop"
   ]
  },
  {
   "cell_type": "code",
   "execution_count": null,
   "metadata": {
    "id": "xAuc_oP1-DnD"
   },
   "outputs": [],
   "source": [
    "df['Delay'] = (df['ExpectedArrivalTime'] - df['ScheduledArrivalTime'])\n",
    "df['Delay'] = df['Delay']/np.timedelta64(1, 'm')\n",
    "df.loc[df['Delay'] < 0, 'Delay'] = 0"
   ]
  },
  {
   "cell_type": "code",
   "execution_count": 44,
   "metadata": {
    "colab": {
     "base_uri": "https://localhost:8080/",
     "height": 764
    },
    "id": "0PAMzPnQr6aI",
    "outputId": "40921053-a86a-4415-b9e4-01687545c2c8"
   },
   "outputs": [
    {
     "data": {
      "text/html": [
       "<div>\n",
       "<style scoped>\n",
       "    .dataframe tbody tr th:only-of-type {\n",
       "        vertical-align: middle;\n",
       "    }\n",
       "\n",
       "    .dataframe tbody tr th {\n",
       "        vertical-align: top;\n",
       "    }\n",
       "\n",
       "    .dataframe thead th {\n",
       "        text-align: right;\n",
       "    }\n",
       "</style>\n",
       "<table border=\"1\" class=\"dataframe\">\n",
       "  <thead>\n",
       "    <tr style=\"text-align: right;\">\n",
       "      <th></th>\n",
       "      <th>RecordedAtTime</th>\n",
       "      <th>DirectionRef</th>\n",
       "      <th>PublishedLineName</th>\n",
       "      <th>OriginName</th>\n",
       "      <th>OriginLat</th>\n",
       "      <th>OriginLong</th>\n",
       "      <th>DestinationName</th>\n",
       "      <th>DestinationLat</th>\n",
       "      <th>DestinationLong</th>\n",
       "      <th>VehicleRef</th>\n",
       "      <th>VehicleLocation.Latitude</th>\n",
       "      <th>VehicleLocation.Longitude</th>\n",
       "      <th>NextStopPointName</th>\n",
       "      <th>ArrivalProximityText</th>\n",
       "      <th>DistanceFromStop</th>\n",
       "      <th>ExpectedArrivalTime</th>\n",
       "      <th>ScheduledArrivalTime</th>\n",
       "      <th>Delay</th>\n",
       "    </tr>\n",
       "  </thead>\n",
       "  <tbody>\n",
       "    <tr>\n",
       "      <th>0</th>\n",
       "      <td>2017-06-01 00:03:34</td>\n",
       "      <td>0</td>\n",
       "      <td>B8</td>\n",
       "      <td>4 AV/95 ST</td>\n",
       "      <td>40.616104</td>\n",
       "      <td>-74.031143</td>\n",
       "      <td>BROWNSVILLE ROCKAWAY AV</td>\n",
       "      <td>40.656048</td>\n",
       "      <td>-73.907379</td>\n",
       "      <td>NYCT_430</td>\n",
       "      <td>40.635170</td>\n",
       "      <td>-73.960803</td>\n",
       "      <td>FOSTER AV/E 18 ST</td>\n",
       "      <td>approaching</td>\n",
       "      <td>76.0</td>\n",
       "      <td>2017-06-01 00:03:59</td>\n",
       "      <td>2017-06-01 00:06:14</td>\n",
       "      <td>0.000000</td>\n",
       "    </tr>\n",
       "    <tr>\n",
       "      <th>1</th>\n",
       "      <td>2017-06-01 00:03:43</td>\n",
       "      <td>1</td>\n",
       "      <td>S61</td>\n",
       "      <td>ST GEORGE FERRY/S61 &amp; S91</td>\n",
       "      <td>40.643169</td>\n",
       "      <td>-74.073494</td>\n",
       "      <td>S I MALL YUKON AV</td>\n",
       "      <td>40.575935</td>\n",
       "      <td>-74.167686</td>\n",
       "      <td>NYCT_8263</td>\n",
       "      <td>40.590802</td>\n",
       "      <td>-74.158340</td>\n",
       "      <td>MERRYMOUNT ST/TRAVIS AV</td>\n",
       "      <td>approaching</td>\n",
       "      <td>62.0</td>\n",
       "      <td>2017-06-01 00:03:56</td>\n",
       "      <td>2017-05-31 23:58:02</td>\n",
       "      <td>5.900000</td>\n",
       "    </tr>\n",
       "    <tr>\n",
       "      <th>2</th>\n",
       "      <td>2017-06-01 00:03:49</td>\n",
       "      <td>0</td>\n",
       "      <td>Bx10</td>\n",
       "      <td>E 206 ST/BAINBRIDGE AV</td>\n",
       "      <td>40.875008</td>\n",
       "      <td>-73.880142</td>\n",
       "      <td>RIVERDALE 263 ST</td>\n",
       "      <td>40.912376</td>\n",
       "      <td>-73.902534</td>\n",
       "      <td>NYCT_4223</td>\n",
       "      <td>40.886010</td>\n",
       "      <td>-73.912647</td>\n",
       "      <td>HENRY HUDSON PKY E/W 235 ST</td>\n",
       "      <td>at stop</td>\n",
       "      <td>5.0</td>\n",
       "      <td>2017-06-01 00:03:56</td>\n",
       "      <td>2017-06-01 00:00:53</td>\n",
       "      <td>3.050000</td>\n",
       "    </tr>\n",
       "    <tr>\n",
       "      <th>3</th>\n",
       "      <td>2017-06-01 00:03:31</td>\n",
       "      <td>0</td>\n",
       "      <td>Q5</td>\n",
       "      <td>TEARDROP/LAYOVER</td>\n",
       "      <td>40.701748</td>\n",
       "      <td>-73.802399</td>\n",
       "      <td>ROSEDALE LIRR STA via MERRICK</td>\n",
       "      <td>40.666012</td>\n",
       "      <td>-73.735939</td>\n",
       "      <td>NYCT_8422</td>\n",
       "      <td>40.668002</td>\n",
       "      <td>-73.729348</td>\n",
       "      <td>HOOK CREEK BL/SUNRISE HY</td>\n",
       "      <td>&lt; 1 stop away</td>\n",
       "      <td>267.0</td>\n",
       "      <td>2017-06-01 00:04:03</td>\n",
       "      <td>2017-06-01 00:03:00</td>\n",
       "      <td>1.050000</td>\n",
       "    </tr>\n",
       "    <tr>\n",
       "      <th>4</th>\n",
       "      <td>2017-06-01 00:03:22</td>\n",
       "      <td>1</td>\n",
       "      <td>Bx1</td>\n",
       "      <td>RIVERDALE AV/W 231 ST</td>\n",
       "      <td>40.881187</td>\n",
       "      <td>-73.909340</td>\n",
       "      <td>MOTT HAVEN 136 ST via CONCOURSE</td>\n",
       "      <td>40.809654</td>\n",
       "      <td>-73.928360</td>\n",
       "      <td>NYCT_4710</td>\n",
       "      <td>40.868134</td>\n",
       "      <td>-73.893032</td>\n",
       "      <td>GRAND CONCOURSE/E 196 ST</td>\n",
       "      <td>at stop</td>\n",
       "      <td>11.0</td>\n",
       "      <td>2017-06-01 00:03:56</td>\n",
       "      <td>2017-05-31 23:59:38</td>\n",
       "      <td>4.300000</td>\n",
       "    </tr>\n",
       "    <tr>\n",
       "      <th>5</th>\n",
       "      <td>2017-06-01 00:03:40</td>\n",
       "      <td>0</td>\n",
       "      <td>M1</td>\n",
       "      <td>4 AV/E 10 ST</td>\n",
       "      <td>40.731342</td>\n",
       "      <td>-73.990288</td>\n",
       "      <td>HARLEM 147 ST via MADISON</td>\n",
       "      <td>40.821110</td>\n",
       "      <td>-73.935898</td>\n",
       "      <td>NYCT_3831</td>\n",
       "      <td>40.792897</td>\n",
       "      <td>-73.950023</td>\n",
       "      <td>MADISON AV/E 106 ST</td>\n",
       "      <td>approaching</td>\n",
       "      <td>73.0</td>\n",
       "      <td>2017-06-01 00:03:56</td>\n",
       "      <td>2017-06-01 00:02:35</td>\n",
       "      <td>1.350000</td>\n",
       "    </tr>\n",
       "    <tr>\n",
       "      <th>6</th>\n",
       "      <td>2017-06-01 00:03:24</td>\n",
       "      <td>0</td>\n",
       "      <td>B31</td>\n",
       "      <td>GERRITSEN AV/GERRITSEN BEACH</td>\n",
       "      <td>40.587101</td>\n",
       "      <td>-73.918503</td>\n",
       "      <td>MIDWOOD KINGS HWY STA</td>\n",
       "      <td>40.608433</td>\n",
       "      <td>-73.957100</td>\n",
       "      <td>NYCT_4611</td>\n",
       "      <td>40.587024</td>\n",
       "      <td>-73.918623</td>\n",
       "      <td>GERRITSEN AV/GERRITSEN BEACH</td>\n",
       "      <td>at stop</td>\n",
       "      <td>0.0</td>\n",
       "      <td>2017-06-01 00:03:24</td>\n",
       "      <td>2017-06-01 00:08:00</td>\n",
       "      <td>0.000000</td>\n",
       "    </tr>\n",
       "    <tr>\n",
       "      <th>7</th>\n",
       "      <td>2017-06-01 00:03:29</td>\n",
       "      <td>0</td>\n",
       "      <td>B83</td>\n",
       "      <td>GATEWAY CTR TERM/GATEWAY DR</td>\n",
       "      <td>40.652649</td>\n",
       "      <td>-73.877029</td>\n",
       "      <td>BWAY JCT VN SNDRN AV</td>\n",
       "      <td>40.678139</td>\n",
       "      <td>-73.903572</td>\n",
       "      <td>NYCT_4841</td>\n",
       "      <td>40.648801</td>\n",
       "      <td>-73.882682</td>\n",
       "      <td>PENNSYLVANIA AV/DELMAR LOOP N</td>\n",
       "      <td>&lt; 1 stop away</td>\n",
       "      <td>196.0</td>\n",
       "      <td>2017-06-01 00:04:13</td>\n",
       "      <td>2017-05-31 23:58:47</td>\n",
       "      <td>5.433333</td>\n",
       "    </tr>\n",
       "    <tr>\n",
       "      <th>8</th>\n",
       "      <td>2017-06-01 00:03:27</td>\n",
       "      <td>0</td>\n",
       "      <td>B82</td>\n",
       "      <td>STILLWELL TERMINAL BUS LOOP</td>\n",
       "      <td>40.577080</td>\n",
       "      <td>-73.981293</td>\n",
       "      <td>SPRING CRK TWRS SEAVIEW AV via KINGS HWY</td>\n",
       "      <td>40.642990</td>\n",
       "      <td>-73.878326</td>\n",
       "      <td>NYCT_6592</td>\n",
       "      <td>40.632258</td>\n",
       "      <td>-73.918318</td>\n",
       "      <td>FLATLANDS AV/RALPH AV</td>\n",
       "      <td>approaching</td>\n",
       "      <td>35.0</td>\n",
       "      <td>2017-06-01 00:03:56</td>\n",
       "      <td>2017-06-01 00:00:00</td>\n",
       "      <td>3.933333</td>\n",
       "    </tr>\n",
       "    <tr>\n",
       "      <th>9</th>\n",
       "      <td>2017-06-01 00:03:51</td>\n",
       "      <td>1</td>\n",
       "      <td>S59</td>\n",
       "      <td>RICHMOND TER/PARK AV #3</td>\n",
       "      <td>40.640167</td>\n",
       "      <td>-74.130966</td>\n",
       "      <td>HYLAN BL</td>\n",
       "      <td>40.534260</td>\n",
       "      <td>-74.154213</td>\n",
       "      <td>NYCT_8279</td>\n",
       "      <td>40.590689</td>\n",
       "      <td>-74.165811</td>\n",
       "      <td>RICHMOND AV/NOME AV</td>\n",
       "      <td>approaching</td>\n",
       "      <td>31.0</td>\n",
       "      <td>2017-06-01 00:03:56</td>\n",
       "      <td>2017-06-01 00:01:14</td>\n",
       "      <td>2.700000</td>\n",
       "    </tr>\n",
       "    <tr>\n",
       "      <th>10</th>\n",
       "      <td>2017-06-01 00:03:48</td>\n",
       "      <td>0</td>\n",
       "      <td>Bx28</td>\n",
       "      <td>VALENTINE AV/E 192 ST</td>\n",
       "      <td>40.864079</td>\n",
       "      <td>-73.894615</td>\n",
       "      <td>CO-OP CITY EARHART LA via GUNHILL</td>\n",
       "      <td>40.860828</td>\n",
       "      <td>-73.822670</td>\n",
       "      <td>NYCT_8334</td>\n",
       "      <td>40.876032</td>\n",
       "      <td>-73.829543</td>\n",
       "      <td>DREISER LOOP/DEBS PL</td>\n",
       "      <td>&lt; 1 stop away</td>\n",
       "      <td>207.0</td>\n",
       "      <td>2017-06-01 00:04:29</td>\n",
       "      <td>2017-05-31 23:48:35</td>\n",
       "      <td>15.900000</td>\n",
       "    </tr>\n",
       "    <tr>\n",
       "      <th>11</th>\n",
       "      <td>2017-06-01 00:03:52</td>\n",
       "      <td>1</td>\n",
       "      <td>B1</td>\n",
       "      <td>87 ST/4 Av</td>\n",
       "      <td>40.621925</td>\n",
       "      <td>-74.028496</td>\n",
       "      <td>MANHATTAN BEACH KINGSBORO CC</td>\n",
       "      <td>40.578094</td>\n",
       "      <td>-73.940170</td>\n",
       "      <td>NYCT_7141</td>\n",
       "      <td>40.602164</td>\n",
       "      <td>-73.994162</td>\n",
       "      <td>86 ST/BAY PY</td>\n",
       "      <td>at stop</td>\n",
       "      <td>22.0</td>\n",
       "      <td>2017-06-01 00:03:57</td>\n",
       "      <td>2017-06-01 00:05:55</td>\n",
       "      <td>0.000000</td>\n",
       "    </tr>\n",
       "  </tbody>\n",
       "</table>\n",
       "</div>"
      ],
      "text/plain": [
       "        RecordedAtTime  DirectionRef  ... ScheduledArrivalTime      Delay\n",
       "0  2017-06-01 00:03:34             0  ...  2017-06-01 00:06:14   0.000000\n",
       "1  2017-06-01 00:03:43             1  ...  2017-05-31 23:58:02   5.900000\n",
       "2  2017-06-01 00:03:49             0  ...  2017-06-01 00:00:53   3.050000\n",
       "3  2017-06-01 00:03:31             0  ...  2017-06-01 00:03:00   1.050000\n",
       "4  2017-06-01 00:03:22             1  ...  2017-05-31 23:59:38   4.300000\n",
       "5  2017-06-01 00:03:40             0  ...  2017-06-01 00:02:35   1.350000\n",
       "6  2017-06-01 00:03:24             0  ...  2017-06-01 00:08:00   0.000000\n",
       "7  2017-06-01 00:03:29             0  ...  2017-05-31 23:58:47   5.433333\n",
       "8  2017-06-01 00:03:27             0  ...  2017-06-01 00:00:00   3.933333\n",
       "9  2017-06-01 00:03:51             1  ...  2017-06-01 00:01:14   2.700000\n",
       "10 2017-06-01 00:03:48             0  ...  2017-05-31 23:48:35  15.900000\n",
       "11 2017-06-01 00:03:52             1  ...  2017-06-01 00:05:55   0.000000\n",
       "\n",
       "[12 rows x 18 columns]"
      ]
     },
     "execution_count": 44,
     "metadata": {
      "tags": []
     },
     "output_type": "execute_result"
    }
   ],
   "source": [
    "df.head(12)"
   ]
  },
  {
   "cell_type": "markdown",
   "metadata": {
    "id": "NzezLmIZQczG"
   },
   "source": [
    "To calculate the average delay one could expect on different days of the week"
   ]
  },
  {
   "cell_type": "code",
   "execution_count": 45,
   "metadata": {
    "colab": {
     "base_uri": "https://localhost:8080/",
     "height": 497
    },
    "id": "HE-O9sLl2e-r",
    "outputId": "4dd54a25-15b9-475d-8b72-db7439bb2660"
   },
   "outputs": [
    {
     "name": "stdout",
     "output_type": "stream",
     "text": [
      "RecordedAtTime\n",
      "Monday       4.847691\n",
      "Tuesday      5.489396\n",
      "Thursday     6.216857\n",
      "Wednesday    6.329653\n",
      "Friday       6.467868\n",
      "Sunday       6.847567\n",
      "Saturday     6.979578\n",
      "Name: Delay, dtype: float64\n"
     ]
    },
    {
     "data": {
      "text/plain": [
       "<matplotlib.axes._subplots.AxesSubplot at 0x7f1406db53c8>"
      ]
     },
     "execution_count": 45,
     "metadata": {
      "tags": []
     },
     "output_type": "execute_result"
    },
    {
     "data": {
      "image/png": "[encoded data removed]",
      "text/plain": [
       "<Figure size 432x288 with 1 Axes>"
      ]
     },
     "metadata": {
      "needs_background": "light",
      "tags": []
     },
     "output_type": "display_data"
    }
   ],
   "source": [
    "df_delay = df.groupby(df['RecordedAtTime'].dt.day_name())['Delay'].mean().sort_values()\n",
    "print(df_delay)\n",
    "df_delay.plot.bar()"
   ]
  },
  {
   "cell_type": "markdown",
   "metadata": {
    "id": "hMWfilU3Qwrp"
   },
   "source": [
    "The above plot shows that the delay is maximum during the weekend(Saturday, Sunday), moderate during the mid week(Wednesday, Thursday, Friday) and slightly lesser during the start of the week(Monday, Tuesday)."
   ]
  },
  {
   "cell_type": "markdown",
   "metadata": {
    "id": "FIeULL8QRet6"
   },
   "source": [
    "To find the busiest line"
   ]
  },
  {
   "cell_type": "code",
   "execution_count": 46,
   "metadata": {
    "colab": {
     "base_uri": "https://localhost:8080/",
     "height": 151
    },
    "id": "wQywgwuUu0QR",
    "outputId": "6416f5b5-3dcd-4b8f-c3f8-7e0b8270a373"
   },
   "outputs": [
    {
     "data": {
      "text/html": [
       "<div>\n",
       "<style scoped>\n",
       "    .dataframe tbody tr th:only-of-type {\n",
       "        vertical-align: middle;\n",
       "    }\n",
       "\n",
       "    .dataframe tbody tr th {\n",
       "        vertical-align: top;\n",
       "    }\n",
       "\n",
       "    .dataframe thead th {\n",
       "        text-align: right;\n",
       "    }\n",
       "</style>\n",
       "<table border=\"1\" class=\"dataframe\">\n",
       "  <thead>\n",
       "    <tr style=\"text-align: right;\">\n",
       "      <th></th>\n",
       "      <th>RecordedAtTime</th>\n",
       "      <th>DirectionRef</th>\n",
       "      <th>PublishedLineName</th>\n",
       "      <th>OriginName</th>\n",
       "      <th>OriginLat</th>\n",
       "      <th>OriginLong</th>\n",
       "      <th>DestinationName</th>\n",
       "      <th>DestinationLat</th>\n",
       "      <th>DestinationLong</th>\n",
       "      <th>VehicleRef</th>\n",
       "      <th>VehicleLocation.Latitude</th>\n",
       "      <th>VehicleLocation.Longitude</th>\n",
       "      <th>NextStopPointName</th>\n",
       "      <th>ArrivalProximityText</th>\n",
       "      <th>DistanceFromStop</th>\n",
       "      <th>ExpectedArrivalTime</th>\n",
       "      <th>ScheduledArrivalTime</th>\n",
       "      <th>Delay</th>\n",
       "    </tr>\n",
       "  </thead>\n",
       "  <tbody>\n",
       "    <tr>\n",
       "      <th>5722618</th>\n",
       "      <td>2017-06-26 22:16:08</td>\n",
       "      <td>1</td>\n",
       "      <td>Bx6</td>\n",
       "      <td>FOOD CENTER DR/MARKET ST</td>\n",
       "      <td>40.810043</td>\n",
       "      <td>-73.876694</td>\n",
       "      <td>RIVERSIDE DR</td>\n",
       "      <td>40.836205</td>\n",
       "      <td>-73.948479</td>\n",
       "      <td>NYCT_7706</td>\n",
       "      <td>40.820484</td>\n",
       "      <td>-73.891037</td>\n",
       "      <td>HUNTS POINT AV/E 163 ST</td>\n",
       "      <td>approaching</td>\n",
       "      <td>67.0</td>\n",
       "      <td>2017-06-26 22:16:38</td>\n",
       "      <td>2017-06-26 17:16:00</td>\n",
       "      <td>300.633333</td>\n",
       "    </tr>\n",
       "  </tbody>\n",
       "</table>\n",
       "</div>"
      ],
      "text/plain": [
       "             RecordedAtTime  DirectionRef  ... ScheduledArrivalTime       Delay\n",
       "5722618 2017-06-26 22:16:08             1  ...  2017-06-26 17:16:00  300.633333\n",
       "\n",
       "[1 rows x 18 columns]"
      ]
     },
     "execution_count": 46,
     "metadata": {
      "tags": []
     },
     "output_type": "execute_result"
    }
   ],
   "source": [
    "df.loc[df['Delay'] == df['Delay'].max()]"
   ]
  },
  {
   "cell_type": "markdown",
   "metadata": {
    "id": "VtBvtOT5RriP"
   },
   "source": [
    "To find the line with minimum traffic"
   ]
  },
  {
   "cell_type": "code",
   "execution_count": 47,
   "metadata": {
    "colab": {
     "base_uri": "https://localhost:8080/",
     "height": 745
    },
    "id": "_ykJLcUuvyv5",
    "outputId": "fcdb8eca-aa87-48c8-a092-7ec3a32a7789"
   },
   "outputs": [
    {
     "data": {
      "text/html": [
       "<div>\n",
       "<style scoped>\n",
       "    .dataframe tbody tr th:only-of-type {\n",
       "        vertical-align: middle;\n",
       "    }\n",
       "\n",
       "    .dataframe tbody tr th {\n",
       "        vertical-align: top;\n",
       "    }\n",
       "\n",
       "    .dataframe thead th {\n",
       "        text-align: right;\n",
       "    }\n",
       "</style>\n",
       "<table border=\"1\" class=\"dataframe\">\n",
       "  <thead>\n",
       "    <tr style=\"text-align: right;\">\n",
       "      <th></th>\n",
       "      <th>RecordedAtTime</th>\n",
       "      <th>DirectionRef</th>\n",
       "      <th>PublishedLineName</th>\n",
       "      <th>OriginName</th>\n",
       "      <th>OriginLat</th>\n",
       "      <th>OriginLong</th>\n",
       "      <th>DestinationName</th>\n",
       "      <th>DestinationLat</th>\n",
       "      <th>DestinationLong</th>\n",
       "      <th>VehicleRef</th>\n",
       "      <th>VehicleLocation.Latitude</th>\n",
       "      <th>VehicleLocation.Longitude</th>\n",
       "      <th>NextStopPointName</th>\n",
       "      <th>ArrivalProximityText</th>\n",
       "      <th>DistanceFromStop</th>\n",
       "      <th>ExpectedArrivalTime</th>\n",
       "      <th>ScheduledArrivalTime</th>\n",
       "      <th>Delay</th>\n",
       "    </tr>\n",
       "  </thead>\n",
       "  <tbody>\n",
       "    <tr>\n",
       "      <th>0</th>\n",
       "      <td>2017-06-01 00:03:34</td>\n",
       "      <td>0</td>\n",
       "      <td>B8</td>\n",
       "      <td>4 AV/95 ST</td>\n",
       "      <td>40.616104</td>\n",
       "      <td>-74.031143</td>\n",
       "      <td>BROWNSVILLE ROCKAWAY AV</td>\n",
       "      <td>40.656048</td>\n",
       "      <td>-73.907379</td>\n",
       "      <td>NYCT_430</td>\n",
       "      <td>40.635170</td>\n",
       "      <td>-73.960803</td>\n",
       "      <td>FOSTER AV/E 18 ST</td>\n",
       "      <td>approaching</td>\n",
       "      <td>76.0</td>\n",
       "      <td>2017-06-01 00:03:59</td>\n",
       "      <td>2017-06-01 00:06:14</td>\n",
       "      <td>0.0</td>\n",
       "    </tr>\n",
       "    <tr>\n",
       "      <th>6</th>\n",
       "      <td>2017-06-01 00:03:24</td>\n",
       "      <td>0</td>\n",
       "      <td>B31</td>\n",
       "      <td>GERRITSEN AV/GERRITSEN BEACH</td>\n",
       "      <td>40.587101</td>\n",
       "      <td>-73.918503</td>\n",
       "      <td>MIDWOOD KINGS HWY STA</td>\n",
       "      <td>40.608433</td>\n",
       "      <td>-73.957100</td>\n",
       "      <td>NYCT_4611</td>\n",
       "      <td>40.587024</td>\n",
       "      <td>-73.918623</td>\n",
       "      <td>GERRITSEN AV/GERRITSEN BEACH</td>\n",
       "      <td>at stop</td>\n",
       "      <td>0.0</td>\n",
       "      <td>2017-06-01 00:03:24</td>\n",
       "      <td>2017-06-01 00:08:00</td>\n",
       "      <td>0.0</td>\n",
       "    </tr>\n",
       "    <tr>\n",
       "      <th>11</th>\n",
       "      <td>2017-06-01 00:03:52</td>\n",
       "      <td>1</td>\n",
       "      <td>B1</td>\n",
       "      <td>87 ST/4 Av</td>\n",
       "      <td>40.621925</td>\n",
       "      <td>-74.028496</td>\n",
       "      <td>MANHATTAN BEACH KINGSBORO CC</td>\n",
       "      <td>40.578094</td>\n",
       "      <td>-73.940170</td>\n",
       "      <td>NYCT_7141</td>\n",
       "      <td>40.602164</td>\n",
       "      <td>-73.994162</td>\n",
       "      <td>86 ST/BAY PY</td>\n",
       "      <td>at stop</td>\n",
       "      <td>22.0</td>\n",
       "      <td>2017-06-01 00:03:57</td>\n",
       "      <td>2017-06-01 00:05:55</td>\n",
       "      <td>0.0</td>\n",
       "    </tr>\n",
       "    <tr>\n",
       "      <th>12</th>\n",
       "      <td>2017-06-01 00:03:35</td>\n",
       "      <td>1</td>\n",
       "      <td>B26</td>\n",
       "      <td>WYCKOFF ST/PALMETTO ST</td>\n",
       "      <td>40.699150</td>\n",
       "      <td>-73.910477</td>\n",
       "      <td>DNTWN BKLYN TILLARY ST via HALSEY</td>\n",
       "      <td>40.693939</td>\n",
       "      <td>-73.990311</td>\n",
       "      <td>NYCT_6503</td>\n",
       "      <td>40.693922</td>\n",
       "      <td>-73.990411</td>\n",
       "      <td>CADMAN PZ W/TILLARY ST</td>\n",
       "      <td>approaching</td>\n",
       "      <td>47.0</td>\n",
       "      <td>2017-06-01 00:03:35</td>\n",
       "      <td>2017-06-01 00:03:35</td>\n",
       "      <td>0.0</td>\n",
       "    </tr>\n",
       "    <tr>\n",
       "      <th>15</th>\n",
       "      <td>2017-06-01 00:03:36</td>\n",
       "      <td>1</td>\n",
       "      <td>Bx31</td>\n",
       "      <td>VAN CORTLANDT PK E/E 242 ST</td>\n",
       "      <td>40.902660</td>\n",
       "      <td>-73.868378</td>\n",
       "      <td>WESTCHESTER SQ</td>\n",
       "      <td>40.841076</td>\n",
       "      <td>-73.842850</td>\n",
       "      <td>NYCT_274</td>\n",
       "      <td>40.841608</td>\n",
       "      <td>-73.843465</td>\n",
       "      <td>TREMONT AV/LANE AV</td>\n",
       "      <td>approaching</td>\n",
       "      <td>78.0</td>\n",
       "      <td>2017-06-01 00:03:55</td>\n",
       "      <td>2017-06-01 00:05:00</td>\n",
       "      <td>0.0</td>\n",
       "    </tr>\n",
       "    <tr>\n",
       "      <th>...</th>\n",
       "      <td>...</td>\n",
       "      <td>...</td>\n",
       "      <td>...</td>\n",
       "      <td>...</td>\n",
       "      <td>...</td>\n",
       "      <td>...</td>\n",
       "      <td>...</td>\n",
       "      <td>...</td>\n",
       "      <td>...</td>\n",
       "      <td>...</td>\n",
       "      <td>...</td>\n",
       "      <td>...</td>\n",
       "      <td>...</td>\n",
       "      <td>...</td>\n",
       "      <td>...</td>\n",
       "      <td>...</td>\n",
       "      <td>...</td>\n",
       "      <td>...</td>\n",
       "    </tr>\n",
       "    <tr>\n",
       "      <th>6730403</th>\n",
       "      <td>2017-06-30 23:53:34</td>\n",
       "      <td>0</td>\n",
       "      <td>Q12</td>\n",
       "      <td>ROOSEVELT AV/LAYOVER</td>\n",
       "      <td>40.758999</td>\n",
       "      <td>-73.831757</td>\n",
       "      <td>LITTLE NECK GLENWOOD ST VIA NORTHERN</td>\n",
       "      <td>40.771767</td>\n",
       "      <td>-73.733307</td>\n",
       "      <td>NYCT_4479</td>\n",
       "      <td>40.766541</td>\n",
       "      <td>-73.739721</td>\n",
       "      <td>NORTHERN BL/248 ST</td>\n",
       "      <td>approaching</td>\n",
       "      <td>42.0</td>\n",
       "      <td>2017-06-30 23:53:38</td>\n",
       "      <td>2017-06-30 23:57:05</td>\n",
       "      <td>0.0</td>\n",
       "    </tr>\n",
       "    <tr>\n",
       "      <th>6730408</th>\n",
       "      <td>2017-06-30 23:53:18</td>\n",
       "      <td>1</td>\n",
       "      <td>S79-SBS</td>\n",
       "      <td>4 AV/86 ST</td>\n",
       "      <td>40.622658</td>\n",
       "      <td>-74.028343</td>\n",
       "      <td>SELECT BUS SERVICE SI MALL via HYLAN</td>\n",
       "      <td>40.583351</td>\n",
       "      <td>-74.161812</td>\n",
       "      <td>NYCT_4245</td>\n",
       "      <td>40.594581</td>\n",
       "      <td>-74.086493</td>\n",
       "      <td>HYLAN BL/SEAVIEW AV</td>\n",
       "      <td>0.7 miles away</td>\n",
       "      <td>1051.0</td>\n",
       "      <td>2017-06-30 23:56:08</td>\n",
       "      <td>2017-06-30 23:56:44</td>\n",
       "      <td>0.0</td>\n",
       "    </tr>\n",
       "    <tr>\n",
       "      <th>6730411</th>\n",
       "      <td>2017-06-30 23:53:33</td>\n",
       "      <td>1</td>\n",
       "      <td>Q36</td>\n",
       "      <td>256 ST/JAMAICA AV</td>\n",
       "      <td>40.727776</td>\n",
       "      <td>-73.708687</td>\n",
       "      <td>JAMAICA 165 ST TERM</td>\n",
       "      <td>40.707615</td>\n",
       "      <td>-73.795540</td>\n",
       "      <td>NYCT_6486</td>\n",
       "      <td>40.707646</td>\n",
       "      <td>-73.795448</td>\n",
       "      <td>165 ST TERM/165 ST TERM BAY 6</td>\n",
       "      <td>at stop</td>\n",
       "      <td>0.0</td>\n",
       "      <td>2017-06-30 23:53:33</td>\n",
       "      <td>2017-06-30 23:53:33</td>\n",
       "      <td>0.0</td>\n",
       "    </tr>\n",
       "    <tr>\n",
       "      <th>6730430</th>\n",
       "      <td>2017-06-30 23:53:20</td>\n",
       "      <td>0</td>\n",
       "      <td>Bx11</td>\n",
       "      <td>W 179 ST/BROADWAY</td>\n",
       "      <td>40.849113</td>\n",
       "      <td>-73.937752</td>\n",
       "      <td>W FARMS RD SOUTHERN BL</td>\n",
       "      <td>40.825272</td>\n",
       "      <td>-73.891426</td>\n",
       "      <td>NYCT_700</td>\n",
       "      <td>40.840354</td>\n",
       "      <td>-73.922210</td>\n",
       "      <td>W 170 ST/EDWARD L GRANT HY</td>\n",
       "      <td>approaching</td>\n",
       "      <td>123.0</td>\n",
       "      <td>2017-06-30 23:54:13</td>\n",
       "      <td>2017-07-01 00:09:34</td>\n",
       "      <td>0.0</td>\n",
       "    </tr>\n",
       "    <tr>\n",
       "      <th>6730432</th>\n",
       "      <td>2017-06-30 23:53:13</td>\n",
       "      <td>1</td>\n",
       "      <td>M79-SBS</td>\n",
       "      <td>E 79 ST/EAST END AV</td>\n",
       "      <td>40.770741</td>\n",
       "      <td>-73.948715</td>\n",
       "      <td>SELECT BUS W SIDE RIVERSIDE DR CROSSTOWN</td>\n",
       "      <td>40.784988</td>\n",
       "      <td>-73.982460</td>\n",
       "      <td>NYCT_5927</td>\n",
       "      <td>40.770681</td>\n",
       "      <td>-73.948759</td>\n",
       "      <td>E 79 ST/EAST END AV</td>\n",
       "      <td>at stop</td>\n",
       "      <td>0.0</td>\n",
       "      <td>2017-06-30 23:53:13</td>\n",
       "      <td>2017-07-01 00:02:00</td>\n",
       "      <td>0.0</td>\n",
       "    </tr>\n",
       "  </tbody>\n",
       "</table>\n",
       "<p>1828683 rows × 18 columns</p>\n",
       "</div>"
      ],
      "text/plain": [
       "             RecordedAtTime  DirectionRef  ... ScheduledArrivalTime Delay\n",
       "0       2017-06-01 00:03:34             0  ...  2017-06-01 00:06:14   0.0\n",
       "6       2017-06-01 00:03:24             0  ...  2017-06-01 00:08:00   0.0\n",
       "11      2017-06-01 00:03:52             1  ...  2017-06-01 00:05:55   0.0\n",
       "12      2017-06-01 00:03:35             1  ...  2017-06-01 00:03:35   0.0\n",
       "15      2017-06-01 00:03:36             1  ...  2017-06-01 00:05:00   0.0\n",
       "...                     ...           ...  ...                  ...   ...\n",
       "6730403 2017-06-30 23:53:34             0  ...  2017-06-30 23:57:05   0.0\n",
       "6730408 2017-06-30 23:53:18             1  ...  2017-06-30 23:56:44   0.0\n",
       "6730411 2017-06-30 23:53:33             1  ...  2017-06-30 23:53:33   0.0\n",
       "6730430 2017-06-30 23:53:20             0  ...  2017-07-01 00:09:34   0.0\n",
       "6730432 2017-06-30 23:53:13             1  ...  2017-07-01 00:02:00   0.0\n",
       "\n",
       "[1828683 rows x 18 columns]"
      ]
     },
     "execution_count": 47,
     "metadata": {
      "tags": []
     },
     "output_type": "execute_result"
    }
   ],
   "source": [
    "df.loc[df['Delay'] == df['Delay'].min()]"
   ]
  },
  {
   "cell_type": "markdown",
   "metadata": {
    "id": "OQUEADog5dJe"
   },
   "source": [
    "\n",
    "\n",
    "---\n",
    "\n"
   ]
  },
  {
   "cell_type": "markdown",
   "metadata": {
    "id": "Av6rWlelBXea"
   },
   "source": [
    "To find the distance between the Origins and the Bus locations."
   ]
  },
  {
   "cell_type": "code",
   "execution_count": 48,
   "metadata": {
    "colab": {
     "base_uri": "https://localhost:8080/",
     "height": 306
    },
    "id": "WoST8B2UUT1T",
    "outputId": "47ca843e-6f66-4023-a21c-f5b9963a98f9"
   },
   "outputs": [
    {
     "name": "stderr",
     "output_type": "stream",
     "text": [
      "/usr/local/lib/python3.6/dist-packages/ipykernel_launcher.py:15: SettingWithCopyWarning: \n",
      "A value is trying to be set on a copy of a slice from a DataFrame.\n",
      "Try using .loc[row_indexer,col_indexer] = value instead\n",
      "\n",
      "See the caveats in the documentation: https://pandas.pydata.org/pandas-docs/stable/user_guide/indexing.html#returning-a-view-versus-a-copy\n",
      "  from ipykernel import kernelapp as app\n"
     ]
    },
    {
     "data": {
      "text/html": [
       "<div>\n",
       "<style scoped>\n",
       "    .dataframe tbody tr th:only-of-type {\n",
       "        vertical-align: middle;\n",
       "    }\n",
       "\n",
       "    .dataframe tbody tr th {\n",
       "        vertical-align: top;\n",
       "    }\n",
       "\n",
       "    .dataframe thead th {\n",
       "        text-align: right;\n",
       "    }\n",
       "</style>\n",
       "<table border=\"1\" class=\"dataframe\">\n",
       "  <thead>\n",
       "    <tr style=\"text-align: right;\">\n",
       "      <th></th>\n",
       "      <th>OriginLat</th>\n",
       "      <th>OriginLong</th>\n",
       "      <th>VehicleLocation.Latitude</th>\n",
       "      <th>VehicleLocation.Longitude</th>\n",
       "      <th>Distance</th>\n",
       "    </tr>\n",
       "  </thead>\n",
       "  <tbody>\n",
       "    <tr>\n",
       "      <th>0</th>\n",
       "      <td>40.616104</td>\n",
       "      <td>-74.031143</td>\n",
       "      <td>40.635170</td>\n",
       "      <td>-73.960803</td>\n",
       "      <td>6.303533</td>\n",
       "    </tr>\n",
       "    <tr>\n",
       "      <th>1</th>\n",
       "      <td>40.643169</td>\n",
       "      <td>-74.073494</td>\n",
       "      <td>40.590802</td>\n",
       "      <td>-74.158340</td>\n",
       "      <td>9.230031</td>\n",
       "    </tr>\n",
       "    <tr>\n",
       "      <th>2</th>\n",
       "      <td>40.875008</td>\n",
       "      <td>-73.880142</td>\n",
       "      <td>40.886010</td>\n",
       "      <td>-73.912647</td>\n",
       "      <td>2.994090</td>\n",
       "    </tr>\n",
       "    <tr>\n",
       "      <th>3</th>\n",
       "      <td>40.701748</td>\n",
       "      <td>-73.802399</td>\n",
       "      <td>40.668002</td>\n",
       "      <td>-73.729348</td>\n",
       "      <td>7.212602</td>\n",
       "    </tr>\n",
       "    <tr>\n",
       "      <th>4</th>\n",
       "      <td>40.881187</td>\n",
       "      <td>-73.909340</td>\n",
       "      <td>40.868134</td>\n",
       "      <td>-73.893032</td>\n",
       "      <td>1.996681</td>\n",
       "    </tr>\n",
       "  </tbody>\n",
       "</table>\n",
       "</div>"
      ],
      "text/plain": [
       "   OriginLat  OriginLong  ...  VehicleLocation.Longitude  Distance\n",
       "0  40.616104  -74.031143  ...                 -73.960803  6.303533\n",
       "1  40.643169  -74.073494  ...                 -74.158340  9.230031\n",
       "2  40.875008  -73.880142  ...                 -73.912647  2.994090\n",
       "3  40.701748  -73.802399  ...                 -73.729348  7.212602\n",
       "4  40.881187  -73.909340  ...                 -73.893032  1.996681\n",
       "\n",
       "[5 rows x 5 columns]"
      ]
     },
     "execution_count": 48,
     "metadata": {
      "tags": []
     },
     "output_type": "execute_result"
    }
   ],
   "source": [
    "from math import radians, cos, sin, asin, sqrt\n",
    "\n",
    "df_dist = df[['OriginLat', 'OriginLong', 'VehicleLocation.Latitude', 'VehicleLocation.Longitude']]\n",
    "\n",
    "diff_lat = df['VehicleLocation.Latitude'].apply(radians) - df['OriginLat'].apply(radians)\n",
    "diff_long = df['VehicleLocation.Longitude'].apply(radians) - df['OriginLong'].apply(radians)\n",
    "\n",
    "a = (diff_lat.apply(sin) / 2)**2 + (df['OriginLat'].apply(radians)).apply(cos) * (df['VehicleLocation.Latitude'].apply(radians)).apply(cos) * (diff_long.apply(sin) / 2)**2\n",
    "\n",
    "c = 2 * (a.apply(sqrt)).apply(asin)\n",
    "r = 6371\n",
    "\n",
    "dist = c*r\n",
    "\n",
    "df_dist['Distance'] = dist\n",
    "\n",
    "df_dist.head()"
   ]
  },
  {
   "cell_type": "code",
   "execution_count": 49,
   "metadata": {
    "colab": {
     "base_uri": "https://localhost:8080/",
     "height": 279
    },
    "id": "vayGDwRJgLel",
    "outputId": "56913359-8037-457f-db85-50673e86df38"
   },
   "outputs": [
    {
     "data": {
      "image/png": "[encoded data removed]",
      "text/plain": [
       "<Figure size 432x288 with 1 Axes>"
      ]
     },
     "metadata": {
      "needs_background": "light",
      "tags": []
     },
     "output_type": "display_data"
    }
   ],
   "source": [
    "sns.histplot(df_dist['Distance']);\n",
    "plt.show()"
   ]
  },
  {
   "cell_type": "markdown",
   "metadata": {
    "id": "0tEy72CMRv0W"
   },
   "source": [
    "The above plot shows that the buses are located quite closer to the origins."
   ]
  },
  {
   "cell_type": "markdown",
   "metadata": {
    "id": "3-zKymHfPZ3o"
   },
   "source": [
    "To check if there exists a relation between the Origins and the Bus locations using 2 tailed t-test<br>\n",
    "H0 - They are not related<br>\n",
    "H1 - Maybe they are related"
   ]
  },
  {
   "cell_type": "code",
   "execution_count": 50,
   "metadata": {
    "id": "A8neXI05DjDm"
   },
   "outputs": [],
   "source": [
    "from scipy import stats\n",
    "\n",
    "def ttest(col1,col2):\n",
    "    len1 = len(col1)\n",
    "    len2 = len(col2)\n",
    "\n",
    "    dof = len1 + len2 - 2\n",
    "\n",
    "    alpha = 0.05\n",
    "    two_tailed_test_prob_tail = alpha/2\n",
    "    t_critical = round(stats.t.ppf(two_tailed_test_prob_tail, dof), 3)\n",
    "    print('t-critical: ', t_critical)\n",
    "    \n",
    "    tval, pval = stats.ttest_ind(a=col1, b=col2, equal_var=False, nan_policy='omit')\n",
    "    print('t-value: ', tval)\n",
    "    print('p-value: ', pval)\n",
    "\n",
    "    # Compare the p-value with the threshold value 0.05(alpha value or confidence level)\n",
    "    if pval < 0.05:\n",
    "        print(\"Reject null hypothesis i.e, there might be a relation between the two\")\n",
    "    else:\n",
    "        print(\"Accept null hypothesis i.e, there might not be any relation between the two\")"
   ]
  },
  {
   "cell_type": "code",
   "execution_count": 51,
   "metadata": {
    "colab": {
     "base_uri": "https://localhost:8080/"
    },
    "id": "1YFJ0ZzWN1Dn",
    "outputId": "892fb6d0-e162-440c-92eb-ed85b263008c"
   },
   "outputs": [
    {
     "name": "stdout",
     "output_type": "stream",
     "text": [
      "t-critical:  -1.96\n",
      "t-value:  23.358481479151965\n",
      "p-value:  1.1363965106573582e-120\n",
      "Reject null hypothesis i.e, there might be a relation between the two\n"
     ]
    }
   ],
   "source": [
    "col1 = df_dist['OriginLat']\n",
    "col2 = df_dist['VehicleLocation.Latitude']\n",
    "\n",
    "ttest(col1,col2)"
   ]
  },
  {
   "cell_type": "code",
   "execution_count": 52,
   "metadata": {
    "colab": {
     "base_uri": "https://localhost:8080/"
    },
    "id": "scwaMEyIfp9d",
    "outputId": "fa307272-a84c-4488-9bd6-40fe60fe0d9c"
   },
   "outputs": [
    {
     "name": "stdout",
     "output_type": "stream",
     "text": [
      "t-critical:  -1.96\n",
      "t-value:  -7.967196497237545\n",
      "p-value:  1.6232702782812486e-15\n",
      "Reject null hypothesis i.e, there might be a relation between the two\n"
     ]
    }
   ],
   "source": [
    "col1 = df['OriginLong']\n",
    "col2 = df['VehicleLocation.Longitude']\n",
    "\n",
    "ttest(col1, col2)"
   ]
  },
  {
   "cell_type": "markdown",
   "metadata": {
    "id": "GDYWR6yYUnIJ"
   },
   "source": [
    "The above two results show that there is some kind of a relation between the Origins and bus locations and is not a mere coincidence."
   ]
  },
  {
   "cell_type": "markdown",
   "metadata": {
    "id": "6U7wRjlyO5W2"
   },
   "source": [
    "Relationship Analysis using Covariance and Correlation"
   ]
  },
  {
   "cell_type": "code",
   "execution_count": 53,
   "metadata": {
    "id": "-LdiK9NlEQSu"
   },
   "outputs": [],
   "source": [
    "def cov_and_corr(col1, col2):\n",
    "    print('Covariance: ', col1.cov(col2))\n",
    "    print('Correlation: ', col1.corr(col2))"
   ]
  },
  {
   "cell_type": "code",
   "execution_count": 54,
   "metadata": {
    "colab": {
     "base_uri": "https://localhost:8080/"
    },
    "id": "eoTvyBcRyTzn",
    "outputId": "c44235eb-ef6f-41b2-ceba-26daf1a992bf"
   },
   "outputs": [
    {
     "name": "stdout",
     "output_type": "stream",
     "text": [
      "Covariance:  0.0068037043326071855\n",
      "Correlation:  0.8722050585283414\n"
     ]
    }
   ],
   "source": [
    "cov_and_corr(df['OriginLat'], df['VehicleLocation.Latitude'])"
   ]
  },
  {
   "cell_type": "code",
   "execution_count": 55,
   "metadata": {
    "colab": {
     "base_uri": "https://localhost:8080/"
    },
    "id": "NiGc3wPp0zMP",
    "outputId": "d82d77f1-bf7c-4d68-8f27-384255810cb7"
   },
   "outputs": [
    {
     "name": "stdout",
     "output_type": "stream",
     "text": [
      "Covariance:  0.007072432322829774\n",
      "Correlation:  0.8455603216348153\n"
     ]
    }
   ],
   "source": [
    "cov_and_corr(df['OriginLong'], df['VehicleLocation.Longitude'])"
   ]
  },
  {
   "cell_type": "markdown",
   "metadata": {
    "id": "oDawnPfXQL_P"
   },
   "source": [
    "Although the covariance is a very small value, the corrrelation value is very high which shows that there exists a stronger relation between the two and the lower value of covariance might be due to the presence of large range of values in the columns."
   ]
  },
  {
   "cell_type": "markdown",
   "metadata": {
    "id": "ybESNPakOW-Q"
   },
   "source": [
    "**Regression analysis** over the Origin and Bus locations."
   ]
  },
  {
   "cell_type": "code",
   "execution_count": 56,
   "metadata": {
    "id": "qgCte7GrZVle"
   },
   "outputs": [],
   "source": [
    "from sklearn.model_selection import train_test_split \n",
    "from sklearn.linear_model import LinearRegression\n",
    "from sklearn import metrics\n",
    "\n",
    "def linear_regression(col1, col2):\n",
    "    X = col1.values.reshape(-1,1)\n",
    "    y = col2.values\n",
    "\n",
    "    X_train, X_test, y_train, y_test = train_test_split(X, y, test_size=0.2, random_state=0)\n",
    "\n",
    "    model = LinearRegression().fit(X_train, y_train)\n",
    "    print('Linear Regression\\n')\n",
    "    print('R2 score: ', model.score(X_test, y_test))\n",
    "    \n",
    "    print('Intercept: ',model.intercept_ , 'slope: ',model.coef_)\n",
    "\n",
    "    y_pred = model.predict(X_test)\n",
    "\n",
    "    df_test = pd.DataFrame({'Actual': y_test.flatten(), 'Predicted': y_pred.flatten()})\n",
    "    print(df_test.head())\n",
    "\n",
    "    print('Mean Absolute Error:', metrics.mean_absolute_error(y_test, y_pred))  \n",
    "    print('Mean Squared Error:', metrics.mean_squared_error(y_test, y_pred))  \n",
    "    print('Root Mean Squared Error:', np.sqrt(metrics.mean_squared_error(y_test, y_pred)))\n",
    "\n",
    "    plt.scatter(X_test, y_test)\n",
    "    plt.plot(X_test, y_pred, color='red', linewidth=2)\n",
    "    plt.show()"
   ]
  },
  {
   "cell_type": "code",
   "execution_count": 57,
   "metadata": {
    "id": "O9p5maphVO4y"
   },
   "outputs": [],
   "source": [
    "from sklearn.model_selection import train_test_split \n",
    "from sklearn.linear_model import LassoCV\n",
    "from sklearn import metrics\n",
    "\n",
    "def l1_regularize(col1, col2):\n",
    "    X = col1.values.reshape(-1,1)\n",
    "    y = col2.values\n",
    "\n",
    "    X_train, X_test, y_train, y_test = train_test_split(X, y, test_size=0.2, random_state=0)\n",
    "\n",
    "    model = LassoCV().fit(X_train, y_train)\n",
    "    print('L1-regularization\\n')\n",
    "    print('R2 score: ', model.score(X_test, y_test))\n",
    "    \n",
    "    print('Intercept: ',model.intercept_ , 'slope: ',model.coef_)\n",
    "\n",
    "    y_pred = model.predict(X_test)\n",
    "\n",
    "    df_test = pd.DataFrame({'Actual': y_test.flatten(), 'Predicted': y_pred.flatten()})\n",
    "    print(df_test.head())\n",
    "\n",
    "    print('Mean Absolute Error:', metrics.mean_absolute_error(y_test, y_pred))  \n",
    "    print('Mean Squared Error:', metrics.mean_squared_error(y_test, y_pred))  \n",
    "    print('Root Mean Squared Error:', np.sqrt(metrics.mean_squared_error(y_test, y_pred)))"
   ]
  },
  {
   "cell_type": "code",
   "execution_count": 58,
   "metadata": {
    "id": "P5vpbpTDWQ5s"
   },
   "outputs": [],
   "source": [
    "from sklearn.model_selection import train_test_split\n",
    "from sklearn.linear_model import Ridge\n",
    "from sklearn import metrics\n",
    "\n",
    "def l2_regularize(col1, col2):\n",
    "    X = col1.values.reshape(-1,1)\n",
    "    y = col2.values\n",
    "\n",
    "    X_train, X_test, y_train, y_test = train_test_split(X, y, test_size=0.2, random_state=0)\n",
    "\n",
    "    model = Ridge().fit(X_train, y_train)\n",
    "    print('L2-regularization\\n')\n",
    "    print('R2 score: ', model.score(X_test, y_test))\n",
    "    \n",
    "    print('Intercept: ',model.intercept_ , 'slope: ',model.coef_)\n",
    "\n",
    "    y_pred = model.predict(X_test)\n",
    "\n",
    "    df_test = pd.DataFrame({'Actual': y_test.flatten(), 'Predicted': y_pred.flatten()})\n",
    "    print(df_test.head())\n",
    "\n",
    "    print('Mean Absolute Error:', metrics.mean_absolute_error(y_test, y_pred))  \n",
    "    print('Mean Squared Error:', metrics.mean_squared_error(y_test, y_pred))  \n",
    "    print('Root Mean Squared Error:', np.sqrt(metrics.mean_squared_error(y_test, y_pred)))"
   ]
  },
  {
   "cell_type": "code",
   "execution_count": 59,
   "metadata": {
    "colab": {
     "base_uri": "https://localhost:8080/",
     "height": 486
    },
    "id": "uDW73pjGjuYr",
    "outputId": "2fa8c754-bed9-49dc-eaf1-93256c562a89"
   },
   "outputs": [
    {
     "name": "stdout",
     "output_type": "stream",
     "text": [
      "Linear Regression\n",
      "\n",
      "R2 score:  0.7607903790442169\n",
      "Intercept:  6.404008285551043 slope:  [0.84274033]\n",
      "      Actual  Predicted\n",
      "0  40.828773  40.811629\n",
      "1  40.810618  40.856233\n",
      "2  40.667730  40.703463\n",
      "3  40.766528  40.770145\n",
      "4  40.857864  40.874329\n",
      "Mean Absolute Error: 0.03002604222842437\n",
      "Mean Squared Error: 0.0018034920113426456\n",
      "Root Mean Squared Error: 0.042467540679236956\n"
     ]
    },
    {
     "data": {
      "image/png": "[encoded data removed]",
      "text/plain": [
       "<Figure size 432x288 with 1 Axes>"
      ]
     },
     "metadata": {
      "needs_background": "light",
      "tags": []
     },
     "output_type": "display_data"
    }
   ],
   "source": [
    "linear_regression(df_dist['OriginLat'], df_dist['VehicleLocation.Latitude'])"
   ]
  },
  {
   "cell_type": "code",
   "execution_count": 60,
   "metadata": {
    "colab": {
     "base_uri": "https://localhost:8080/"
    },
    "id": "LWLfvOsmWr50",
    "outputId": "e55e2c2e-e3fb-4e89-b570-cdf1961f9328"
   },
   "outputs": [
    {
     "name": "stdout",
     "output_type": "stream",
     "text": [
      "L1-regularization\n",
      "\n",
      "R2 score:  0.7607892009835929\n",
      "Intercept:  6.438332764272602 slope:  [0.84189759]\n",
      "      Actual  Predicted\n",
      "0  40.828773  40.811546\n",
      "1  40.810618  40.856106\n",
      "2  40.667730  40.703488\n",
      "3  40.766528  40.770103\n",
      "4  40.857864  40.874184\n",
      "Mean Absolute Error: 0.030037862597288755\n",
      "Mean Squared Error: 0.0018035008931882655\n",
      "Root Mean Squared Error: 0.04246764525127648\n"
     ]
    }
   ],
   "source": [
    "l1_regularize(df_dist['OriginLat'], df_dist['VehicleLocation.Latitude'])"
   ]
  },
  {
   "cell_type": "code",
   "execution_count": 61,
   "metadata": {
    "colab": {
     "base_uri": "https://localhost:8080/"
    },
    "id": "VcPHPaSXWzy1",
    "outputId": "4060c3cd-5d55-4f81-d914-48be106d1433"
   },
   "outputs": [
    {
     "name": "stdout",
     "output_type": "stream",
     "text": [
      "L2-regularization\n",
      "\n",
      "R2 score:  0.7607903690330489\n",
      "Intercept:  6.404797908583326 slope:  [0.84272094]\n",
      "      Actual  Predicted\n",
      "0  40.828773  40.811627\n",
      "1  40.810618  40.856230\n",
      "2  40.667730  40.703464\n",
      "3  40.766528  40.770144\n",
      "4  40.857864  40.874326\n",
      "Mean Absolute Error: 0.03002631231645048\n",
      "Mean Squared Error: 0.0018034920868206363\n",
      "Root Mean Squared Error: 0.042467541567892016\n"
     ]
    }
   ],
   "source": [
    "l2_regularize(df_dist['OriginLat'], df_dist['VehicleLocation.Latitude'])"
   ]
  },
  {
   "cell_type": "code",
   "execution_count": 62,
   "metadata": {
    "colab": {
     "base_uri": "https://localhost:8080/",
     "height": 486
    },
    "id": "O9Cjv1UylZPx",
    "outputId": "1e357c45-dc45-42ac-ef2c-3c9cc545798c"
   },
   "outputs": [
    {
     "name": "stdout",
     "output_type": "stream",
     "text": [
      "Linear Regression\n",
      "\n",
      "R2 score:  0.7149139156901281\n",
      "Intercept:  -14.562926895714028 slope:  [0.80301497]\n",
      "      Actual  Predicted\n",
      "0 -73.928095 -73.927055\n",
      "1 -73.927810 -73.913234\n",
      "2 -73.980879 -73.976055\n",
      "3 -73.982429 -73.971913\n",
      "4 -73.843480 -73.880340\n",
      "Mean Absolute Error: 0.034589795780587705\n",
      "Mean Squared Error: 0.002267915096792444\n",
      "Root Mean Squared Error: 0.04762263219092834\n"
     ]
    },
    {
     "data": {
      "image/png": "[encoded data removed]",
      "text/plain": [
       "<Figure size 432x288 with 1 Axes>"
      ]
     },
     "metadata": {
      "needs_background": "light",
      "tags": []
     },
     "output_type": "display_data"
    }
   ],
   "source": [
    "linear_regression(df_dist['OriginLong'], df_dist['VehicleLocation.Longitude'])"
   ]
  },
  {
   "cell_type": "code",
   "execution_count": 63,
   "metadata": {
    "colab": {
     "base_uri": "https://localhost:8080/"
    },
    "id": "Jam_es_ZWfTy",
    "outputId": "f8f2b530-d5b7-4fd1-d1b9-7701104fc323"
   },
   "outputs": [
    {
     "name": "stdout",
     "output_type": "stream",
     "text": [
      "L1-regularization\n",
      "\n",
      "R2 score:  0.7149108333056502\n",
      "Intercept:  -14.622294672497574 slope:  [0.80221196]\n",
      "      Actual  Predicted\n",
      "0 -73.928095 -73.927059\n",
      "1 -73.927810 -73.913251\n",
      "2 -73.980879 -73.976010\n",
      "3 -73.982429 -73.971872\n",
      "4 -73.843480 -73.880391\n",
      "Mean Absolute Error: 0.034592166764292734\n",
      "Mean Squared Error: 0.0022679396177588333\n",
      "Root Mean Squared Error: 0.047622889640999665\n"
     ]
    }
   ],
   "source": [
    "l1_regularize(df_dist['OriginLong'], df_dist['VehicleLocation.Longitude'])"
   ]
  },
  {
   "cell_type": "code",
   "execution_count": 64,
   "metadata": {
    "colab": {
     "base_uri": "https://localhost:8080/"
    },
    "id": "1tzg5oc0Wj2a",
    "outputId": "b0c1dd7b-9fb9-41b4-f4c6-5dad284c6f7a"
   },
   "outputs": [
    {
     "name": "stdout",
     "output_type": "stream",
     "text": [
      "L2-regularization\n",
      "\n",
      "R2 score:  0.7149138654038738\n",
      "Intercept:  -14.564178699843026 slope:  [0.80299804]\n",
      "      Actual  Predicted\n",
      "0 -73.928095 -73.927055\n",
      "1 -73.927810 -73.913234\n",
      "2 -73.980879 -73.976054\n",
      "3 -73.982429 -73.971912\n",
      "4 -73.843480 -73.880341\n",
      "Mean Absolute Error: 0.034589844970133336\n",
      "Mean Squared Error: 0.0022679154968293504\n",
      "Root Mean Squared Error: 0.047622636390999507\n"
     ]
    }
   ],
   "source": [
    "l2_regularize(df_dist['OriginLong'], df_dist['VehicleLocation.Longitude'])"
   ]
  },
  {
   "cell_type": "markdown",
   "metadata": {
    "id": "3YbhSmrFn_mg"
   },
   "source": [
    "From the above linear regression analysis, we found that, the goodness of fit measure(R2 score) is quite high and the error measurements are less hence proving that there is a relation between the Origins and the Vehicle Locations.\n",
    "From the l1 and l2 regularization values we can also conclude that the linear curve was an optimal fit curve since the R2 score is approximately the same as the linear regression's R2 score."
   ]
  }
 ],
 "metadata": {
  "colab": {
   "collapsed_sections": [],
   "name": "NYCB.ipynb",
   "provenance": []
  },
  "kernelspec": {
   "display_name": "Python 3",
   "language": "python",
   "name": "python3"
  },
  "language_info": {
   "codemirror_mode": {
    "name": "ipython",
    "version": 3
   },
   "file_extension": ".py",
   "mimetype": "text/x-python",
   "name": "python",
   "nbconvert_exporter": "python",
   "pygments_lexer": "ipython3",
   "version": "3.7.2"
  },
  "widgets": {
   "application/vnd.jupyter.widget-state+json": {
    "41496be6dcce48b0a5ddb336bc239b36": {
     "model_module": "jupyter-leaflet",
     "model_name": "LeafletMapModel",
     "state": {
      "_dom_classes": [],
      "_model_module": "jupyter-leaflet",
      "_model_module_version": "^0.13.2",
      "_model_name": "LeafletMapModel",
      "_view_count": null,
      "_view_module": "jupyter-leaflet",
      "_view_module_version": "^0.13.2",
      "_view_name": "LeafletMapView",
      "bottom": 0,
      "bounce_at_zoom_limits": true,
      "box_zoom": true,
      "center": [
       40.71775490683684,
       -73.93839068414633
      ],
      "close_popup_on_click": true,
      "controls": [
       "IPY_MODEL_7a5edb36afd042188ca8424860cc65a1",
       "IPY_MODEL_91789e1f612d48a5aa3e4f2cb9f42e00"
      ],
      "crs": {
       "custom": false,
       "name": "EPSG3857"
      },
      "default_style": "IPY_MODEL_bf94ee1379544edf94dfd63f7443cabd",
      "double_click_zoom": true,
      "dragging": true,
      "dragging_style": "IPY_MODEL_fef38797ff8146ec961291f59ad7886a",
      "east": 0,
      "fullscreen": false,
      "inertia": true,
      "inertia_deceleration": 3000,
      "inertia_max_speed": 1500,
      "interpolation": "bilinear",
      "keyboard": true,
      "keyboard_pan_offset": 80,
      "keyboard_zoom_offset": 1,
      "layers": [
       "IPY_MODEL_8f1dbf8b846e4d58b0edb21e98465aac",
       "IPY_MODEL_38012e6310a64e10a8e843473e8bea35",
       "IPY_MODEL_be02b278f8e44c38b67af37ad59524b7"
      ],
      "layout": "IPY_MODEL_8c222f61902743e79a78e5aa8cfcadbf",
      "left": 9007199254740991,
      "max_zoom": 18,
      "min_zoom": 1,
      "modisdate": "yesterday",
      "north": 0,
      "options": [
       "bounce_at_zoom_limits",
       "box_zoom",
       "center",
       "close_popup_on_click",
       "double_click_zoom",
       "dragging",
       "fullscreen",
       "inertia",
       "inertia_deceleration",
       "inertia_max_speed",
       "interpolation",
       "keyboard",
       "keyboard_pan_offset",
       "keyboard_zoom_offset",
       "max_zoom",
       "min_zoom",
       "scroll_wheel_zoom",
       "tap",
       "tap_tolerance",
       "touch_zoom",
       "world_copy_jump",
       "zoom",
       "zoom_animation_threshold",
       "zoom_delta",
       "zoom_snap",
       "zoom_start"
      ],
      "right": 0,
      "scroll_wheel_zoom": false,
      "south": 0,
      "style": "IPY_MODEL_9b9a6989dc0141a3bdc8763968a9cbb7",
      "tap": true,
      "tap_tolerance": 15,
      "top": 9007199254740991,
      "touch_zoom": true,
      "west": 0,
      "window_url": "",
      "world_copy_jump": false,
      "zoom": 10,
      "zoom_animation_threshold": 4,
      "zoom_delta": 1,
      "zoom_snap": 1,
      "zoom_start": 12
     }
    }
   }
  }
 },
 "nbformat": 4,
 "nbformat_minor": 1
}
