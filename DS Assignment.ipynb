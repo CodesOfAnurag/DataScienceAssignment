{
 "cells": [
  {
   "cell_type": "code",
   "execution_count": 188,
   "metadata": {},
   "outputs": [],
   "source": [
    "import pandas as pd\n",
    "# pd.set_option('display.precision',0)\n",
    "# pd.options.display.float_format = '{:.8f}'.format\n",
    "import seaborn as sb\n",
    "import numpy as np\n",
    "import matplotlib.pyplot as plt\n",
    "from scipy import stats\n",
    "from statsmodels.stats import weightstats as stests\n",
    "\n",
    "plt.style.use(\"dark_background\")\n",
    "\n",
    "# error_bad_lines parameter when set to False, skips the errorneous rows\n",
    "# warn_bad_lines when set to False, doesn't print the error detail.\n",
    "# Error detail would look something like this:'Skipping line 53192: expected 17 fields, saw 18\\nSkipping line 56712: expected 17 fields, saw 18 ...'\n",
    "\n",
    "df = pd.read_csv('ny_city_bus_data.csv',error_bad_lines=False,warn_bad_lines=False,low_memory=False)\n"
   ]
  },
  {
   "cell_type": "code",
   "execution_count": 196,
   "metadata": {},
   "outputs": [
    {
     "name": "stdout",
     "output_type": "stream",
     "text": [
      "<class 'pandas.core.frame.DataFrame'>\n",
      "RangeIndex: 1048575 entries, 0 to 1048574\n",
      "Data columns (total 2 columns):\n",
      " #   Column                    Non-Null Count    Dtype  \n",
      "---  ------                    --------------    -----  \n",
      " 0   DestinationLat            1045746 non-null  float64\n",
      " 1   VehicleLocation.Latitude  1048575 non-null  float64\n",
      "dtypes: float64(2)\n",
      "memory usage: 16.0 MB\n",
      "0.0\n",
      "reject null hypothesis\n"
     ]
    }
   ],
   "source": [
    "# df['DestinationLat'].map(int)\n",
    "# df['OriginLat']=df['OriginLat'].astype('int64')\n",
    "# df['DestinationLat']=df['DestinationLat'].astype('int64')\n",
    "\n",
    "# pd.options.display.float_format = '{:.8f}'.format\n",
    "\n",
    "# df.replace([np.inf, -np.inf], np.nan).dropna(inplace=True,axis=1)\n",
    "# df=df[~df.isin([np.nan,np.na, np.inf, -np.inf]).any(1)]\n",
    "\n",
    "# df[['DestinationLat','VehicleLocation.Latitude']].astype(np.float)\n",
    "# df['DestinationLat'] = df['DestinationLat'].apply(lambda x: '{:.2f}'.format(x))\n",
    "df[['DestinationLat','VehicleLocation.Latitude']].info()\n",
    "\n",
    "ztest ,pval = stests.ztest(df.dropna()['DestinationLat'], x2=df.dropna()['OriginLat'], value=0)\n",
    "# ttest,pval = stats.ttest_ind(df.dropna()['DestinationLat'], df.dropna()['VehicleLocation.Latitude'])\n",
    "\n",
    "# ztest ,pval = stests.ztest(df.dropna()['DestinationLat'], x2=df.dropna()['VehicleLocation.Latitude'], value=0,alternative='two-sided')\n",
    "\n",
    "print(pval)\n",
    "if pval<0.05:\n",
    "    print(\"reject null hypothesis\")\n",
    "else:\n",
    "    print(\"accept null hypothesis\")"
   ]
  },
  {
   "cell_type": "code",
   "execution_count": null,
   "metadata": {
    "scrolled": false
   },
   "outputs": [],
   "source": [
    "# df[['DestinationLat','OriginLat']].dropna()\n",
    "# df[['DestinationLat','OriginLat']].dropna().info()\n",
    "\n",
    "# df[['DestinationLat','OriginLat']].astype('float')\n",
    "# df[['ScheduledArrivalTime','ExpectedArrivalTime']].dropna().info()\n",
    "\n",
    "\n",
    "# pd.options.display.float_format = '{:.2f}'.format\n",
    "\n",
    "# df[['DestinationLat','OriginLat']].info()"
   ]
  },
  {
   "cell_type": "code",
   "execution_count": null,
   "metadata": {
    "scrolled": false
   },
   "outputs": [],
   "source": [
    " print(df.head(2))\n",
    "# print(df.describe())\n",
    "\n",
    "# mean of specific column\n",
    "# print(df['OriginLat'].mean())\n",
    "# print(df.loc[:,\"OriginLat\"].mean())\n",
    "\n",
    "# mean of every column\n",
    "# print(df.mean())\n",
    "\n",
    "print(\"\\n\")\n",
    "# print(\"***********************************************\")\n",
    "\n",
    "# median of every column\n",
    "# print(df.median())\n",
    "\n",
    "# print(\"\\n\")\n",
    "# print(\"***********************************************\")\n",
    "\n",
    "# get mode of all columns\n",
    "# modeData = df.mode(dropna=False)\n",
    "# print(modeData.iloc[[0]])\n",
    "\n",
    "# print(\"***********************************************\")\n",
    "\n",
    "# # mode of specific column with index and type\n",
    "# print(df.loc[:, \"DestinationName\"].mode())\n",
    "\n",
    "# mode of specific column without index\n",
    "# print(df[\"DestinationName\"].mode()[0])\n",
    "\n",
    "# variance of every column\n",
    "# print(df.var())\n",
    "# print(\"***********************************************\")\n",
    "\n",
    "# standard deviation of every column\n",
    "# print(df.std())"
   ]
  },
  {
   "cell_type": "code",
   "execution_count": null,
   "metadata": {},
   "outputs": [],
   "source": [
    "\n",
    "# df['Time'] = pd.to_datetime(df.ScheduledArrivalTime,dayfirst=True,format='%d-%m-%Y', errors='coerce') \n",
    "  \n",
    "# df.head()\n",
    "data = pd.DataFrame(columns = ['Scheduled Time','Expected Time'])\n",
    "\n",
    "data['Scheduled Time']=pd.to_datetime(df.ScheduledArrivalTime, errors='coerce').dt.time \n",
    "data['Expected Time']=pd.to_datetime(df.ExpectedArrivalTime, errors='coerce').dt.time\n",
    "# print(data)\n",
    "\n",
    "# data['Time']=df.loc[df['ExpectedArrivalTime'].isin('')]\n"
   ]
  },
  {
   "cell_type": "code",
   "execution_count": null,
   "metadata": {},
   "outputs": [],
   "source": [
    "fig = plt.figure(figsize = (20, 20)) \n",
    "# data2 = pd.DataFrame(columns = ['Origin','Vehicles'])\n",
    "\n",
    "origin=['BROADWAY/W 106 ST','WASHINGTON PLZ/LANE3','165 ST/TERMINAL','POSTAL FACILITY RD/IN FRONT OF FACILITY','SURF AV/W 37 ST','PALMETTO ST/MYRTLE AV']\n",
    "vehicles=['NYCT_7424','NYCT_3809','NYCT_3967','NYCT_8236','NYCT_6372','NYCT_7434','NYCT_5045','NYCT_406','NYCT_4607','NYCT_8453'\n",
    "         ,'NYCT_8456','NYCT_6886','NYCT_7279','NYCT_4932','NYCT_8500','NYCT_8457','NYCT_5059']\n",
    "\n",
    "# print(df.loc[df['OriginName'].isin(origin)])\n",
    "# print(data2)\n",
    "# data2['Vehicles']=df.loc[df['VehicleRef'].isin(vehicles)]\n",
    "# print(data2)\n",
    "# plt.bar(df['OriginName'].isin(['BROADWAY/W 106 ST','WASHINGTON PLZ/LANE3','165 ST/TERMINAL','POSTAL FACILITY RD/IN FRONT OF FACILITY','SURF AV/W 37 ST']).iloc[:10],\n",
    "#         df['VehicleRef'].isin(['NYCT_7424','NYCT_3809','NYCT_3967','NYCT_8236','NYCT_6372','NYCT_7434']).iloc[:10])\n",
    "\n",
    "# considering only those rows where originName is in origin and only those vehicles from 1 to 100 rows\n",
    "# data=df[df['OriginName'].isin(origin) & df['VehicleRef'].isin(df['VehicleRef'].iloc[:100])]\n",
    "\n",
    "# considering only those rows where originName is in origin and only those vehicles from the given ref number of vehicles\n",
    "data=df[df['OriginName'].isin(origin) & df['VehicleRef'].isin(vehicles)]\n",
    "\n",
    "# print(data)\n",
    "# data2=data.loc[:200]\n",
    "# print(data2)\n",
    "\n",
    "sb.countplot(x=data['OriginName'],hue=data['VehicleRef'])\n",
    "plt.legend(loc=\"upper left\", ncol=10)\n",
    "plt.xticks(rotation=45)\n",
    "# plt.title('Bus timings')\n",
    "# plt.xlabel('Scheduled Arrival Time')\n",
    "# plt.ylabel('Expected Arrival Time ')\n",
    "# df.plot.bar()\n",
    "plt.show()"
   ]
  },
  {
   "cell_type": "code",
   "execution_count": 33,
   "metadata": {
    "scrolled": true
   },
   "outputs": [
    {
     "name": "stdout",
     "output_type": "stream",
     "text": [
      "     RecordedAtTime  DirectionRef PublishedLineName     OriginName  OriginLat  \\\n",
      "0  04-08-2017 08:37             1                B6  E 126 ST/2 AV   40.80323   \n",
      "\n",
      "   OriginLong           DestinationName  DestinationLat  DestinationLong  \\\n",
      "0  -73.932449  WASHINGTON HTS GW BRIDGE       40.704933        -73.79332   \n",
      "\n",
      "  VehicleRef  VehicleLocation.Latitude  VehicleLocation.Longitude  \\\n",
      "0  NYCT_5856                 40.696949                 -73.990592   \n",
      "\n",
      "    NextStopPointName ArrivalProximityText DistanceFromStop  \\\n",
      "0  MYRTLE AV/CEDAR ST          approaching                0   \n",
      "\n",
      "  ExpectedArrivalTime ScheduledArrivalTime Unnamed: 17  \n",
      "0    04-08-2017 07:38             08:07:00    09:11:50  \n"
     ]
    }
   ],
   "source": [
    "column=[]\n",
    "modes=[]\n",
    "listOfModes=[]\n",
    "\n",
    "for chunk in df:\n",
    "    column.append(chunk)\n",
    "    modes.append(df[chunk].mode()[0])\n",
    "\n",
    "listOfModes.append(modes)\n",
    "\n",
    "data=pd.DataFrame(listOfModes,columns=column)\n",
    "print(data)"
   ]
  },
  {
   "cell_type": "code",
   "execution_count": 203,
   "metadata": {},
   "outputs": [
    {
     "name": "stdout",
     "output_type": "stream",
     "text": [
      "6.46107716377085e-55\n",
      "reject null hypothesis\n"
     ]
    }
   ],
   "source": [
    "from scipy import stats\n",
    "from statsmodels.stats import weightstats as stests\n",
    "\n",
    "# df[['DestinationLat','VehicleLocation.Latitude']].info()\n",
    "\n",
    "# ztest ,pval = stests.ztest(df.dropna()['DestinationLat'], x2=df.dropna()['OriginLat'], value=0)\n",
    "ttest,pval = stats.ttest_ind(df.dropna()['DestinationLat'], df.dropna()['OriginLat'])\n",
    "\n",
    "print(pval)\n",
    "if pval<0.05:\n",
    "    print(\"reject null hypothesis\")\n",
    "else:\n",
    "    print(\"accept null hypothesis\")"
   ]
  }
 ],
 "metadata": {
  "kernelspec": {
   "display_name": "Python 3.8.2 64-bit",
   "language": "python",
   "name": "python38264bit45f3aa93aee14081a0c492944b09911b"
  },
  "language_info": {
   "codemirror_mode": {
    "name": "ipython",
    "version": 3
   },
   "file_extension": ".py",
   "mimetype": "text/x-python",
   "name": "python",
   "nbconvert_exporter": "python",
   "pygments_lexer": "ipython3",
   "version": "3.8.3"
  }
 },
 "nbformat": 4,
 "nbformat_minor": 4
}
