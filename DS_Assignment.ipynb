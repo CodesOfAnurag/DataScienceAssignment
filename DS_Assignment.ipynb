{
  "nbformat": 4,
  "nbformat_minor": 0,
  "metadata": {
    "colab": {
      "name": "DS_Assignment.ipynb",
      "provenance": []
    },
    "kernelspec": {
      "name": "python3",
      "display_name": "Python 3"
    }
  },
  "cells": [
    {
      "cell_type": "code",
      "metadata": {
        "id": "J94KSwOjGti2"
      },
      "source": [
        "!pip install numpy pandas matplotlib seaborn scipy statsmodels"
      ],
      "execution_count": null,
      "outputs": []
    },
    {
      "cell_type": "code",
      "metadata": {
        "id": "9ujLGXxN_Enr"
      },
      "source": [
        "import pandas as pd\r\n",
        "from pandas import DataFrame, Series\r\n",
        "import numpy as np\r\n",
        "import seaborn as sns\r\n",
        "import matplotlib.pyplot as plt\r\n",
        "from statsmodels.graphics.gofplots import qqplot"
      ],
      "execution_count": 3,
      "outputs": []
    },
    {
      "cell_type": "code",
      "metadata": {
        "id": "7jrkuT_IAWnC"
      },
      "source": [
        "df = pd.read_csv('/content/drive/MyDrive/nirf_engg_ranking_india_2020.csv')"
      ],
      "execution_count": 5,
      "outputs": []
    },
    {
      "cell_type": "code",
      "metadata": {
        "colab": {
          "base_uri": "https://localhost:8080/",
          "height": 272
        },
        "id": "PLvj88UZAfZa",
        "outputId": "04e01488-6de6-407e-a799-b0ffded8152e"
      },
      "source": [
        "df.head()"
      ],
      "execution_count": 6,
      "outputs": [
        {
          "output_type": "execute_result",
          "data": {
            "text/html": [
              "<div>\n",
              "<style scoped>\n",
              "    .dataframe tbody tr th:only-of-type {\n",
              "        vertical-align: middle;\n",
              "    }\n",
              "\n",
              "    .dataframe tbody tr th {\n",
              "        vertical-align: top;\n",
              "    }\n",
              "\n",
              "    .dataframe thead th {\n",
              "        text-align: right;\n",
              "    }\n",
              "</style>\n",
              "<table border=\"1\" class=\"dataframe\">\n",
              "  <thead>\n",
              "    <tr style=\"text-align: right;\">\n",
              "      <th></th>\n",
              "      <th>institute_id</th>\n",
              "      <th>name</th>\n",
              "      <th>link</th>\n",
              "      <th>tlr</th>\n",
              "      <th>rpc</th>\n",
              "      <th>go</th>\n",
              "      <th>oi</th>\n",
              "      <th>perception</th>\n",
              "      <th>city</th>\n",
              "      <th>state</th>\n",
              "      <th>score</th>\n",
              "      <th>rank</th>\n",
              "    </tr>\n",
              "  </thead>\n",
              "  <tbody>\n",
              "    <tr>\n",
              "      <th>0</th>\n",
              "      <td>IR-E-U-0456</td>\n",
              "      <td>Indian Institute of Technology Madras</td>\n",
              "      <td>https://nirfcdn.azureedge.net/2020/pdf/Enginee...</td>\n",
              "      <td>95.42</td>\n",
              "      <td>94.64</td>\n",
              "      <td>83.90</td>\n",
              "      <td>61.31</td>\n",
              "      <td>100.00</td>\n",
              "      <td>Chennai</td>\n",
              "      <td>Tamil Nadu</td>\n",
              "      <td>89.93</td>\n",
              "      <td>1</td>\n",
              "    </tr>\n",
              "    <tr>\n",
              "      <th>1</th>\n",
              "      <td>IR-E-I-1074</td>\n",
              "      <td>Indian Institute of Technology Delhi</td>\n",
              "      <td>https://nirfcdn.azureedge.net/2020/pdf/Enginee...</td>\n",
              "      <td>90.79</td>\n",
              "      <td>96.15</td>\n",
              "      <td>80.36</td>\n",
              "      <td>64.81</td>\n",
              "      <td>94.46</td>\n",
              "      <td>New Delhi</td>\n",
              "      <td>Delhi</td>\n",
              "      <td>88.08</td>\n",
              "      <td>2</td>\n",
              "    </tr>\n",
              "    <tr>\n",
              "      <th>2</th>\n",
              "      <td>IR-E-U-0306</td>\n",
              "      <td>Indian Institute of Technology Bombay</td>\n",
              "      <td>https://nirfcdn.azureedge.net/2020/pdf/Enginee...</td>\n",
              "      <td>91.00</td>\n",
              "      <td>93.37</td>\n",
              "      <td>77.60</td>\n",
              "      <td>49.99</td>\n",
              "      <td>92.51</td>\n",
              "      <td>Mumbai</td>\n",
              "      <td>Maharashtra</td>\n",
              "      <td>85.08</td>\n",
              "      <td>3</td>\n",
              "    </tr>\n",
              "    <tr>\n",
              "      <th>3</th>\n",
              "      <td>IR-E-I-1075</td>\n",
              "      <td>Indian Institute of Technology Kanpur</td>\n",
              "      <td>https://nirfcdn.azureedge.net/2020/pdf/Enginee...</td>\n",
              "      <td>86.22</td>\n",
              "      <td>82.08</td>\n",
              "      <td>88.44</td>\n",
              "      <td>54.21</td>\n",
              "      <td>85.78</td>\n",
              "      <td>Kanpur</td>\n",
              "      <td>Uttar Pradesh</td>\n",
              "      <td>82.18</td>\n",
              "      <td>4</td>\n",
              "    </tr>\n",
              "    <tr>\n",
              "      <th>4</th>\n",
              "      <td>IR-E-U-0573</td>\n",
              "      <td>Indian Institute of Technology Kharagpur</td>\n",
              "      <td>https://nirfcdn.azureedge.net/2020/pdf/Enginee...</td>\n",
              "      <td>77.32</td>\n",
              "      <td>87.11</td>\n",
              "      <td>83.21</td>\n",
              "      <td>56.62</td>\n",
              "      <td>89.31</td>\n",
              "      <td>Kharagpur</td>\n",
              "      <td>West Bengal</td>\n",
              "      <td>80.56</td>\n",
              "      <td>5</td>\n",
              "    </tr>\n",
              "  </tbody>\n",
              "</table>\n",
              "</div>"
            ],
            "text/plain": [
              "  institute_id                                      name  ...  score  rank\n",
              "0  IR-E-U-0456     Indian Institute of Technology Madras  ...  89.93     1\n",
              "1  IR-E-I-1074      Indian Institute of Technology Delhi  ...  88.08     2\n",
              "2  IR-E-U-0306     Indian Institute of Technology Bombay  ...  85.08     3\n",
              "3  IR-E-I-1075     Indian Institute of Technology Kanpur  ...  82.18     4\n",
              "4  IR-E-U-0573  Indian Institute of Technology Kharagpur  ...  80.56     5\n",
              "\n",
              "[5 rows x 12 columns]"
            ]
          },
          "metadata": {
            "tags": []
          },
          "execution_count": 6
        }
      ]
    },
    {
      "cell_type": "markdown",
      "metadata": {
        "id": "G6EItT_cOSgO"
      },
      "source": [
        "**Data Columns**<br>\r\n",
        "tlr - teaching,learning & resources<br>\r\n",
        "rpc - research, professional practice and collaborative performance<br>\r\n",
        "go - graduation outcome<br>\r\n",
        "oi - outreach and inclusivity<br>\r\n",
        "perception - academic peer and employers perception<br>\r\n",
        "score - overall score obtained by the college<br>\r\n",
        "link - link to the full report of the college<br>\r\n",
        "rank - final rank obtained by the college based on the score<br>\r\n",
        "institute_id - unique id provided by nirf india<br>"
      ]
    },
    {
      "cell_type": "code",
      "metadata": {
        "colab": {
          "base_uri": "https://localhost:8080/"
        },
        "id": "o3aKngJAAgcC",
        "outputId": "8172c492-40d3-4fbe-d2ce-7a37e6a7d7bf"
      },
      "source": [
        "df.info()"
      ],
      "execution_count": 7,
      "outputs": [
        {
          "output_type": "stream",
          "text": [
            "<class 'pandas.core.frame.DataFrame'>\n",
            "RangeIndex: 200 entries, 0 to 199\n",
            "Data columns (total 12 columns):\n",
            " #   Column        Non-Null Count  Dtype  \n",
            "---  ------        --------------  -----  \n",
            " 0   institute_id  200 non-null    object \n",
            " 1   name          200 non-null    object \n",
            " 2   link          200 non-null    object \n",
            " 3   tlr           200 non-null    float64\n",
            " 4   rpc           200 non-null    float64\n",
            " 5   go            200 non-null    float64\n",
            " 6   oi            200 non-null    float64\n",
            " 7   perception    200 non-null    float64\n",
            " 8   city          200 non-null    object \n",
            " 9   state         200 non-null    object \n",
            " 10  score         200 non-null    float64\n",
            " 11  rank          200 non-null    int64  \n",
            "dtypes: float64(6), int64(1), object(5)\n",
            "memory usage: 18.9+ KB\n"
          ],
          "name": "stdout"
        }
      ]
    },
    {
      "cell_type": "markdown",
      "metadata": {
        "id": "eVnXX4GrJmKE"
      },
      "source": [
        "\r\n",
        "\r\n",
        "---\r\n",
        "\r\n"
      ]
    },
    {
      "cell_type": "markdown",
      "metadata": {
        "id": "Awt6HoIODhkr"
      },
      "source": [
        "**Measures of Central Tendency**\r\n",
        "\r\n",
        "Mean of every numeric column(ratio type data) present in the dataset"
      ]
    },
    {
      "cell_type": "code",
      "metadata": {
        "colab": {
          "base_uri": "https://localhost:8080/"
        },
        "id": "wYIrmJPADEEC",
        "outputId": "2411d9a8-1ff8-4592-dca3-22facb7cbea0"
      },
      "source": [
        "colMeans = df.drop('rank',axis=1).mean(axis=0, numeric_only=True)\r\n",
        "print(colMeans)"
      ],
      "execution_count": 8,
      "outputs": [
        {
          "output_type": "stream",
          "text": [
            "tlr           59.05015\n",
            "rpc           20.30735\n",
            "go            56.70360\n",
            "oi            51.87370\n",
            "perception    14.21465\n",
            "score         41.75835\n",
            "dtype: float64\n"
          ],
          "name": "stdout"
        }
      ]
    },
    {
      "cell_type": "markdown",
      "metadata": {
        "id": "qzDyCV61Ddkb"
      },
      "source": [
        "Median of every numeric column(ratio type data) present in the dataset"
      ]
    },
    {
      "cell_type": "code",
      "metadata": {
        "colab": {
          "base_uri": "https://localhost:8080/"
        },
        "id": "TYMXjIDoDY2h",
        "outputId": "9a9e9a26-baec-4b23-b7cf-5382e92fda21"
      },
      "source": [
        "colMedians = df.drop('rank', axis=1).median(axis=0, numeric_only=True)\r\n",
        "print(colMedians)"
      ],
      "execution_count": 9,
      "outputs": [
        {
          "output_type": "stream",
          "text": [
            "tlr           57.525\n",
            "rpc           13.350\n",
            "go            55.070\n",
            "oi            51.855\n",
            "perception     6.650\n",
            "score         37.560\n",
            "dtype: float64\n"
          ],
          "name": "stdout"
        }
      ]
    },
    {
      "cell_type": "markdown",
      "metadata": {
        "id": "yMKZgPhtEEiW"
      },
      "source": [
        "Mode of the column 'state' present in the dataset"
      ]
    },
    {
      "cell_type": "code",
      "metadata": {
        "id": "vMv-bGaCDShC",
        "colab": {
          "base_uri": "https://localhost:8080/"
        },
        "outputId": "21bd4c70-8003-4f4b-8b67-29e0bcabcdde"
      },
      "source": [
        "print(df['state'].mode())\r\n",
        "print('Frequency: ', df['state'].value_counts().max())"
      ],
      "execution_count": 16,
      "outputs": [
        {
          "output_type": "stream",
          "text": [
            "0    Tamil Nadu\n",
            "dtype: object\n",
            "Frequency:  35\n"
          ],
          "name": "stdout"
        }
      ]
    },
    {
      "cell_type": "markdown",
      "metadata": {
        "id": "isyYQVjxLJS6"
      },
      "source": [
        "This shows that the state Tamil Nadu has the highest number of Engineering Colleges(i.e., 35) among the top 200 Engineering Colleges of India."
      ]
    },
    {
      "cell_type": "markdown",
      "metadata": {
        "id": "jtqjtvTjSyGj"
      },
      "source": [
        "\r\n",
        "\r\n",
        "---\r\n",
        "\r\n"
      ]
    },
    {
      "cell_type": "markdown",
      "metadata": {
        "id": "KLQ8T06gSz8r"
      },
      "source": [
        "**Distribution Type**"
      ]
    },
    {
      "cell_type": "markdown",
      "metadata": {
        "id": "YHn2TA_aKysn"
      },
      "source": [
        "Using visualization methods and ks-test<br>\r\n",
        "\r\n",
        "H0: Follows a normal distribution<br>\r\n",
        "H1: Doesn't follow a normal distribution"
      ]
    },
    {
      "cell_type": "code",
      "metadata": {
        "colab": {
          "base_uri": "https://localhost:8080/",
          "height": 404
        },
        "id": "BzXFHyXwDG7K",
        "outputId": "66881438-cc4e-413f-c576-d6e02844fe4b"
      },
      "source": [
        "fig, a = plt.subplots(1, 3, figsize = (20, 5))\r\n",
        "\r\n",
        "sns.distplot(df['go'], hist=True, kde=True, ax=a[0])\r\n",
        "a[0].set_title('Graduation outcome probability dist')\r\n",
        "\r\n",
        "sns.boxplot(x=df['go'], ax=a[1])\r\n",
        "a[1].set_title('Graduation outcome box plot')\r\n",
        "\r\n",
        "qqplot(df['go'], line='s', ax=a[2])\r\n",
        "a[2].set_title('Normal dist. test using QQ Plot')\r\n",
        "\r\n",
        "plt.show()"
      ],
      "execution_count": 17,
      "outputs": [
        {
          "output_type": "stream",
          "text": [
            "/usr/local/lib/python3.6/dist-packages/seaborn/distributions.py:2551: FutureWarning: `distplot` is a deprecated function and will be removed in a future version. Please adapt your code to use either `displot` (a figure-level function with similar flexibility) or `histplot` (an axes-level function for histograms).\n",
            "  warnings.warn(msg, FutureWarning)\n"
          ],
          "name": "stderr"
        },
        {
          "output_type": "display_data",
          "data": {
            "image/png": "[encoded data removed]",
            "text/plain": [
              "<Figure size 1440x360 with 3 Axes>"
            ]
          },
          "metadata": {
            "tags": [],
            "needs_background": "light"
          }
        }
      ]
    },
    {
      "cell_type": "code",
      "metadata": {
        "colab": {
          "base_uri": "https://localhost:8080/"
        },
        "id": "ewsXOAshLYol",
        "outputId": "612516ea-f0c6-49bb-be6a-21714c72b6b6"
      },
      "source": [
        "from scipy import stats\r\n",
        "\r\n",
        "stats.kstest(df['go'], 'norm')"
      ],
      "execution_count": 19,
      "outputs": [
        {
          "output_type": "execute_result",
          "data": {
            "text/plain": [
              "KstestResult(statistic=1.0, pvalue=0.0)"
            ]
          },
          "metadata": {
            "tags": []
          },
          "execution_count": 19
        }
      ]
    },
    {
      "cell_type": "markdown",
      "metadata": {
        "id": "5JUQUIxZUeP6"
      },
      "source": [
        "'Graduation Outcome'(go) is slightly right skewed and p-value is less than 0.05 which rejects the null hypothesis hence is not normal."
      ]
    },
    {
      "cell_type": "code",
      "metadata": {
        "colab": {
          "base_uri": "https://localhost:8080/",
          "height": 404
        },
        "id": "LmfRqVnmI8t_",
        "outputId": "19adf2b5-7c72-405d-eb05-bb2e0481c27e"
      },
      "source": [
        "fig, a = plt.subplots(1, 3, figsize = (20, 5))\r\n",
        "\r\n",
        "sns.distplot(df['score'], hist=True, kde=True, ax=a[0])\r\n",
        "a[0].set_title('Overall score probability dist')\r\n",
        "\r\n",
        "sns.boxplot(x=df['score'], ax=a[1])\r\n",
        "a[1].set_title('Overall score box plot')\r\n",
        "\r\n",
        "qqplot(df['score'], line='s', ax=a[2])\r\n",
        "a[2].set_title('Normal dist. test using QQ Plot')\r\n",
        "\r\n",
        "plt.show()"
      ],
      "execution_count": 18,
      "outputs": [
        {
          "output_type": "stream",
          "text": [
            "/usr/local/lib/python3.6/dist-packages/seaborn/distributions.py:2551: FutureWarning: `distplot` is a deprecated function and will be removed in a future version. Please adapt your code to use either `displot` (a figure-level function with similar flexibility) or `histplot` (an axes-level function for histograms).\n",
            "  warnings.warn(msg, FutureWarning)\n"
          ],
          "name": "stderr"
        },
        {
          "output_type": "display_data",
          "data": {
            "image/png": "[encoded data removed]",
            "text/plain": [
              "<Figure size 1440x360 with 3 Axes>"
            ]
          },
          "metadata": {
            "tags": [],
            "needs_background": "light"
          }
        }
      ]
    },
    {
      "cell_type": "code",
      "metadata": {
        "colab": {
          "base_uri": "https://localhost:8080/"
        },
        "id": "x9n6WIfbRdt1",
        "outputId": "37efcbd9-1208-4a00-a7f8-4b8bb0770657"
      },
      "source": [
        "stats.kstest(df['score'], 'norm')"
      ],
      "execution_count": 20,
      "outputs": [
        {
          "output_type": "execute_result",
          "data": {
            "text/plain": [
              "KstestResult(statistic=1.0, pvalue=0.0)"
            ]
          },
          "metadata": {
            "tags": []
          },
          "execution_count": 20
        }
      ]
    },
    {
      "cell_type": "markdown",
      "metadata": {
        "id": "9Bh6n868Rjrw"
      },
      "source": [
        "'Overall Score'(score) is also right skewed and p-values is less than 0.05, which rejects the null hypothesis hence it is not normal"
      ]
    },
    {
      "cell_type": "markdown",
      "metadata": {
        "id": "jeeBcgltU0X7"
      },
      "source": [
        "An observation which can be made from the right skewedness of the two columns - 'Graduation Outcome'(go) and 'Overall Score'(score) indicates that both the measures for the Colleges are mostly greater than 50% which should be the reason why these Colleges are ranked among top 200 in the country."
      ]
    },
    {
      "cell_type": "markdown",
      "metadata": {
        "id": "AMYBb3GBTzby"
      },
      "source": [
        "\r\n",
        "\r\n",
        "---\r\n",
        "\r\n"
      ]
    },
    {
      "cell_type": "markdown",
      "metadata": {
        "id": "uPvmRes9V_sj"
      },
      "source": [
        "**Hypothesis Testing**<br>\r\n",
        "\r\n",
        "To check if there exists a relation between  using 2 tailed t-test<br>\r\n",
        "H0 - They are not related<br>\r\n",
        "H1 - Maybe they are related<br>"
      ]
    },
    {
      "cell_type": "code",
      "metadata": {
        "colab": {
          "base_uri": "https://localhost:8080/"
        },
        "id": "_8HWCAUOT06f",
        "outputId": "455a7b5c-c220-4a1c-dccf-ec312562930a"
      },
      "source": [
        "stats.ttest_ind(a=df['go'], b=df['perception'])"
      ],
      "execution_count": 23,
      "outputs": [
        {
          "output_type": "execute_result",
          "data": {
            "text/plain": [
              "Ttest_indResult(statistic=27.026289048972977, pvalue=4.2717842222013554e-92)"
            ]
          },
          "metadata": {
            "tags": []
          },
          "execution_count": 23
        }
      ]
    },
    {
      "cell_type": "markdown",
      "metadata": {
        "id": "htLNyxCreevI"
      },
      "source": [
        "The above result indicates the null hypothesis is rejected and there could be a relation between the two. "
      ]
    },
    {
      "cell_type": "code",
      "metadata": {
        "colab": {
          "base_uri": "https://localhost:8080/"
        },
        "id": "v6reCHx7YbSz",
        "outputId": "c2451814-4212-4809-c9c5-d20afc51cf1d"
      },
      "source": [
        "df['go'].cov(df['perception'])"
      ],
      "execution_count": 24,
      "outputs": [
        {
          "output_type": "execute_result",
          "data": {
            "text/plain": [
              "143.45020126633182"
            ]
          },
          "metadata": {
            "tags": []
          },
          "execution_count": 24
        }
      ]
    },
    {
      "cell_type": "code",
      "metadata": {
        "colab": {
          "base_uri": "https://localhost:8080/"
        },
        "id": "1rSQt15aYpDv",
        "outputId": "1d414367-d304-49c8-89ee-81b9bdb4e4f0"
      },
      "source": [
        "df['go'].corr(df['perception'])"
      ],
      "execution_count": 25,
      "outputs": [
        {
          "output_type": "execute_result",
          "data": {
            "text/plain": [
              "0.6707378141204976"
            ]
          },
          "metadata": {
            "tags": []
          },
          "execution_count": 25
        }
      ]
    },
    {
      "cell_type": "markdown",
      "metadata": {
        "id": "GRPkGHzIec3d"
      },
      "source": [
        "The high covariance and positive correlation values strengthens the relationship between the two."
      ]
    },
    {
      "cell_type": "code",
      "metadata": {
        "colab": {
          "base_uri": "https://localhost:8080/"
        },
        "id": "qqRy2iUygnjo",
        "outputId": "f1b06022-6ae1-49bb-cc73-569f72248ba9"
      },
      "source": [
        "from sklearn.model_selection import train_test_split \r\n",
        "from sklearn.linear_model import LinearRegression\r\n",
        "from sklearn import metrics\r\n",
        "\r\n",
        "X = df['go'].values.reshape(-1,1)\r\n",
        "y = df['perception'].values\r\n",
        "X_train, X_test, y_train, y_test = train_test_split(X, y, test_size=0.2, random_state=0)\r\n",
        "model = LinearRegression().fit(X_train, y_train)\r\n",
        "print('Linear Regression\\n')\r\n",
        "print('R2 score: ', model.score(X_test, y_test))\r\n",
        "y_pred = model.predict(X_test)"
      ],
      "execution_count": 31,
      "outputs": [
        {
          "output_type": "stream",
          "text": [
            "Linear Regression\n",
            "\n",
            "R2 score:  0.6211967224787365\n"
          ],
          "name": "stdout"
        }
      ]
    },
    {
      "cell_type": "markdown",
      "metadata": {
        "id": "434pmr5th3ub"
      },
      "source": [
        "The r2 score shows that there is a relation between the two but might not be a linear relation."
      ]
    }
  ]
}