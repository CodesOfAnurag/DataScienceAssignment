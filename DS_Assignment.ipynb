{
  "nbformat": 4,
  "nbformat_minor": 0,
  "metadata": {
    "colab": {
      "name": "DS_Assignment.ipynb",
      "provenance": []
    },
    "kernelspec": {
      "name": "python3",
      "display_name": "Python 3"
    }
  },
  "cells": [
    {
      "cell_type": "code",
      "metadata": {
        "id": "hD96RZugqhsK",
        "colab": {
          "base_uri": "https://localhost:8080/"
        },
        "outputId": "feba2f01-dbac-48e9-c119-bbdb74446bc3"
      },
      "source": [
        "from google.colab import drive\n",
        "drive.mount('/content/drive')"
      ],
      "execution_count": 3,
      "outputs": [
        {
          "output_type": "stream",
          "text": [
            "Mounted at /content/drive\n"
          ],
          "name": "stdout"
        }
      ]
    },
    {
      "cell_type": "code",
      "metadata": {
        "id": "J94KSwOjGti2"
      },
      "source": [
        "!pip install numpy pandas matplotlib seaborn scipy statsmodels"
      ],
      "execution_count": null,
      "outputs": []
    },
    {
      "cell_type": "code",
      "metadata": {
        "id": "9ujLGXxN_Enr"
      },
      "source": [
        "import pandas as pd\r\n",
        "from pandas import DataFrame, Series\r\n",
        "import numpy as np\r\n",
        "import seaborn as sns\r\n",
        "import matplotlib.pyplot as plt\r\n",
        "from statsmodels.graphics.gofplots import qqplot"
      ],
      "execution_count": null,
      "outputs": []
    },
    {
      "cell_type": "code",
      "metadata": {
        "id": "X3JkSd7-rp6n"
      },
      "source": [
        "data2016 = pd.read_csv('/content/drive/MyDrive/NIRF_2016.csv')"
      ],
      "execution_count": 4,
      "outputs": []
    },
    {
      "cell_type": "code",
      "metadata": {
        "colab": {
          "base_uri": "https://localhost:8080/",
          "height": 204
        },
        "id": "HobAaK4Lv3vT",
        "outputId": "71ea8851-92ad-426f-df97-f883111bc54d"
      },
      "source": [
        "data2016.head()"
      ],
      "execution_count": null,
      "outputs": [
        {
          "output_type": "execute_result",
          "data": {
            "text/html": [
              "<div>\n",
              "<style scoped>\n",
              "    .dataframe tbody tr th:only-of-type {\n",
              "        vertical-align: middle;\n",
              "    }\n",
              "\n",
              "    .dataframe tbody tr th {\n",
              "        vertical-align: top;\n",
              "    }\n",
              "\n",
              "    .dataframe thead th {\n",
              "        text-align: right;\n",
              "    }\n",
              "</style>\n",
              "<table border=\"1\" class=\"dataframe\">\n",
              "  <thead>\n",
              "    <tr style=\"text-align: right;\">\n",
              "      <th></th>\n",
              "      <th>institute_id</th>\n",
              "      <th>name</th>\n",
              "      <th>tlr</th>\n",
              "      <th>rpc</th>\n",
              "      <th>go</th>\n",
              "      <th>oi</th>\n",
              "      <th>perception</th>\n",
              "      <th>city</th>\n",
              "      <th>state</th>\n",
              "      <th>score</th>\n",
              "      <th>rank</th>\n",
              "    </tr>\n",
              "  </thead>\n",
              "  <tbody>\n",
              "    <tr>\n",
              "      <th>0</th>\n",
              "      <td>NIRF-ENGG-INF-77</td>\n",
              "      <td>Indian Institute Of Technology, Madras</td>\n",
              "      <td>88.26</td>\n",
              "      <td>94.02</td>\n",
              "      <td>81.81</td>\n",
              "      <td>86.11</td>\n",
              "      <td>98</td>\n",
              "      <td>Chennai</td>\n",
              "      <td>Tamil Nadu</td>\n",
              "      <td>89.41</td>\n",
              "      <td>1</td>\n",
              "    </tr>\n",
              "    <tr>\n",
              "      <th>1</th>\n",
              "      <td>NIRF-ENGG-INF-312</td>\n",
              "      <td>Indian Institute Of Technology, Bombay</td>\n",
              "      <td>85.93</td>\n",
              "      <td>94.14</td>\n",
              "      <td>84.97</td>\n",
              "      <td>74.84</td>\n",
              "      <td>99</td>\n",
              "      <td>Bombay</td>\n",
              "      <td>Maharashtra</td>\n",
              "      <td>87.66</td>\n",
              "      <td>2</td>\n",
              "    </tr>\n",
              "    <tr>\n",
              "      <th>2</th>\n",
              "      <td>NIRF-ENGG-INF-300</td>\n",
              "      <td>Indian Institute Of Technology, Kharagpur</td>\n",
              "      <td>76.23</td>\n",
              "      <td>92.68</td>\n",
              "      <td>83.95</td>\n",
              "      <td>78.05</td>\n",
              "      <td>97</td>\n",
              "      <td>Kharagpur</td>\n",
              "      <td>West Bengal</td>\n",
              "      <td>83.91</td>\n",
              "      <td>3</td>\n",
              "    </tr>\n",
              "    <tr>\n",
              "      <th>3</th>\n",
              "      <td>NIRF-ENGG-INF-79</td>\n",
              "      <td>Indian Institute Of Technology, Delhi</td>\n",
              "      <td>80.27</td>\n",
              "      <td>91.62</td>\n",
              "      <td>74.72</td>\n",
              "      <td>66.17</td>\n",
              "      <td>98</td>\n",
              "      <td>New Delhi</td>\n",
              "      <td>Delhi</td>\n",
              "      <td>82.02</td>\n",
              "      <td>4</td>\n",
              "    </tr>\n",
              "    <tr>\n",
              "      <th>4</th>\n",
              "      <td>NIRF-ENGG-INF-228</td>\n",
              "      <td>Indian Institute Of Technology, Kanpur</td>\n",
              "      <td>66.08</td>\n",
              "      <td>93.52</td>\n",
              "      <td>85.62</td>\n",
              "      <td>70.59</td>\n",
              "      <td>98</td>\n",
              "      <td>Kanpur</td>\n",
              "      <td>Uttar Pradesh</td>\n",
              "      <td>81.07</td>\n",
              "      <td>5</td>\n",
              "    </tr>\n",
              "  </tbody>\n",
              "</table>\n",
              "</div>"
            ],
            "text/plain": [
              "        institute_id                                       name  ...  score  rank\n",
              "0   NIRF-ENGG-INF-77     Indian Institute Of Technology, Madras  ...  89.41     1\n",
              "1  NIRF-ENGG-INF-312     Indian Institute Of Technology, Bombay  ...  87.66     2\n",
              "2  NIRF-ENGG-INF-300  Indian Institute Of Technology, Kharagpur  ...  83.91     3\n",
              "3   NIRF-ENGG-INF-79      Indian Institute Of Technology, Delhi  ...  82.02     4\n",
              "4  NIRF-ENGG-INF-228     Indian Institute Of Technology, Kanpur  ...  81.07     5\n",
              "\n",
              "[5 rows x 11 columns]"
            ]
          },
          "metadata": {
            "tags": []
          },
          "execution_count": 5
        }
      ]
    },
    {
      "cell_type": "code",
      "metadata": {
        "id": "Q-LvPCdor9gN"
      },
      "source": [
        "data2017 = pd.read_csv('/content/drive/MyDrive/NIRF_2017.csv')"
      ],
      "execution_count": 5,
      "outputs": []
    },
    {
      "cell_type": "code",
      "metadata": {
        "colab": {
          "base_uri": "https://localhost:8080/",
          "height": 204
        },
        "id": "PudhNI5px5qU",
        "outputId": "6cea6e1a-555a-45ae-a74c-2432f5244c2e"
      },
      "source": [
        "data2017.head()"
      ],
      "execution_count": null,
      "outputs": [
        {
          "output_type": "execute_result",
          "data": {
            "text/html": [
              "<div>\n",
              "<style scoped>\n",
              "    .dataframe tbody tr th:only-of-type {\n",
              "        vertical-align: middle;\n",
              "    }\n",
              "\n",
              "    .dataframe tbody tr th {\n",
              "        vertical-align: top;\n",
              "    }\n",
              "\n",
              "    .dataframe thead th {\n",
              "        text-align: right;\n",
              "    }\n",
              "</style>\n",
              "<table border=\"1\" class=\"dataframe\">\n",
              "  <thead>\n",
              "    <tr style=\"text-align: right;\">\n",
              "      <th></th>\n",
              "      <th>institute_id</th>\n",
              "      <th>name</th>\n",
              "      <th>tlr</th>\n",
              "      <th>rpc</th>\n",
              "      <th>go</th>\n",
              "      <th>oi</th>\n",
              "      <th>perception</th>\n",
              "      <th>city</th>\n",
              "      <th>state</th>\n",
              "      <th>score</th>\n",
              "      <th>rank</th>\n",
              "    </tr>\n",
              "  </thead>\n",
              "  <tbody>\n",
              "    <tr>\n",
              "      <th>0</th>\n",
              "      <td>IR17-ENGG-1-1-77</td>\n",
              "      <td>Indian Institute of Technology Madras</td>\n",
              "      <td>91.85</td>\n",
              "      <td>92.60</td>\n",
              "      <td>83.78</td>\n",
              "      <td>77.19</td>\n",
              "      <td>81.46</td>\n",
              "      <td>Chennai</td>\n",
              "      <td>Tamil Nadu</td>\n",
              "      <td>87.96</td>\n",
              "      <td>1</td>\n",
              "    </tr>\n",
              "    <tr>\n",
              "      <th>1</th>\n",
              "      <td>IR17-ENGG-2-18633</td>\n",
              "      <td>Indian Institute of Technology Bombay</td>\n",
              "      <td>91.15</td>\n",
              "      <td>94.68</td>\n",
              "      <td>83.64</td>\n",
              "      <td>69.70</td>\n",
              "      <td>84.24</td>\n",
              "      <td>Mumbai</td>\n",
              "      <td>Maharashtra</td>\n",
              "      <td>87.87</td>\n",
              "      <td>2</td>\n",
              "    </tr>\n",
              "    <tr>\n",
              "      <th>2</th>\n",
              "      <td>IR17-ENGG-2-18630</td>\n",
              "      <td>Indian Institute of Technology Kharagpur</td>\n",
              "      <td>76.03</td>\n",
              "      <td>89.23</td>\n",
              "      <td>88.02</td>\n",
              "      <td>74.11</td>\n",
              "      <td>73.43</td>\n",
              "      <td>Kharagpur</td>\n",
              "      <td>West Bengal</td>\n",
              "      <td>81.93</td>\n",
              "      <td>3</td>\n",
              "    </tr>\n",
              "    <tr>\n",
              "      <th>3</th>\n",
              "      <td>IR17-ENGG-2-1-79</td>\n",
              "      <td>Indian Institute of Technology Delhi</td>\n",
              "      <td>79.63</td>\n",
              "      <td>89.47</td>\n",
              "      <td>77.45</td>\n",
              "      <td>71.41</td>\n",
              "      <td>77.24</td>\n",
              "      <td>New Delhi</td>\n",
              "      <td>Delhi</td>\n",
              "      <td>81.08</td>\n",
              "      <td>4</td>\n",
              "    </tr>\n",
              "    <tr>\n",
              "      <th>4</th>\n",
              "      <td>IR17-ENGG-2-18248</td>\n",
              "      <td>Indian Institute of Technology Kanpur</td>\n",
              "      <td>84.28</td>\n",
              "      <td>77.28</td>\n",
              "      <td>74.29</td>\n",
              "      <td>61.35</td>\n",
              "      <td>73.59</td>\n",
              "      <td>Kanpur</td>\n",
              "      <td>Uttar Pradesh</td>\n",
              "      <td>76.83</td>\n",
              "      <td>5</td>\n",
              "    </tr>\n",
              "  </tbody>\n",
              "</table>\n",
              "</div>"
            ],
            "text/plain": [
              "        institute_id                                      name  ...  score  rank\n",
              "0   IR17-ENGG-1-1-77     Indian Institute of Technology Madras  ...  87.96     1\n",
              "1  IR17-ENGG-2-18633     Indian Institute of Technology Bombay  ...  87.87     2\n",
              "2  IR17-ENGG-2-18630  Indian Institute of Technology Kharagpur  ...  81.93     3\n",
              "3   IR17-ENGG-2-1-79      Indian Institute of Technology Delhi  ...  81.08     4\n",
              "4  IR17-ENGG-2-18248     Indian Institute of Technology Kanpur  ...  76.83     5\n",
              "\n",
              "[5 rows x 11 columns]"
            ]
          },
          "metadata": {
            "tags": []
          },
          "execution_count": 6
        }
      ]
    },
    {
      "cell_type": "code",
      "metadata": {
        "id": "gNby7LJWr-Sm"
      },
      "source": [
        "data2018 = pd.read_csv('/content/drive/MyDrive/NIRF_2018.csv')"
      ],
      "execution_count": 6,
      "outputs": []
    },
    {
      "cell_type": "code",
      "metadata": {
        "colab": {
          "base_uri": "https://localhost:8080/",
          "height": 204
        },
        "id": "BeNaqqmnyhPs",
        "outputId": "c5e937ae-39ab-49dd-e50e-559a1e3c074e"
      },
      "source": [
        "data2018.head()"
      ],
      "execution_count": null,
      "outputs": [
        {
          "output_type": "execute_result",
          "data": {
            "text/html": [
              "<div>\n",
              "<style scoped>\n",
              "    .dataframe tbody tr th:only-of-type {\n",
              "        vertical-align: middle;\n",
              "    }\n",
              "\n",
              "    .dataframe tbody tr th {\n",
              "        vertical-align: top;\n",
              "    }\n",
              "\n",
              "    .dataframe thead th {\n",
              "        text-align: right;\n",
              "    }\n",
              "</style>\n",
              "<table border=\"1\" class=\"dataframe\">\n",
              "  <thead>\n",
              "    <tr style=\"text-align: right;\">\n",
              "      <th></th>\n",
              "      <th>institute_id</th>\n",
              "      <th>name</th>\n",
              "      <th>tlr</th>\n",
              "      <th>rpc</th>\n",
              "      <th>go</th>\n",
              "      <th>oi</th>\n",
              "      <th>perception</th>\n",
              "      <th>city</th>\n",
              "      <th>state</th>\n",
              "      <th>score</th>\n",
              "      <th>rank</th>\n",
              "    </tr>\n",
              "  </thead>\n",
              "  <tbody>\n",
              "    <tr>\n",
              "      <th>0</th>\n",
              "      <td>IR-2-E-OE-U-0456</td>\n",
              "      <td>Indian Institute of Technology Madras</td>\n",
              "      <td>93.83</td>\n",
              "      <td>91.44</td>\n",
              "      <td>84.91</td>\n",
              "      <td>63.88</td>\n",
              "      <td>100.00</td>\n",
              "      <td>Chennai</td>\n",
              "      <td>Tamil Nadu</td>\n",
              "      <td>88.95</td>\n",
              "      <td>1</td>\n",
              "    </tr>\n",
              "    <tr>\n",
              "      <th>1</th>\n",
              "      <td>IR-3-E-OEM-U-0306</td>\n",
              "      <td>Indian Institute of Technology Bombay</td>\n",
              "      <td>89.61</td>\n",
              "      <td>96.04</td>\n",
              "      <td>76.53</td>\n",
              "      <td>44.71</td>\n",
              "      <td>93.48</td>\n",
              "      <td>Mumbai</td>\n",
              "      <td>Maharashtra</td>\n",
              "      <td>84.82</td>\n",
              "      <td>2</td>\n",
              "    </tr>\n",
              "    <tr>\n",
              "      <th>2</th>\n",
              "      <td>IR-3-E-OEM-I-1074</td>\n",
              "      <td>Indian Institute of Technology Delhi</td>\n",
              "      <td>80.83</td>\n",
              "      <td>89.35</td>\n",
              "      <td>81.47</td>\n",
              "      <td>59.72</td>\n",
              "      <td>88.60</td>\n",
              "      <td>New Delhi</td>\n",
              "      <td>Delhi</td>\n",
              "      <td>82.18</td>\n",
              "      <td>3</td>\n",
              "    </tr>\n",
              "    <tr>\n",
              "      <th>3</th>\n",
              "      <td>IR-5-E-OEMAL-U-0573</td>\n",
              "      <td>Indian Institute of Technology Kharagpur</td>\n",
              "      <td>73.73</td>\n",
              "      <td>84.26</td>\n",
              "      <td>85.65</td>\n",
              "      <td>53.99</td>\n",
              "      <td>78.51</td>\n",
              "      <td>Kharagpur</td>\n",
              "      <td>West Bengal</td>\n",
              "      <td>77.78</td>\n",
              "      <td>4</td>\n",
              "    </tr>\n",
              "    <tr>\n",
              "      <th>4</th>\n",
              "      <td>IR-3-E-OEM-I-1075</td>\n",
              "      <td>Indian Institute of Technology Kanpur</td>\n",
              "      <td>78.51</td>\n",
              "      <td>77.15</td>\n",
              "      <td>78.99</td>\n",
              "      <td>41.46</td>\n",
              "      <td>85.89</td>\n",
              "      <td>Kanpur</td>\n",
              "      <td>Uttar Pradesh</td>\n",
              "      <td>75.24</td>\n",
              "      <td>5</td>\n",
              "    </tr>\n",
              "  </tbody>\n",
              "</table>\n",
              "</div>"
            ],
            "text/plain": [
              "          institute_id                                      name  ...  score  rank\n",
              "0     IR-2-E-OE-U-0456     Indian Institute of Technology Madras  ...  88.95     1\n",
              "1    IR-3-E-OEM-U-0306     Indian Institute of Technology Bombay  ...  84.82     2\n",
              "2    IR-3-E-OEM-I-1074      Indian Institute of Technology Delhi  ...  82.18     3\n",
              "3  IR-5-E-OEMAL-U-0573  Indian Institute of Technology Kharagpur  ...  77.78     4\n",
              "4    IR-3-E-OEM-I-1075     Indian Institute of Technology Kanpur  ...  75.24     5\n",
              "\n",
              "[5 rows x 11 columns]"
            ]
          },
          "metadata": {
            "tags": []
          },
          "execution_count": 8
        }
      ]
    },
    {
      "cell_type": "code",
      "metadata": {
        "id": "L48m-a5ssDtB"
      },
      "source": [
        "data2019 = pd.read_csv('/content/drive/MyDrive/NIRF_2019.csv')"
      ],
      "execution_count": 7,
      "outputs": []
    },
    {
      "cell_type": "code",
      "metadata": {
        "colab": {
          "base_uri": "https://localhost:8080/",
          "height": 204
        },
        "id": "vLd_4Xr7ypp0",
        "outputId": "061dbc6b-d386-40a8-d707-be06b29a8ad9"
      },
      "source": [
        "data2019.head()"
      ],
      "execution_count": null,
      "outputs": [
        {
          "output_type": "execute_result",
          "data": {
            "text/html": [
              "<div>\n",
              "<style scoped>\n",
              "    .dataframe tbody tr th:only-of-type {\n",
              "        vertical-align: middle;\n",
              "    }\n",
              "\n",
              "    .dataframe tbody tr th {\n",
              "        vertical-align: top;\n",
              "    }\n",
              "\n",
              "    .dataframe thead th {\n",
              "        text-align: right;\n",
              "    }\n",
              "</style>\n",
              "<table border=\"1\" class=\"dataframe\">\n",
              "  <thead>\n",
              "    <tr style=\"text-align: right;\">\n",
              "      <th></th>\n",
              "      <th>institute_id</th>\n",
              "      <th>name</th>\n",
              "      <th>tlr</th>\n",
              "      <th>rpc</th>\n",
              "      <th>go</th>\n",
              "      <th>oi</th>\n",
              "      <th>perception</th>\n",
              "      <th>city</th>\n",
              "      <th>state</th>\n",
              "      <th>score</th>\n",
              "      <th>rank</th>\n",
              "    </tr>\n",
              "  </thead>\n",
              "  <tbody>\n",
              "    <tr>\n",
              "      <th>0</th>\n",
              "      <td>IR-E-U-0456</td>\n",
              "      <td>Indian Institute of Technology Madras</td>\n",
              "      <td>93.55</td>\n",
              "      <td>92.39</td>\n",
              "      <td>84.36</td>\n",
              "      <td>63.99</td>\n",
              "      <td>100.00</td>\n",
              "      <td>Chennai</td>\n",
              "      <td>Tamil Nadu</td>\n",
              "      <td>89.05</td>\n",
              "      <td>1</td>\n",
              "    </tr>\n",
              "    <tr>\n",
              "      <th>1</th>\n",
              "      <td>IR-E-I-1074</td>\n",
              "      <td>Indian Institute of Technology Delhi</td>\n",
              "      <td>85.80</td>\n",
              "      <td>96.18</td>\n",
              "      <td>80.32</td>\n",
              "      <td>56.19</td>\n",
              "      <td>90.85</td>\n",
              "      <td>New Delhi</td>\n",
              "      <td>Delhi</td>\n",
              "      <td>85.36</td>\n",
              "      <td>2</td>\n",
              "    </tr>\n",
              "    <tr>\n",
              "      <th>2</th>\n",
              "      <td>IR-E-U-0306</td>\n",
              "      <td>Indian Institute of Technology Bombay</td>\n",
              "      <td>89.12</td>\n",
              "      <td>95.30</td>\n",
              "      <td>76.47</td>\n",
              "      <td>48.17</td>\n",
              "      <td>89.61</td>\n",
              "      <td>Mumbai</td>\n",
              "      <td>Maharashtra</td>\n",
              "      <td>84.40</td>\n",
              "      <td>3</td>\n",
              "    </tr>\n",
              "    <tr>\n",
              "      <th>3</th>\n",
              "      <td>IR-E-U-0573</td>\n",
              "      <td>Indian Institute of Technology Kharagpur</td>\n",
              "      <td>73.14</td>\n",
              "      <td>88.20</td>\n",
              "      <td>84.12</td>\n",
              "      <td>57.79</td>\n",
              "      <td>84.14</td>\n",
              "      <td>Kharagpur</td>\n",
              "      <td>West Bengal</td>\n",
              "      <td>79.41</td>\n",
              "      <td>4</td>\n",
              "    </tr>\n",
              "    <tr>\n",
              "      <th>4</th>\n",
              "      <td>IR-E-I-1075</td>\n",
              "      <td>Indian Institute of Technology Kanpur</td>\n",
              "      <td>79.07</td>\n",
              "      <td>81.79</td>\n",
              "      <td>82.56</td>\n",
              "      <td>46.61</td>\n",
              "      <td>81.35</td>\n",
              "      <td>Kanpur</td>\n",
              "      <td>Uttar Pradesh</td>\n",
              "      <td>77.57</td>\n",
              "      <td>5</td>\n",
              "    </tr>\n",
              "  </tbody>\n",
              "</table>\n",
              "</div>"
            ],
            "text/plain": [
              "  institute_id                                      name  ...  score  rank\n",
              "0  IR-E-U-0456     Indian Institute of Technology Madras  ...  89.05     1\n",
              "1  IR-E-I-1074      Indian Institute of Technology Delhi  ...  85.36     2\n",
              "2  IR-E-U-0306     Indian Institute of Technology Bombay  ...  84.40     3\n",
              "3  IR-E-U-0573  Indian Institute of Technology Kharagpur  ...  79.41     4\n",
              "4  IR-E-I-1075     Indian Institute of Technology Kanpur  ...  77.57     5\n",
              "\n",
              "[5 rows x 11 columns]"
            ]
          },
          "metadata": {
            "tags": []
          },
          "execution_count": 11
        }
      ]
    },
    {
      "cell_type": "code",
      "metadata": {
        "id": "7jrkuT_IAWnC"
      },
      "source": [
        "data2020 = pd.read_csv('/content/drive/MyDrive/nirf_engg_ranking_india_2020.csv')"
      ],
      "execution_count": 8,
      "outputs": []
    },
    {
      "cell_type": "code",
      "metadata": {
        "colab": {
          "base_uri": "https://localhost:8080/",
          "height": 272
        },
        "id": "PLvj88UZAfZa",
        "outputId": "b2b9b464-db11-47e9-ea3e-e138dce5c12e"
      },
      "source": [
        "data2020.head()"
      ],
      "execution_count": null,
      "outputs": [
        {
          "output_type": "execute_result",
          "data": {
            "text/html": [
              "<div>\n",
              "<style scoped>\n",
              "    .dataframe tbody tr th:only-of-type {\n",
              "        vertical-align: middle;\n",
              "    }\n",
              "\n",
              "    .dataframe tbody tr th {\n",
              "        vertical-align: top;\n",
              "    }\n",
              "\n",
              "    .dataframe thead th {\n",
              "        text-align: right;\n",
              "    }\n",
              "</style>\n",
              "<table border=\"1\" class=\"dataframe\">\n",
              "  <thead>\n",
              "    <tr style=\"text-align: right;\">\n",
              "      <th></th>\n",
              "      <th>institute_id</th>\n",
              "      <th>name</th>\n",
              "      <th>link</th>\n",
              "      <th>tlr</th>\n",
              "      <th>rpc</th>\n",
              "      <th>go</th>\n",
              "      <th>oi</th>\n",
              "      <th>perception</th>\n",
              "      <th>city</th>\n",
              "      <th>state</th>\n",
              "      <th>score</th>\n",
              "      <th>rank</th>\n",
              "    </tr>\n",
              "  </thead>\n",
              "  <tbody>\n",
              "    <tr>\n",
              "      <th>0</th>\n",
              "      <td>IR-E-U-0456</td>\n",
              "      <td>Indian Institute of Technology Madras</td>\n",
              "      <td>https://nirfcdn.azureedge.net/2020/pdf/Enginee...</td>\n",
              "      <td>95.42</td>\n",
              "      <td>94.64</td>\n",
              "      <td>83.90</td>\n",
              "      <td>61.31</td>\n",
              "      <td>100.00</td>\n",
              "      <td>Chennai</td>\n",
              "      <td>Tamil Nadu</td>\n",
              "      <td>89.93</td>\n",
              "      <td>1</td>\n",
              "    </tr>\n",
              "    <tr>\n",
              "      <th>1</th>\n",
              "      <td>IR-E-I-1074</td>\n",
              "      <td>Indian Institute of Technology Delhi</td>\n",
              "      <td>https://nirfcdn.azureedge.net/2020/pdf/Enginee...</td>\n",
              "      <td>90.79</td>\n",
              "      <td>96.15</td>\n",
              "      <td>80.36</td>\n",
              "      <td>64.81</td>\n",
              "      <td>94.46</td>\n",
              "      <td>New Delhi</td>\n",
              "      <td>Delhi</td>\n",
              "      <td>88.08</td>\n",
              "      <td>2</td>\n",
              "    </tr>\n",
              "    <tr>\n",
              "      <th>2</th>\n",
              "      <td>IR-E-U-0306</td>\n",
              "      <td>Indian Institute of Technology Bombay</td>\n",
              "      <td>https://nirfcdn.azureedge.net/2020/pdf/Enginee...</td>\n",
              "      <td>91.00</td>\n",
              "      <td>93.37</td>\n",
              "      <td>77.60</td>\n",
              "      <td>49.99</td>\n",
              "      <td>92.51</td>\n",
              "      <td>Mumbai</td>\n",
              "      <td>Maharashtra</td>\n",
              "      <td>85.08</td>\n",
              "      <td>3</td>\n",
              "    </tr>\n",
              "    <tr>\n",
              "      <th>3</th>\n",
              "      <td>IR-E-I-1075</td>\n",
              "      <td>Indian Institute of Technology Kanpur</td>\n",
              "      <td>https://nirfcdn.azureedge.net/2020/pdf/Enginee...</td>\n",
              "      <td>86.22</td>\n",
              "      <td>82.08</td>\n",
              "      <td>88.44</td>\n",
              "      <td>54.21</td>\n",
              "      <td>85.78</td>\n",
              "      <td>Kanpur</td>\n",
              "      <td>Uttar Pradesh</td>\n",
              "      <td>82.18</td>\n",
              "      <td>4</td>\n",
              "    </tr>\n",
              "    <tr>\n",
              "      <th>4</th>\n",
              "      <td>IR-E-U-0573</td>\n",
              "      <td>Indian Institute of Technology Kharagpur</td>\n",
              "      <td>https://nirfcdn.azureedge.net/2020/pdf/Enginee...</td>\n",
              "      <td>77.32</td>\n",
              "      <td>87.11</td>\n",
              "      <td>83.21</td>\n",
              "      <td>56.62</td>\n",
              "      <td>89.31</td>\n",
              "      <td>Kharagpur</td>\n",
              "      <td>West Bengal</td>\n",
              "      <td>80.56</td>\n",
              "      <td>5</td>\n",
              "    </tr>\n",
              "  </tbody>\n",
              "</table>\n",
              "</div>"
            ],
            "text/plain": [
              "  institute_id                                      name  ...  score  rank\n",
              "0  IR-E-U-0456     Indian Institute of Technology Madras  ...  89.93     1\n",
              "1  IR-E-I-1074      Indian Institute of Technology Delhi  ...  88.08     2\n",
              "2  IR-E-U-0306     Indian Institute of Technology Bombay  ...  85.08     3\n",
              "3  IR-E-I-1075     Indian Institute of Technology Kanpur  ...  82.18     4\n",
              "4  IR-E-U-0573  Indian Institute of Technology Kharagpur  ...  80.56     5\n",
              "\n",
              "[5 rows x 12 columns]"
            ]
          },
          "metadata": {
            "tags": []
          },
          "execution_count": 13
        }
      ]
    },
    {
      "cell_type": "code",
      "metadata": {
        "id": "ebmu11jLy3mV"
      },
      "source": [
        "data2020 = data2020.drop('link', axis=1)"
      ],
      "execution_count": 9,
      "outputs": []
    },
    {
      "cell_type": "code",
      "metadata": {
        "colab": {
          "base_uri": "https://localhost:8080/",
          "height": 204
        },
        "id": "2k3BA05XzF-J",
        "outputId": "3613ef90-76af-44bd-b66b-011440c0ae7b"
      },
      "source": [
        "data2020.head()"
      ],
      "execution_count": null,
      "outputs": [
        {
          "output_type": "execute_result",
          "data": {
            "text/html": [
              "<div>\n",
              "<style scoped>\n",
              "    .dataframe tbody tr th:only-of-type {\n",
              "        vertical-align: middle;\n",
              "    }\n",
              "\n",
              "    .dataframe tbody tr th {\n",
              "        vertical-align: top;\n",
              "    }\n",
              "\n",
              "    .dataframe thead th {\n",
              "        text-align: right;\n",
              "    }\n",
              "</style>\n",
              "<table border=\"1\" class=\"dataframe\">\n",
              "  <thead>\n",
              "    <tr style=\"text-align: right;\">\n",
              "      <th></th>\n",
              "      <th>institute_id</th>\n",
              "      <th>name</th>\n",
              "      <th>tlr</th>\n",
              "      <th>rpc</th>\n",
              "      <th>go</th>\n",
              "      <th>oi</th>\n",
              "      <th>perception</th>\n",
              "      <th>city</th>\n",
              "      <th>state</th>\n",
              "      <th>score</th>\n",
              "      <th>rank</th>\n",
              "    </tr>\n",
              "  </thead>\n",
              "  <tbody>\n",
              "    <tr>\n",
              "      <th>0</th>\n",
              "      <td>IR-E-U-0456</td>\n",
              "      <td>Indian Institute of Technology Madras</td>\n",
              "      <td>95.42</td>\n",
              "      <td>94.64</td>\n",
              "      <td>83.90</td>\n",
              "      <td>61.31</td>\n",
              "      <td>100.00</td>\n",
              "      <td>Chennai</td>\n",
              "      <td>Tamil Nadu</td>\n",
              "      <td>89.93</td>\n",
              "      <td>1</td>\n",
              "    </tr>\n",
              "    <tr>\n",
              "      <th>1</th>\n",
              "      <td>IR-E-I-1074</td>\n",
              "      <td>Indian Institute of Technology Delhi</td>\n",
              "      <td>90.79</td>\n",
              "      <td>96.15</td>\n",
              "      <td>80.36</td>\n",
              "      <td>64.81</td>\n",
              "      <td>94.46</td>\n",
              "      <td>New Delhi</td>\n",
              "      <td>Delhi</td>\n",
              "      <td>88.08</td>\n",
              "      <td>2</td>\n",
              "    </tr>\n",
              "    <tr>\n",
              "      <th>2</th>\n",
              "      <td>IR-E-U-0306</td>\n",
              "      <td>Indian Institute of Technology Bombay</td>\n",
              "      <td>91.00</td>\n",
              "      <td>93.37</td>\n",
              "      <td>77.60</td>\n",
              "      <td>49.99</td>\n",
              "      <td>92.51</td>\n",
              "      <td>Mumbai</td>\n",
              "      <td>Maharashtra</td>\n",
              "      <td>85.08</td>\n",
              "      <td>3</td>\n",
              "    </tr>\n",
              "    <tr>\n",
              "      <th>3</th>\n",
              "      <td>IR-E-I-1075</td>\n",
              "      <td>Indian Institute of Technology Kanpur</td>\n",
              "      <td>86.22</td>\n",
              "      <td>82.08</td>\n",
              "      <td>88.44</td>\n",
              "      <td>54.21</td>\n",
              "      <td>85.78</td>\n",
              "      <td>Kanpur</td>\n",
              "      <td>Uttar Pradesh</td>\n",
              "      <td>82.18</td>\n",
              "      <td>4</td>\n",
              "    </tr>\n",
              "    <tr>\n",
              "      <th>4</th>\n",
              "      <td>IR-E-U-0573</td>\n",
              "      <td>Indian Institute of Technology Kharagpur</td>\n",
              "      <td>77.32</td>\n",
              "      <td>87.11</td>\n",
              "      <td>83.21</td>\n",
              "      <td>56.62</td>\n",
              "      <td>89.31</td>\n",
              "      <td>Kharagpur</td>\n",
              "      <td>West Bengal</td>\n",
              "      <td>80.56</td>\n",
              "      <td>5</td>\n",
              "    </tr>\n",
              "  </tbody>\n",
              "</table>\n",
              "</div>"
            ],
            "text/plain": [
              "  institute_id                                      name  ...  score  rank\n",
              "0  IR-E-U-0456     Indian Institute of Technology Madras  ...  89.93     1\n",
              "1  IR-E-I-1074      Indian Institute of Technology Delhi  ...  88.08     2\n",
              "2  IR-E-U-0306     Indian Institute of Technology Bombay  ...  85.08     3\n",
              "3  IR-E-I-1075     Indian Institute of Technology Kanpur  ...  82.18     4\n",
              "4  IR-E-U-0573  Indian Institute of Technology Kharagpur  ...  80.56     5\n",
              "\n",
              "[5 rows x 11 columns]"
            ]
          },
          "metadata": {
            "tags": []
          },
          "execution_count": 15
        }
      ]
    },
    {
      "cell_type": "code",
      "metadata": {
        "id": "F3yVyY7f0dzx"
      },
      "source": [
        "df_list = [data2016, data2017, data2018, data2019, data2020]\r\n",
        "df = pd.concat(df_list, axis=0, ignore_index=True)"
      ],
      "execution_count": 10,
      "outputs": []
    },
    {
      "cell_type": "code",
      "metadata": {
        "colab": {
          "base_uri": "https://localhost:8080/",
          "height": 204
        },
        "id": "pHYN1ps403_S",
        "outputId": "041b6fb7-fb76-446e-a37e-e69be7632f6f"
      },
      "source": [
        "df.head()"
      ],
      "execution_count": null,
      "outputs": [
        {
          "output_type": "execute_result",
          "data": {
            "text/html": [
              "<div>\n",
              "<style scoped>\n",
              "    .dataframe tbody tr th:only-of-type {\n",
              "        vertical-align: middle;\n",
              "    }\n",
              "\n",
              "    .dataframe tbody tr th {\n",
              "        vertical-align: top;\n",
              "    }\n",
              "\n",
              "    .dataframe thead th {\n",
              "        text-align: right;\n",
              "    }\n",
              "</style>\n",
              "<table border=\"1\" class=\"dataframe\">\n",
              "  <thead>\n",
              "    <tr style=\"text-align: right;\">\n",
              "      <th></th>\n",
              "      <th>institute_id</th>\n",
              "      <th>name</th>\n",
              "      <th>tlr</th>\n",
              "      <th>rpc</th>\n",
              "      <th>go</th>\n",
              "      <th>oi</th>\n",
              "      <th>perception</th>\n",
              "      <th>city</th>\n",
              "      <th>state</th>\n",
              "      <th>score</th>\n",
              "      <th>rank</th>\n",
              "    </tr>\n",
              "  </thead>\n",
              "  <tbody>\n",
              "    <tr>\n",
              "      <th>0</th>\n",
              "      <td>NIRF-ENGG-INF-77</td>\n",
              "      <td>Indian Institute Of Technology, Madras</td>\n",
              "      <td>88.26</td>\n",
              "      <td>94.02</td>\n",
              "      <td>81.81</td>\n",
              "      <td>86.11</td>\n",
              "      <td>98.0</td>\n",
              "      <td>Chennai</td>\n",
              "      <td>Tamil Nadu</td>\n",
              "      <td>89.41</td>\n",
              "      <td>1</td>\n",
              "    </tr>\n",
              "    <tr>\n",
              "      <th>1</th>\n",
              "      <td>NIRF-ENGG-INF-312</td>\n",
              "      <td>Indian Institute Of Technology, Bombay</td>\n",
              "      <td>85.93</td>\n",
              "      <td>94.14</td>\n",
              "      <td>84.97</td>\n",
              "      <td>74.84</td>\n",
              "      <td>99.0</td>\n",
              "      <td>Bombay</td>\n",
              "      <td>Maharashtra</td>\n",
              "      <td>87.66</td>\n",
              "      <td>2</td>\n",
              "    </tr>\n",
              "    <tr>\n",
              "      <th>2</th>\n",
              "      <td>NIRF-ENGG-INF-300</td>\n",
              "      <td>Indian Institute Of Technology, Kharagpur</td>\n",
              "      <td>76.23</td>\n",
              "      <td>92.68</td>\n",
              "      <td>83.95</td>\n",
              "      <td>78.05</td>\n",
              "      <td>97.0</td>\n",
              "      <td>Kharagpur</td>\n",
              "      <td>West Bengal</td>\n",
              "      <td>83.91</td>\n",
              "      <td>3</td>\n",
              "    </tr>\n",
              "    <tr>\n",
              "      <th>3</th>\n",
              "      <td>NIRF-ENGG-INF-79</td>\n",
              "      <td>Indian Institute Of Technology, Delhi</td>\n",
              "      <td>80.27</td>\n",
              "      <td>91.62</td>\n",
              "      <td>74.72</td>\n",
              "      <td>66.17</td>\n",
              "      <td>98.0</td>\n",
              "      <td>New Delhi</td>\n",
              "      <td>Delhi</td>\n",
              "      <td>82.02</td>\n",
              "      <td>4</td>\n",
              "    </tr>\n",
              "    <tr>\n",
              "      <th>4</th>\n",
              "      <td>NIRF-ENGG-INF-228</td>\n",
              "      <td>Indian Institute Of Technology, Kanpur</td>\n",
              "      <td>66.08</td>\n",
              "      <td>93.52</td>\n",
              "      <td>85.62</td>\n",
              "      <td>70.59</td>\n",
              "      <td>98.0</td>\n",
              "      <td>Kanpur</td>\n",
              "      <td>Uttar Pradesh</td>\n",
              "      <td>81.07</td>\n",
              "      <td>5</td>\n",
              "    </tr>\n",
              "  </tbody>\n",
              "</table>\n",
              "</div>"
            ],
            "text/plain": [
              "        institute_id                                       name  ...  score  rank\n",
              "0   NIRF-ENGG-INF-77     Indian Institute Of Technology, Madras  ...  89.41     1\n",
              "1  NIRF-ENGG-INF-312     Indian Institute Of Technology, Bombay  ...  87.66     2\n",
              "2  NIRF-ENGG-INF-300  Indian Institute Of Technology, Kharagpur  ...  83.91     3\n",
              "3   NIRF-ENGG-INF-79      Indian Institute Of Technology, Delhi  ...  82.02     4\n",
              "4  NIRF-ENGG-INF-228     Indian Institute Of Technology, Kanpur  ...  81.07     5\n",
              "\n",
              "[5 rows x 11 columns]"
            ]
          },
          "metadata": {
            "tags": []
          },
          "execution_count": 17
        }
      ]
    },
    {
      "cell_type": "markdown",
      "metadata": {
        "id": "G6EItT_cOSgO"
      },
      "source": [
        "**Data Columns**<br>\r\n",
        "tlr - teaching,learning & resources<br>\r\n",
        "rpc - research, professional practice and collaborative performance<br>\r\n",
        "go - graduation outcome<br>\r\n",
        "oi - outreach and inclusivity<br>\r\n",
        "perception - academic peer and employers perception<br>\r\n",
        "score - overall score obtained by the college<br>\r\n",
        "link - link to the full report of the college<br>\r\n",
        "rank - final rank obtained by the college based on the score<br>\r\n",
        "institute_id - unique id provided by nirf india<br>"
      ]
    },
    {
      "cell_type": "code",
      "metadata": {
        "colab": {
          "base_uri": "https://localhost:8080/"
        },
        "id": "o3aKngJAAgcC",
        "outputId": "eef919ad-ff3b-4cb3-bec7-2d916897092f"
      },
      "source": [
        "df.info()"
      ],
      "execution_count": null,
      "outputs": [
        {
          "output_type": "stream",
          "text": [
            "<class 'pandas.core.frame.DataFrame'>\n",
            "RangeIndex: 699 entries, 0 to 698\n",
            "Data columns (total 11 columns):\n",
            " #   Column        Non-Null Count  Dtype  \n",
            "---  ------        --------------  -----  \n",
            " 0   institute_id  699 non-null    object \n",
            " 1   name          699 non-null    object \n",
            " 2   tlr           699 non-null    float64\n",
            " 3   rpc           699 non-null    float64\n",
            " 4   go            699 non-null    float64\n",
            " 5   oi            699 non-null    float64\n",
            " 6   perception    699 non-null    float64\n",
            " 7   city          699 non-null    object \n",
            " 8   state         699 non-null    object \n",
            " 9   score         699 non-null    float64\n",
            " 10  rank          699 non-null    object \n",
            "dtypes: float64(6), object(5)\n",
            "memory usage: 60.2+ KB\n"
          ],
          "name": "stdout"
        }
      ]
    },
    {
      "cell_type": "markdown",
      "metadata": {
        "id": "BpQpMjJcr-8M"
      },
      "source": [
        "To convert ranks like 21A, 45A etc to a number so as to maintain uniformity"
      ]
    },
    {
      "cell_type": "code",
      "metadata": {
        "id": "cpovqmOm0S7u"
      },
      "source": [
        "df['rank'] = df['rank'].apply(lambda x: x if isinstance(x, int) else x if x.isdigit() else x[:-1])"
      ],
      "execution_count": 11,
      "outputs": []
    },
    {
      "cell_type": "code",
      "metadata": {
        "id": "GfNOiOM_9tiI"
      },
      "source": [
        "df['rank'] = pd.to_numeric(df['rank'])"
      ],
      "execution_count": 12,
      "outputs": []
    },
    {
      "cell_type": "markdown",
      "metadata": {
        "id": "eVnXX4GrJmKE"
      },
      "source": [
        "\r\n",
        "\r\n",
        "---\r\n",
        "\r\n"
      ]
    },
    {
      "cell_type": "markdown",
      "metadata": {
        "id": "Awt6HoIODhkr"
      },
      "source": [
        "**Measures of Central Tendency**\r\n",
        "\r\n",
        "Mean of every numeric column(ratio type data) present in the dataset"
      ]
    },
    {
      "cell_type": "code",
      "metadata": {
        "colab": {
          "base_uri": "https://localhost:8080/"
        },
        "id": "wYIrmJPADEEC",
        "outputId": "b2c9ed4d-1936-4169-e617-e6e2cb2e47ab"
      },
      "source": [
        "colMeans = df.mean(axis=0, numeric_only=True)\r\n",
        "print(colMeans)"
      ],
      "execution_count": null,
      "outputs": [
        {
          "output_type": "stream",
          "text": [
            "tlr           58.974034\n",
            "rpc           27.627854\n",
            "go            60.744764\n",
            "oi            54.970458\n",
            "perception    21.308312\n",
            "score         45.633455\n",
            "dtype: float64\n"
          ],
          "name": "stdout"
        }
      ]
    },
    {
      "cell_type": "markdown",
      "metadata": {
        "id": "qzDyCV61Ddkb"
      },
      "source": [
        "Median of every numeric column(ratio type data) present in the dataset"
      ]
    },
    {
      "cell_type": "code",
      "metadata": {
        "colab": {
          "base_uri": "https://localhost:8080/"
        },
        "id": "TYMXjIDoDY2h",
        "outputId": "e18db86a-a3c2-46fa-f69c-752e6d75c032"
      },
      "source": [
        "colMedians = df.median(axis=0, numeric_only=True)\r\n",
        "print(colMedians)"
      ],
      "execution_count": null,
      "outputs": [
        {
          "output_type": "stream",
          "text": [
            "tlr           57.29\n",
            "rpc           20.12\n",
            "go            59.88\n",
            "oi            53.83\n",
            "perception    10.79\n",
            "score         41.37\n",
            "dtype: float64\n"
          ],
          "name": "stdout"
        }
      ]
    },
    {
      "cell_type": "markdown",
      "metadata": {
        "id": "yMKZgPhtEEiW"
      },
      "source": [
        "Mode of the column 'state' present in the dataset"
      ]
    },
    {
      "cell_type": "code",
      "metadata": {
        "id": "vMv-bGaCDShC",
        "colab": {
          "base_uri": "https://localhost:8080/"
        },
        "outputId": "c2ae65b1-ff4a-4d70-a159-b920d7da7dad"
      },
      "source": [
        "print(data2020['state'].mode())\r\n",
        "print('Frequency: ', data2020['state'].value_counts().max())"
      ],
      "execution_count": null,
      "outputs": [
        {
          "output_type": "stream",
          "text": [
            "0    Tamil Nadu\n",
            "dtype: object\n",
            "Frequency:  35\n"
          ],
          "name": "stdout"
        }
      ]
    },
    {
      "cell_type": "markdown",
      "metadata": {
        "id": "isyYQVjxLJS6"
      },
      "source": [
        "This shows that the state Tamil Nadu has the highest number of Engineering Colleges(i.e., 35) among the top 200 Engineering Colleges of India."
      ]
    },
    {
      "cell_type": "markdown",
      "metadata": {
        "id": "jtqjtvTjSyGj"
      },
      "source": [
        "\r\n",
        "\r\n",
        "---\r\n",
        "\r\n"
      ]
    },
    {
      "cell_type": "markdown",
      "metadata": {
        "id": "KLQ8T06gSz8r"
      },
      "source": [
        "**Distribution Type**"
      ]
    },
    {
      "cell_type": "markdown",
      "metadata": {
        "id": "YHn2TA_aKysn"
      },
      "source": [
        "Using visualization methods and ks-test<br>\r\n",
        "\r\n",
        "H0: Follows a normal distribution<br>\r\n",
        "H1: Doesn't follow a normal distribution"
      ]
    },
    {
      "cell_type": "code",
      "metadata": {
        "colab": {
          "base_uri": "https://localhost:8080/",
          "height": 404
        },
        "id": "BzXFHyXwDG7K",
        "outputId": "0d3f043a-78d3-47ee-a56c-d23a69d59532"
      },
      "source": [
        "fig, a = plt.subplots(1, 3, figsize = (20, 5))\r\n",
        "\r\n",
        "sns.distplot(df['go'], hist=True, kde=True, ax=a[0])\r\n",
        "a[0].set_title('Graduation outcome probability dist')\r\n",
        "\r\n",
        "sns.boxplot(x=df['go'], ax=a[1])\r\n",
        "a[1].set_title('Graduation outcome box plot')\r\n",
        "\r\n",
        "qqplot(df['go'], line='s', ax=a[2])\r\n",
        "a[2].set_title('Normal dist. test using QQ Plot')\r\n",
        "\r\n",
        "plt.show()"
      ],
      "execution_count": 13,
      "outputs": [
        {
          "output_type": "stream",
          "text": [
            "/usr/local/lib/python3.6/dist-packages/seaborn/distributions.py:2551: FutureWarning: `distplot` is a deprecated function and will be removed in a future version. Please adapt your code to use either `displot` (a figure-level function with similar flexibility) or `histplot` (an axes-level function for histograms).\n",
            "  warnings.warn(msg, FutureWarning)\n"
          ],
          "name": "stderr"
        },
        {
          "output_type": "display_data",
          "data": {
            "image/png": "[encoded data removed]",
            "text/plain": [
              "<Figure size 1440x360 with 3 Axes>"
            ]
          },
          "metadata": {
            "tags": [],
            "needs_background": "light"
          }
        }
      ]
    },
    {
      "cell_type": "code",
      "metadata": {
        "colab": {
          "base_uri": "https://localhost:8080/"
        },
        "id": "ewsXOAshLYol",
        "outputId": "a69b3e66-dc52-4129-97b6-6d184c2f8f05"
      },
      "source": [
        "from scipy import stats\r\n",
        "\r\n",
        "stats.kstest(df['go'], 'norm')"
      ],
      "execution_count": null,
      "outputs": [
        {
          "output_type": "execute_result",
          "data": {
            "text/plain": [
              "KstestResult(statistic=0.9999999761932709, pvalue=0.0)"
            ]
          },
          "metadata": {
            "tags": []
          },
          "execution_count": 23
        }
      ]
    },
    {
      "cell_type": "markdown",
      "metadata": {
        "id": "5JUQUIxZUeP6"
      },
      "source": [
        "'Graduation Outcome'(go) is slightly right skewed and p-value is less than 0.05 which rejects the null hypothesis hence is not normal."
      ]
    },
    {
      "cell_type": "code",
      "metadata": {
        "colab": {
          "base_uri": "https://localhost:8080/",
          "height": 404
        },
        "id": "LmfRqVnmI8t_",
        "outputId": "eeb99142-3969-4d3b-f534-b8387b2e31d7"
      },
      "source": [
        "fig, a = plt.subplots(1, 3, figsize = (20, 5))\r\n",
        "\r\n",
        "sns.distplot(df['score'], hist=True, kde=True, ax=a[0])\r\n",
        "a[0].set_title('Overall score probability dist')\r\n",
        "\r\n",
        "sns.boxplot(x=df['score'], ax=a[1])\r\n",
        "a[1].set_title('Overall score box plot')\r\n",
        "\r\n",
        "qqplot(df['score'], line='s', ax=a[2])\r\n",
        "a[2].set_title('Normal dist. test using QQ Plot')\r\n",
        "\r\n",
        "plt.show()"
      ],
      "execution_count": null,
      "outputs": [
        {
          "output_type": "stream",
          "text": [
            "/usr/local/lib/python3.6/dist-packages/seaborn/distributions.py:2551: FutureWarning: `distplot` is a deprecated function and will be removed in a future version. Please adapt your code to use either `displot` (a figure-level function with similar flexibility) or `histplot` (an axes-level function for histograms).\n",
            "  warnings.warn(msg, FutureWarning)\n"
          ],
          "name": "stderr"
        },
        {
          "output_type": "display_data",
          "data": {
            "image/png": "[encoded data removed]",
            "text/plain": [
              "<Figure size 1440x360 with 3 Axes>"
            ]
          },
          "metadata": {
            "tags": [],
            "needs_background": "light"
          }
        }
      ]
    },
    {
      "cell_type": "code",
      "metadata": {
        "colab": {
          "base_uri": "https://localhost:8080/"
        },
        "id": "x9n6WIfbRdt1",
        "outputId": "6c242a7c-2637-49e4-b8ba-174b4724eecf"
      },
      "source": [
        "stats.kstest(df['score'], 'norm')"
      ],
      "execution_count": null,
      "outputs": [
        {
          "output_type": "execute_result",
          "data": {
            "text/plain": [
              "KstestResult(statistic=1.0, pvalue=0.0)"
            ]
          },
          "metadata": {
            "tags": []
          },
          "execution_count": 25
        }
      ]
    },
    {
      "cell_type": "markdown",
      "metadata": {
        "id": "9Bh6n868Rjrw"
      },
      "source": [
        "'Overall Score'(score) is also right skewed and p-values is less than 0.05, which rejects the null hypothesis hence it is not normal"
      ]
    },
    {
      "cell_type": "markdown",
      "metadata": {
        "id": "jeeBcgltU0X7"
      },
      "source": [
        "An observation which can be made from the right skewedness of the two columns - 'Graduation Outcome'(go) and 'Overall Score'(score) indicates that both the measures for the Colleges are mostly greater than 50% which should be the reason why these Colleges are ranked among top 200 or 100 ranks over the last 4 years in the country."
      ]
    },
    {
      "cell_type": "markdown",
      "metadata": {
        "id": "AMYBb3GBTzby"
      },
      "source": [
        "\r\n",
        "\r\n",
        "---\r\n",
        "\r\n"
      ]
    },
    {
      "cell_type": "code",
      "metadata": {
        "colab": {
          "base_uri": "https://localhost:8080/",
          "height": 286
        },
        "id": "quCSQPWmzQjX",
        "outputId": "e1225013-5469-4189-e6c3-20b1fabbadb5"
      },
      "source": [
        "df_temp = df[['tlr', 'rpc', 'go', 'oi', 'perception', 'score']]\r\n",
        "corrmat = df_temp.corr()\r\n",
        "top_corr_features = corrmat.index\r\n",
        "ax = sns.heatmap(df[top_corr_features].corr(), annot=True, cmap=\"Blues\")\r\n",
        "plt.figure(figsize=(15, 15))\r\n",
        "plt.show()"
      ],
      "execution_count": null,
      "outputs": [
        {
          "output_type": "display_data",
          "data": {
            "image/png": "[encoded data removed]",
            "text/plain": [
              "<Figure size 432x288 with 2 Axes>"
            ]
          },
          "metadata": {
            "tags": [],
            "needs_background": "light"
          }
        },
        {
          "output_type": "display_data",
          "data": {
            "text/plain": [
              "<Figure size 1080x1080 with 0 Axes>"
            ]
          },
          "metadata": {
            "tags": []
          }
        }
      ]
    },
    {
      "cell_type": "markdown",
      "metadata": {
        "id": "a-tdWJCxyPrl"
      },
      "source": [
        "The above heatmap shows how different parameters are correlated with the score(Overall score), it also shows that Overall score is the column which shares a relation with all other columns(the parameters)."
      ]
    },
    {
      "cell_type": "markdown",
      "metadata": {
        "id": "Wdq32vTx0IW9"
      },
      "source": [
        "Model to estimate the Overall Score and a possible rank that a college could secure given a set of parameters."
      ]
    },
    {
      "cell_type": "code",
      "metadata": {
        "colab": {
          "base_uri": "https://localhost:8080/"
        },
        "id": "ahi6xpdOR6O5",
        "outputId": "46737ed6-d651-4997-d39f-1291b3d368d4"
      },
      "source": [
        "from sklearn.model_selection import train_test_split \r\n",
        "from sklearn.linear_model import LinearRegression\r\n",
        "from sklearn import metrics\r\n",
        "\r\n",
        "X = pd.DataFrame(np.c_[df['tlr'], df['rpc'], df['go'], df['oi'], df['perception']], columns=['tlr', 'rpc', 'go', 'oi', 'perception'])\r\n",
        "y = df['score'].values\r\n",
        "\r\n",
        "X_train, X_test, y_train, y_test = train_test_split(X, y, test_size=0.2, random_state=0)\r\n",
        "model = LinearRegression().fit(X, y)\r\n",
        "print('Multiple Linear Regression\\n')\r\n",
        "print('R2 score: ', model.score(X_test, y_test))\r\n",
        "\r\n",
        "y_pred = model.predict(X_test)\r\n",
        "\r\n",
        "print('Mean Absolute Error:', metrics.mean_absolute_error(y_test, y_pred))  \r\n",
        "print('Mean Squared Error:', metrics.mean_squared_error(y_test, y_pred))  \r\n",
        "print('Root Mean Squared Error:', np.sqrt(metrics.mean_squared_error(y_test, y_pred)))"
      ],
      "execution_count": 14,
      "outputs": [
        {
          "output_type": "stream",
          "text": [
            "Multiple Linear Regression\n",
            "\n",
            "R2 score:  0.9992399357613739\n",
            "Mean Absolute Error: 0.2288835874579264\n",
            "Mean Squared Error: 0.14994937586399015\n",
            "Root Mean Squared Error: 0.38723297362697584\n"
          ],
          "name": "stdout"
        }
      ]
    },
    {
      "cell_type": "markdown",
      "metadata": {
        "id": "aAm64is7NEAt"
      },
      "source": [
        "The above model is a multiple linear regression which has been fit over the different parameters which affect the overall score. The model performs very well with an r2 score of 0.99 with very small error values. There could be a possible overfitting of the model."
      ]
    },
    {
      "cell_type": "markdown",
      "metadata": {
        "id": "9dZrOYoxY0Ar"
      },
      "source": [
        "Regularization performed"
      ]
    },
    {
      "cell_type": "code",
      "metadata": {
        "colab": {
          "base_uri": "https://localhost:8080/"
        },
        "id": "BG6mzkZr0zWW",
        "outputId": "666a539d-0561-44be-8655-887a220e375e"
      },
      "source": [
        "from sklearn.linear_model import Lasso\r\n",
        "model2 = Lasso().fit(X, y)\r\n",
        "model2.score(X_test, y_test)"
      ],
      "execution_count": 15,
      "outputs": [
        {
          "output_type": "execute_result",
          "data": {
            "text/plain": [
              "0.9991808973404112"
            ]
          },
          "metadata": {
            "tags": []
          },
          "execution_count": 15
        }
      ]
    },
    {
      "cell_type": "code",
      "metadata": {
        "colab": {
          "base_uri": "https://localhost:8080/"
        },
        "id": "8WT5DHZq1hVN",
        "outputId": "a6ce28c3-8c04-427e-ec33-e2568b301da4"
      },
      "source": [
        "from sklearn.linear_model import Ridge\r\n",
        "model3 = Ridge().fit(X, y)\r\n",
        "model3.score(X_test, y_test)"
      ],
      "execution_count": 16,
      "outputs": [
        {
          "output_type": "execute_result",
          "data": {
            "text/plain": [
              "0.9992399359739991"
            ]
          },
          "metadata": {
            "tags": []
          },
          "execution_count": 16
        }
      ]
    },
    {
      "cell_type": "markdown",
      "metadata": {
        "id": "MDAd0loJ0ce2"
      },
      "source": [
        "The r2 scores of both the regularized models is almost similar to the non-regularized model's r2 score which implies that there was no overfitting. "
      ]
    },
    {
      "cell_type": "markdown",
      "metadata": {
        "id": "GsbPfruOgA0f"
      },
      "source": [
        "Model Testing"
      ]
    },
    {
      "cell_type": "code",
      "metadata": {
        "colab": {
          "base_uri": "https://localhost:8080/",
          "height": 313
        },
        "id": "mmsESUL1B9-0",
        "outputId": "25cd0560-5847-4474-8751-d67e5a57bef0"
      },
      "source": [
        "test = [93.26, 54.02, 91.81, 86.11, 90]\r\n",
        "arr=np.asarray(test)\r\n",
        "y_predict = model.predict(arr.reshape(1,-1))\r\n",
        "print('Predicted score: ', y_predict[0])\r\n",
        "\r\n",
        "df_temp = df[['score', 'rank']]\r\n",
        "df1 = df_temp.groupby('rank').mean()\r\n",
        "\r\n",
        "df1.plot(kind='line')\r\n",
        "\r\n",
        "a=df1.values\r\n",
        "pos, value = min(enumerate(a), key=lambda x: y_predict[0]<=x[1])\r\n",
        "print('Predicted rank: ', pos+1)"
      ],
      "execution_count": 17,
      "outputs": [
        {
          "output_type": "stream",
          "text": [
            "Estimated score:  80.04733684854037\n",
            "Estimated rank:  5\n"
          ],
          "name": "stdout"
        },
        {
          "output_type": "display_data",
          "data": {
            "image/png": "[encoded data removed]",
            "text/plain": [
              "<Figure size 432x288 with 1 Axes>"
            ]
          },
          "metadata": {
            "tags": [],
            "needs_background": "light"
          }
        }
      ]
    },
    {
      "cell_type": "markdown",
      "metadata": {
        "id": "d5NOyiLtff2-"
      },
      "source": [
        "Considering a new set of parameters as the input to the above model, the overall score and the rank have been predicted.<br>\r\n",
        "The plot shows the variation or the range of average overall scores over the top 200 ranks since 2016."
      ]
    }
  ]
}