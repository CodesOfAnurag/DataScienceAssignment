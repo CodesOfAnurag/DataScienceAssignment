{
 "cells": [
  {
   "cell_type": "markdown",
   "metadata": {},
   "source": [
    "### Things to be done:\n",
    "- ***Clean up the data*** - Remove unnecessary, unwanted data; Remove Outliners (Absurd Data)\n",
    "- ***Visualize***: x-y scatterPlot, bar chart, density plot\n",
    "- ***Transform the data***: When no specific pattern is identifiable; \n",
    "- Determine ***distribution and varible*** type"
   ]
  },
  {
   "cell_type": "code",
   "execution_count": 1,
   "metadata": {},
   "outputs": [],
   "source": [
    "# !pip install numpy pandas matplotlib seaborn scipy statsmodels gmaps"
   ]
  },
  {
   "cell_type": "code",
   "execution_count": 2,
   "metadata": {},
   "outputs": [],
   "source": [
    "# !conda install -c conda-forge ipyleaflet\n",
    "# !jupyter labextension install @jupyter-widgets/jupyterlab-manager jupyter-leaflet"
   ]
  },
  {
   "cell_type": "code",
   "execution_count": 86,
   "metadata": {},
   "outputs": [],
   "source": [
    "import numpy as np\n",
    "import pandas as pd\n",
    "import matplotlib.pyplot as plt\n",
    "import seaborn as sns\n",
    "from scipy.stats import normaltest\n",
    "from statsmodels.graphics.gofplots import qqplot\n",
    "import warnings\n",
    "warnings.filterwarnings(action='once')"
   ]
  },
  {
   "cell_type": "code",
   "execution_count": 87,
   "metadata": {},
   "outputs": [],
   "source": [
    "path = \"datasets/mta_1706.csv\""
   ]
  },
  {
   "cell_type": "code",
   "execution_count": 88,
   "metadata": {},
   "outputs": [
    {
     "name": "stderr",
     "output_type": "stream",
     "text": [
      "C:\\Users\\Anurag\\AppData\\Local\\conda\\conda\\envs\\apidb\\lib\\site-packages\\IPython\\core\\interactiveshell.py:3063: DtypeWarning: Columns (14,17) have mixed types. Specify dtype option on import or set low_memory=False.\n",
      "  interactivity=interactivity, compiler=compiler, result=result)\n"
     ]
    }
   ],
   "source": [
    "df = pd.read_csv(path)"
   ]
  },
  {
   "cell_type": "code",
   "execution_count": 89,
   "metadata": {},
   "outputs": [],
   "source": [
    "df.drop(\n",
    "    ['Unnamed: 17'],\n",
    "    axis=1, \n",
    "    inplace=True\n",
    ")"
   ]
  },
  {
   "cell_type": "code",
   "execution_count": 90,
   "metadata": {},
   "outputs": [
    {
     "data": {
      "text/html": [
       "<div>\n",
       "<style scoped>\n",
       "    .dataframe tbody tr th:only-of-type {\n",
       "        vertical-align: middle;\n",
       "    }\n",
       "\n",
       "    .dataframe tbody tr th {\n",
       "        vertical-align: top;\n",
       "    }\n",
       "\n",
       "    .dataframe thead th {\n",
       "        text-align: right;\n",
       "    }\n",
       "</style>\n",
       "<table border=\"1\" class=\"dataframe\">\n",
       "  <thead>\n",
       "    <tr style=\"text-align: right;\">\n",
       "      <th></th>\n",
       "      <th>RecordedAtTime</th>\n",
       "      <th>DirectionRef</th>\n",
       "      <th>PublishedLineName</th>\n",
       "      <th>OriginName</th>\n",
       "      <th>OriginLat</th>\n",
       "      <th>OriginLong</th>\n",
       "      <th>DestinationName</th>\n",
       "      <th>DestinationLat</th>\n",
       "      <th>DestinationLong</th>\n",
       "      <th>VehicleRef</th>\n",
       "      <th>VehicleLocation.Latitude</th>\n",
       "      <th>VehicleLocation.Longitude</th>\n",
       "      <th>NextStopPointName</th>\n",
       "      <th>ArrivalProximityText</th>\n",
       "      <th>DistanceFromStop</th>\n",
       "      <th>ExpectedArrivalTime</th>\n",
       "      <th>ScheduledArrivalTime</th>\n",
       "    </tr>\n",
       "  </thead>\n",
       "  <tbody>\n",
       "    <tr>\n",
       "      <th>1048570</th>\n",
       "      <td>05-06-2017 21:02</td>\n",
       "      <td>0</td>\n",
       "      <td>Bx36</td>\n",
       "      <td>W 179 ST/BROADWAY</td>\n",
       "      <td>40.849113</td>\n",
       "      <td>-73.937752</td>\n",
       "      <td>SOUNDVIEW PUGSLEY AV</td>\n",
       "      <td>40.820507</td>\n",
       "      <td>-73.851631</td>\n",
       "      <td>NYCT_7759</td>\n",
       "      <td>40.849260</td>\n",
       "      <td>-73.938736</td>\n",
       "      <td>W 178 ST/FT WASHINGTON AV</td>\n",
       "      <td>approaching</td>\n",
       "      <td>149</td>\n",
       "      <td>NaN</td>\n",
       "      <td>20:54:15</td>\n",
       "    </tr>\n",
       "    <tr>\n",
       "      <th>1048571</th>\n",
       "      <td>05-06-2017 21:02</td>\n",
       "      <td>1</td>\n",
       "      <td>B83</td>\n",
       "      <td>VAN SINDEREN AV/FULTON ST</td>\n",
       "      <td>40.678089</td>\n",
       "      <td>-73.903572</td>\n",
       "      <td>SPRING CREEK GATEWAY MALL</td>\n",
       "      <td>40.652821</td>\n",
       "      <td>-73.876755</td>\n",
       "      <td>NYCT_7139</td>\n",
       "      <td>40.664399</td>\n",
       "      <td>-73.893958</td>\n",
       "      <td>PENNSYLVANIA AV/LIVONIA AV</td>\n",
       "      <td>at stop</td>\n",
       "      <td>10</td>\n",
       "      <td>05-06-2017 21:02</td>\n",
       "      <td>20:59:00</td>\n",
       "    </tr>\n",
       "    <tr>\n",
       "      <th>1048572</th>\n",
       "      <td>05-06-2017 21:01</td>\n",
       "      <td>0</td>\n",
       "      <td>Q30</td>\n",
       "      <td>ARCHER AV /SUTPHIN BL</td>\n",
       "      <td>40.700489</td>\n",
       "      <td>-73.807884</td>\n",
       "      <td>LITTLE NECK  L NECK PKY</td>\n",
       "      <td>40.764297</td>\n",
       "      <td>-73.725914</td>\n",
       "      <td>NYCT_8434</td>\n",
       "      <td>40.715850</td>\n",
       "      <td>-73.792586</td>\n",
       "      <td>HOMELAWN ST/ASPEN PL</td>\n",
       "      <td>at stop</td>\n",
       "      <td>14</td>\n",
       "      <td>NaN</td>\n",
       "      <td>21:02:49</td>\n",
       "    </tr>\n",
       "    <tr>\n",
       "      <th>1048573</th>\n",
       "      <td>05-06-2017 21:01</td>\n",
       "      <td>0</td>\n",
       "      <td>B6</td>\n",
       "      <td>HARWAY AV/BAY 37 ST</td>\n",
       "      <td>40.593510</td>\n",
       "      <td>-73.993996</td>\n",
       "      <td>ROCK PKY STA</td>\n",
       "      <td>40.645775</td>\n",
       "      <td>-73.902069</td>\n",
       "      <td>NYCT_5002</td>\n",
       "      <td>40.624132</td>\n",
       "      <td>-73.970922</td>\n",
       "      <td>AV J/OCEAN PY</td>\n",
       "      <td>approaching</td>\n",
       "      <td>94</td>\n",
       "      <td>05-06-2017 21:03</td>\n",
       "      <td>21:02:16</td>\n",
       "    </tr>\n",
       "    <tr>\n",
       "      <th>1048574</th>\n",
       "      <td>05-06-2017 21:01</td>\n",
       "      <td>0</td>\n",
       "      <td>Q13</td>\n",
       "      <td>39 AV /138 ST</td>\n",
       "      <td>40.761009</td>\n",
       "      <td>-73.827042</td>\n",
       "      <td>FT TOTTEN</td>\n",
       "      <td>40.791351</td>\n",
       "      <td>-73.780952</td>\n",
       "      <td>NYCT_4171</td>\n",
       "      <td>40.757671</td>\n",
       "      <td>-73.779620</td>\n",
       "      <td>NORTHERN BL/204 ST</td>\n",
       "      <td>approaching</td>\n",
       "      <td>59</td>\n",
       "      <td>NaN</td>\n",
       "      <td>20:59:02</td>\n",
       "    </tr>\n",
       "  </tbody>\n",
       "</table>\n",
       "</div>"
      ],
      "text/plain": [
       "           RecordedAtTime  DirectionRef PublishedLineName  \\\n",
       "1048570  05-06-2017 21:02             0              Bx36   \n",
       "1048571  05-06-2017 21:02             1               B83   \n",
       "1048572  05-06-2017 21:01             0               Q30   \n",
       "1048573  05-06-2017 21:01             0                B6   \n",
       "1048574  05-06-2017 21:01             0               Q13   \n",
       "\n",
       "                        OriginName  OriginLat  OriginLong  \\\n",
       "1048570          W 179 ST/BROADWAY  40.849113  -73.937752   \n",
       "1048571  VAN SINDEREN AV/FULTON ST  40.678089  -73.903572   \n",
       "1048572      ARCHER AV /SUTPHIN BL  40.700489  -73.807884   \n",
       "1048573        HARWAY AV/BAY 37 ST  40.593510  -73.993996   \n",
       "1048574              39 AV /138 ST  40.761009  -73.827042   \n",
       "\n",
       "                   DestinationName  DestinationLat  DestinationLong  \\\n",
       "1048570       SOUNDVIEW PUGSLEY AV       40.820507       -73.851631   \n",
       "1048571  SPRING CREEK GATEWAY MALL       40.652821       -73.876755   \n",
       "1048572    LITTLE NECK  L NECK PKY       40.764297       -73.725914   \n",
       "1048573               ROCK PKY STA       40.645775       -73.902069   \n",
       "1048574                  FT TOTTEN       40.791351       -73.780952   \n",
       "\n",
       "        VehicleRef  VehicleLocation.Latitude  VehicleLocation.Longitude  \\\n",
       "1048570  NYCT_7759                 40.849260                 -73.938736   \n",
       "1048571  NYCT_7139                 40.664399                 -73.893958   \n",
       "1048572  NYCT_8434                 40.715850                 -73.792586   \n",
       "1048573  NYCT_5002                 40.624132                 -73.970922   \n",
       "1048574  NYCT_4171                 40.757671                 -73.779620   \n",
       "\n",
       "                  NextStopPointName ArrivalProximityText DistanceFromStop  \\\n",
       "1048570   W 178 ST/FT WASHINGTON AV          approaching              149   \n",
       "1048571  PENNSYLVANIA AV/LIVONIA AV              at stop               10   \n",
       "1048572        HOMELAWN ST/ASPEN PL              at stop               14   \n",
       "1048573               AV J/OCEAN PY          approaching               94   \n",
       "1048574          NORTHERN BL/204 ST          approaching               59   \n",
       "\n",
       "        ExpectedArrivalTime ScheduledArrivalTime  \n",
       "1048570                 NaN             20:54:15  \n",
       "1048571    05-06-2017 21:02             20:59:00  \n",
       "1048572                 NaN             21:02:49  \n",
       "1048573    05-06-2017 21:03             21:02:16  \n",
       "1048574                 NaN             20:59:02  "
      ]
     },
     "execution_count": 90,
     "metadata": {},
     "output_type": "execute_result"
    }
   ],
   "source": [
    "df.tail(5)"
   ]
  },
  {
   "cell_type": "code",
   "execution_count": 91,
   "metadata": {},
   "outputs": [
    {
     "name": "stdout",
     "output_type": "stream",
     "text": [
      "<class 'pandas.core.frame.DataFrame'>\n",
      "RangeIndex: 1048575 entries, 0 to 1048574\n",
      "Data columns (total 17 columns):\n",
      "RecordedAtTime               1048575 non-null object\n",
      "DirectionRef                 1048575 non-null int64\n",
      "PublishedLineName            1048575 non-null object\n",
      "OriginName                   1040112 non-null object\n",
      "OriginLat                    1040112 non-null float64\n",
      "OriginLong                   1040112 non-null float64\n",
      "DestinationName              1048575 non-null object\n",
      "DestinationLat               1047329 non-null float64\n",
      "DestinationLong              1047329 non-null float64\n",
      "VehicleRef                   1048575 non-null object\n",
      "VehicleLocation.Latitude     1048575 non-null float64\n",
      "VehicleLocation.Longitude    1048575 non-null float64\n",
      "NextStopPointName            1047439 non-null object\n",
      "ArrivalProximityText         1047439 non-null object\n",
      "DistanceFromStop             1047439 non-null object\n",
      "ExpectedArrivalTime          931342 non-null object\n",
      "ScheduledArrivalTime         1022903 non-null object\n",
      "dtypes: float64(6), int64(1), object(10)\n",
      "memory usage: 136.0+ MB\n"
     ]
    }
   ],
   "source": [
    "df.info()"
   ]
  },
  {
   "cell_type": "markdown",
   "metadata": {},
   "source": [
    "### Categorical Datatype Example"
   ]
  },
  {
   "cell_type": "code",
   "execution_count": 92,
   "metadata": {},
   "outputs": [
    {
     "data": {
      "text/plain": [
       "array([0, 1], dtype=int64)"
      ]
     },
     "execution_count": 92,
     "metadata": {},
     "output_type": "execute_result"
    }
   ],
   "source": [
    "df.DirectionRef.unique()"
   ]
  },
  {
   "cell_type": "markdown",
   "metadata": {},
   "source": [
    "## Using Mode"
   ]
  },
  {
   "cell_type": "markdown",
   "metadata": {},
   "source": [
    "#### Common Initial and Final Stops for particular directions"
   ]
  },
  {
   "cell_type": "code",
   "execution_count": 93,
   "metadata": {},
   "outputs": [
    {
     "name": "stdout",
     "output_type": "stream",
     "text": [
      "Common Origins:\n",
      "\tDir-0: MERRICK BL/ARCHER AV\n",
      "\tDir-1: E 126 ST/2 AV\n",
      "\n",
      "Common Destinations:\n",
      "\tDir-0: ST GEORGE FERRY\n",
      "\tDir-1: WASHINGTON HTS GW BRIDGE\n",
      "\n"
     ]
    }
   ],
   "source": [
    "origins = [\n",
    "    df[df.DirectionRef==i]['OriginName'].value_counts().idxmax() \n",
    "    for i in df.DirectionRef.unique()\n",
    "]\n",
    "print(f\"Common Origins:\\n\\tDir-0: {origins[0]}\\n\\tDir-1: {origins[1]}\\n\")\n",
    "\n",
    "destinations = [\n",
    "    df[df.DirectionRef==i]['DestinationName'].value_counts().idxmax() \n",
    "    for i in df.DirectionRef.unique()\n",
    "]\n",
    "print(f\"Common Destinations:\\n\\tDir-0: {destinations[0]}\\n\\tDir-1: {destinations[1]}\\n\")"
   ]
  },
  {
   "cell_type": "code",
   "execution_count": 94,
   "metadata": {},
   "outputs": [
    {
     "data": {
      "text/plain": [
       "'MERRICK BL/ARCHER AV'"
      ]
     },
     "execution_count": 94,
     "metadata": {},
     "output_type": "execute_result"
    }
   ],
   "source": [
    "df[df.DirectionRef==0]['OriginName'].value_counts().idxmax()"
   ]
  },
  {
   "cell_type": "markdown",
   "metadata": {},
   "source": [
    "#### Most frequent paths from those Initial Stops"
   ]
  },
  {
   "cell_type": "code",
   "execution_count": 95,
   "metadata": {},
   "outputs": [
    {
     "name": "stdout",
     "output_type": "stream",
     "text": [
      "Most Common Paths from Common Origins:\n",
      "\n",
      "\tDirection Reference: 0\n",
      "\tFrom: MERRICK BL/ARCHER AV\n",
      "\tTo: SELECT BUS BRONX ZOO via MAIN ST\n",
      "\tNo of Trips: 6303 \n",
      "\n",
      "\tDirection Reference: 1\n",
      "\tFrom: E 126 ST/2 AV\n",
      "\tTo: SELECT BUS SERVICE SOUTH FERRY via 2 AV\n",
      "\tNo of Trips: 7646 \n",
      "\n"
     ]
    }
   ],
   "source": [
    "paths_from_origins = list( map( lambda x : \n",
    "                               [ \n",
    "                                   x,\n",
    "                                   df[ df.OriginName == x ][ \"DestinationName\" ].value_counts().idxmax(),\n",
    "                                   df[ df.OriginName == x ][ \"DestinationName\" ].value_counts()[0]\n",
    "                               ],\n",
    "                               origins\n",
    "                              )\n",
    "                         )\n",
    "print(\"Most Common Paths from Common Origins:\\n\")\n",
    "k=0\n",
    "for i in paths_from_origins:\n",
    "    print(\"\\tDirection Reference:\", k)\n",
    "    k+=1\n",
    "    print(\"\\tFrom:\", i[0])\n",
    "    print(\"\\tTo:\", i[1])\n",
    "    print(\"\\tNo of Trips:\", i[2],\"\\n\")"
   ]
  },
  {
   "cell_type": "markdown",
   "metadata": {},
   "source": [
    "#### Most frequent paths to those Final Stops"
   ]
  },
  {
   "cell_type": "code",
   "execution_count": 96,
   "metadata": {},
   "outputs": [
    {
     "name": "stdout",
     "output_type": "stream",
     "text": [
      "\n",
      "Most Common Paths to Common Destination:\n",
      "\n",
      "\tDirection Reference: 0\n",
      "\tFrom: ST GEORGE FERRY\n",
      "\tTo: YUKON AV/KMART DWY\n",
      "\tNo of Trips: 3498 \n",
      "\n",
      "\tDirection Reference: 1\n",
      "\tFrom: WASHINGTON HTS GW BRIDGE\n",
      "\tTo: RANDALL AV/OLMSTEAD AV\n",
      "\tNo of Trips: 5215 \n",
      "\n"
     ]
    }
   ],
   "source": [
    "paths_to_destinations = list( map( lambda x : \n",
    "                               [ \n",
    "                                   x,\n",
    "                                   df[ df.DestinationName == x ][ \"OriginName\" ].value_counts().idxmax(),\n",
    "                                   df[ df.DestinationName == x ][ \"OriginName\" ].value_counts()[0]\n",
    "                               ],\n",
    "                               destinations\n",
    "                              )\n",
    "                         )\n",
    "\n",
    "print(\"\\nMost Common Paths to Common Destination:\\n\")\n",
    "k=0\n",
    "for i in paths_to_destinations:\n",
    "    print(\"\\tDirection Reference:\", k)\n",
    "    k+=1\n",
    "    print(\"\\tFrom:\", i[0])\n",
    "    print(\"\\tTo:\", i[1])\n",
    "    print(\"\\tNo of Trips:\", i[2],\"\\n\")"
   ]
  },
  {
   "cell_type": "markdown",
   "metadata": {},
   "source": [
    "##### However there are no buses directly from those initial to final stops"
   ]
  },
  {
   "cell_type": "code",
   "execution_count": 97,
   "metadata": {},
   "outputs": [],
   "source": [
    "ini_stop_0 = df[df[\"DirectionRef\"]==0]['OriginName'].mode().get(0)\n",
    "ini_stop_1 = df[df[\"DirectionRef\"]==1]['OriginName'].mode().get(0)\n",
    "fin_stop_1 = df[df[\"DirectionRef\"]==1]['DestinationName'].mode().get(0)\n",
    "fin_stop_0 = df[df[\"DirectionRef\"]==0]['DestinationName'].mode().get(0)"
   ]
  },
  {
   "cell_type": "code",
   "execution_count": 98,
   "metadata": {},
   "outputs": [
    {
     "name": "stderr",
     "output_type": "stream",
     "text": [
      "C:\\Users\\Anurag\\AppData\\Local\\conda\\conda\\envs\\apidb\\lib\\site-packages\\ipykernel_launcher.py:1: UserWarning: Boolean Series key will be reindexed to match DataFrame index.\n",
      "  \"\"\"Entry point for launching an IPython kernel.\n"
     ]
    },
    {
     "data": {
      "text/html": [
       "<div>\n",
       "<style scoped>\n",
       "    .dataframe tbody tr th:only-of-type {\n",
       "        vertical-align: middle;\n",
       "    }\n",
       "\n",
       "    .dataframe tbody tr th {\n",
       "        vertical-align: top;\n",
       "    }\n",
       "\n",
       "    .dataframe thead th {\n",
       "        text-align: right;\n",
       "    }\n",
       "</style>\n",
       "<table border=\"1\" class=\"dataframe\">\n",
       "  <thead>\n",
       "    <tr style=\"text-align: right;\">\n",
       "      <th></th>\n",
       "      <th>OriginName</th>\n",
       "      <th>DestinationName</th>\n",
       "    </tr>\n",
       "  </thead>\n",
       "  <tbody>\n",
       "    <tr>\n",
       "      <th>0</th>\n",
       "      <td>MERRICK BL/ARCHER AV</td>\n",
       "      <td>SELECT BUS BRONX ZOO via MAIN ST</td>\n",
       "    </tr>\n",
       "  </tbody>\n",
       "</table>\n",
       "</div>"
      ],
      "text/plain": [
       "             OriginName                   DestinationName\n",
       "0  MERRICK BL/ARCHER AV  SELECT BUS BRONX ZOO via MAIN ST"
      ]
     },
     "execution_count": 98,
     "metadata": {},
     "output_type": "execute_result"
    }
   ],
   "source": [
    "(df[df[\"DirectionRef\"]==0][df['OriginName']==ini_stop_0].mode())[[\"OriginName\", \"DestinationName\"]]"
   ]
  },
  {
   "cell_type": "code",
   "execution_count": 99,
   "metadata": {},
   "outputs": [
    {
     "name": "stderr",
     "output_type": "stream",
     "text": [
      "C:\\Users\\Anurag\\AppData\\Local\\conda\\conda\\envs\\apidb\\lib\\site-packages\\ipykernel_launcher.py:1: UserWarning: Boolean Series key will be reindexed to match DataFrame index.\n",
      "  \"\"\"Entry point for launching an IPython kernel.\n"
     ]
    },
    {
     "data": {
      "text/html": [
       "<div>\n",
       "<style scoped>\n",
       "    .dataframe tbody tr th:only-of-type {\n",
       "        vertical-align: middle;\n",
       "    }\n",
       "\n",
       "    .dataframe tbody tr th {\n",
       "        vertical-align: top;\n",
       "    }\n",
       "\n",
       "    .dataframe thead th {\n",
       "        text-align: right;\n",
       "    }\n",
       "</style>\n",
       "<table border=\"1\" class=\"dataframe\">\n",
       "  <thead>\n",
       "    <tr style=\"text-align: right;\">\n",
       "      <th></th>\n",
       "      <th>OriginName</th>\n",
       "      <th>DestinationName</th>\n",
       "    </tr>\n",
       "  </thead>\n",
       "  <tbody>\n",
       "    <tr>\n",
       "      <th>0</th>\n",
       "      <td>E 126 ST/2 AV</td>\n",
       "      <td>SELECT BUS SERVICE SOUTH FERRY via 2 AV</td>\n",
       "    </tr>\n",
       "  </tbody>\n",
       "</table>\n",
       "</div>"
      ],
      "text/plain": [
       "      OriginName                          DestinationName\n",
       "0  E 126 ST/2 AV  SELECT BUS SERVICE SOUTH FERRY via 2 AV"
      ]
     },
     "execution_count": 99,
     "metadata": {},
     "output_type": "execute_result"
    }
   ],
   "source": [
    "(df[df[\"DirectionRef\"]==1][df['OriginName']==ini_stop_1].mode())[[\"OriginName\", \"DestinationName\"]]"
   ]
  },
  {
   "cell_type": "code",
   "execution_count": 100,
   "metadata": {},
   "outputs": [
    {
     "name": "stderr",
     "output_type": "stream",
     "text": [
      "C:\\Users\\Anurag\\AppData\\Local\\conda\\conda\\envs\\apidb\\lib\\site-packages\\ipykernel_launcher.py:1: UserWarning: Boolean Series key will be reindexed to match DataFrame index.\n",
      "  \"\"\"Entry point for launching an IPython kernel.\n"
     ]
    },
    {
     "name": "stdout",
     "output_type": "stream",
     "text": [
      "OriginName         0\n",
      "DestinationName    0\n",
      "dtype: int64 \n",
      "\n",
      "OriginName         0\n",
      "DestinationName    0\n",
      "dtype: int64\n"
     ]
    }
   ],
   "source": [
    "print(df[df[\"DirectionRef\"]==0][df['OriginName']==ini_stop_0][[\"OriginName\", \"DestinationName\"]][df.DestinationName==fin_stop_0].count(),\"\\n\")\n",
    "print(df[df[\"DirectionRef\"]==0][df['OriginName']==ini_stop_0][[\"OriginName\", \"DestinationName\"]][df.DestinationName==fin_stop_1].count())"
   ]
  },
  {
   "cell_type": "markdown",
   "metadata": {},
   "source": [
    "### Using Mean"
   ]
  },
  {
   "cell_type": "code",
   "execution_count": 101,
   "metadata": {},
   "outputs": [
    {
     "name": "stdout",
     "output_type": "stream",
     "text": [
      "Location Equidistant from all bus stops: 40.7178038962956 N, 73.9382220213454 W\n"
     ]
    }
   ],
   "source": [
    "from math import cos, sin, radians, atan2, sqrt, degrees, pi\n",
    "\n",
    "pos = pd.DataFrame()\n",
    "\n",
    "pos[\"Lat\"] = np.hstack((df.OriginLat.dropna(), df.DestinationLat.dropna()))\n",
    "pos[\"Lat\"] = pos.Lat.apply(radians)\n",
    "\n",
    "pos[\"Lon\"] = np.hstack((df.OriginLong.dropna(), df.DestinationLong.dropna()))\n",
    "pos[\"Lon\"] = pos.Lon.apply(radians)\n",
    "\n",
    "pos = pos.drop_duplicates()\n",
    "\n",
    "pos[\"X\"] = np.vectorize(lambda lat, lon: cos(lat)*cos(lon))(pos[\"Lat\"], pos[\"Lon\"])\n",
    "pos[\"Y\"] = np.vectorize(lambda lat, lon: cos(lat)*sin(lon))(pos[\"Lat\"], pos[\"Lon\"])\n",
    "pos[\"Z\"] = np.vectorize(sin)(pos[\"Lat\"])\n",
    "\n",
    "x = pos.X.mean()\n",
    "y = pos.Y.mean()\n",
    "z = pos.Z.mean()\n",
    "\n",
    "Center_Lon = atan2(y, x)\n",
    "Hyp = sqrt(x*x + y*y)\n",
    "Center_Lat = atan2(z, Hyp)\n",
    "\n",
    "print(f\"Location Equidistant from all bus stops: {degrees(Center_Lat)} N, {-1*degrees(Center_Lon)} W\")"
   ]
  },
  {
   "cell_type": "code",
   "execution_count": 102,
   "metadata": {},
   "outputs": [
    {
     "data": {
      "application/vnd.jupyter.widget-view+json": {
       "model_id": "a14e6070d38646e9ad1707fee5f1f830",
       "version_major": 2,
       "version_minor": 0
      },
      "text/plain": [
       "Map(center=[40.7178038962956, -73.9382220213454], controls=(ZoomControl(options=['position', 'zoom_in_text', '…"
      ]
     },
     "metadata": {},
     "output_type": "display_data"
    }
   ],
   "source": [
    "center = (degrees(Center_Lat),degrees(Center_Lon))\n",
    "\n",
    "from ipyleaflet import Map, Marker, MarkerCluster\n",
    "m = Map(center=center, zoom=10)\n",
    "\n",
    "markers=list()\n",
    "markers = ( Marker(location=(degrees(i[0]), degrees(i[1]))) for i in np.array(pos) )\n",
    "\n",
    "marker = Marker(location=center, draggable=False)\n",
    "marker_cluster = MarkerCluster( markers=tuple(markers) )\n",
    "\n",
    "m.add_layer(marker)\n",
    "m.add_layer(marker_cluster)\n",
    "display(m)"
   ]
  },
  {
   "cell_type": "markdown",
   "metadata": {},
   "source": [
    "### Hist Plots"
   ]
  },
  {
   "cell_type": "code",
   "execution_count": 103,
   "metadata": {},
   "outputs": [
    {
     "data": {
      "image/png": "[encoded data removed]",
      "text/plain": [
       "<Figure size 1080x432 with 2 Axes>"
      ]
     },
     "metadata": {
      "needs_background": "light"
     },
     "output_type": "display_data"
    },
    {
     "data": {
      "image/png": "[encoded data removed]",
      "text/plain": [
       "<Figure size 432x288 with 1 Axes>"
      ]
     },
     "metadata": {
      "needs_background": "light"
     },
     "output_type": "display_data"
    },
    {
     "data": {
      "image/png": "[encoded data removed]",
      "text/plain": [
       "<Figure size 432x288 with 1 Axes>"
      ]
     },
     "metadata": {
      "needs_background": "light"
     },
     "output_type": "display_data"
    }
   ],
   "source": [
    "fig,a =  plt.subplots(1,2, figsize=(15,6))\n",
    "\n",
    "a[0].set_title(\"OriginLat\")\n",
    "a[0].hist(df.OriginLat.dropna(), bins=50)\n",
    "\n",
    "a[1].set_title(\"OriginLong\")\n",
    "a[1].hist(df.OriginLong.dropna(), bins=50)\n",
    "# stat, p = normaltest(df.OriginLat.dropna())\n",
    "# print('Statistics=%.3f, p=%.3f' % (stat, p))\n",
    "plt.show()\n",
    "\n",
    "qqplot(df.OriginLat.dropna(), line='s')\n",
    "plt.show()\n",
    "qqplot(df.OriginLong.dropna(), line='s')\n",
    "plt.show()\n"
   ]
  },
  {
   "cell_type": "code",
   "execution_count": 104,
   "metadata": {},
   "outputs": [
    {
     "data": {
      "image/png": "[encoded data removed]",
      "text/plain": [
       "<Figure size 1080x432 with 2 Axes>"
      ]
     },
     "metadata": {
      "needs_background": "light"
     },
     "output_type": "display_data"
    }
   ],
   "source": [
    "fig,a =  plt.subplots(1,2, figsize=(15,6))\n",
    "a[0].set_title(\"DestinationLat\")\n",
    "a[0].hist(df.DestinationLat.dropna(), bins=50)\n",
    "\n",
    "a[1].set_title(\"DestinationLong\")\n",
    "a[1].hist(df.DestinationLong.dropna(), bins=50)\n",
    "plt.show()"
   ]
  },
  {
   "cell_type": "code",
   "execution_count": 105,
   "metadata": {},
   "outputs": [
    {
     "data": {
      "text/html": [
       "<div>\n",
       "<style scoped>\n",
       "    .dataframe tbody tr th:only-of-type {\n",
       "        vertical-align: middle;\n",
       "    }\n",
       "\n",
       "    .dataframe tbody tr th {\n",
       "        vertical-align: top;\n",
       "    }\n",
       "\n",
       "    .dataframe thead th {\n",
       "        text-align: right;\n",
       "    }\n",
       "</style>\n",
       "<table border=\"1\" class=\"dataframe\">\n",
       "  <thead>\n",
       "    <tr style=\"text-align: right;\">\n",
       "      <th></th>\n",
       "      <th>RecordedAtTime</th>\n",
       "      <th>DirectionRef</th>\n",
       "      <th>PublishedLineName</th>\n",
       "      <th>OriginName</th>\n",
       "      <th>OriginLat</th>\n",
       "      <th>OriginLong</th>\n",
       "      <th>DestinationName</th>\n",
       "      <th>DestinationLat</th>\n",
       "      <th>DestinationLong</th>\n",
       "      <th>VehicleRef</th>\n",
       "      <th>VehicleLocation.Latitude</th>\n",
       "      <th>VehicleLocation.Longitude</th>\n",
       "      <th>NextStopPointName</th>\n",
       "      <th>ArrivalProximityText</th>\n",
       "      <th>DistanceFromStop</th>\n",
       "      <th>ExpectedArrivalTime</th>\n",
       "      <th>ScheduledArrivalTime</th>\n",
       "    </tr>\n",
       "  </thead>\n",
       "  <tbody>\n",
       "    <tr>\n",
       "      <th>0</th>\n",
       "      <td>01-06-2017 00:03</td>\n",
       "      <td>0</td>\n",
       "      <td>B8</td>\n",
       "      <td>4 AV/95 ST</td>\n",
       "      <td>40.616104</td>\n",
       "      <td>-74.031143</td>\n",
       "      <td>BROWNSVILLE ROCKAWAY AV</td>\n",
       "      <td>40.656048</td>\n",
       "      <td>-73.907379</td>\n",
       "      <td>NYCT_430</td>\n",
       "      <td>40.635170</td>\n",
       "      <td>-73.960803</td>\n",
       "      <td>FOSTER AV/E 18 ST</td>\n",
       "      <td>approaching</td>\n",
       "      <td>76</td>\n",
       "      <td>01-06-2017 00:03</td>\n",
       "      <td>24:06:14</td>\n",
       "    </tr>\n",
       "    <tr>\n",
       "      <th>1</th>\n",
       "      <td>01-06-2017 00:03</td>\n",
       "      <td>1</td>\n",
       "      <td>S61</td>\n",
       "      <td>ST GEORGE FERRY/S61 &amp; S91</td>\n",
       "      <td>40.643169</td>\n",
       "      <td>-74.073494</td>\n",
       "      <td>S I MALL YUKON AV</td>\n",
       "      <td>40.575935</td>\n",
       "      <td>-74.167686</td>\n",
       "      <td>NYCT_8263</td>\n",
       "      <td>40.590802</td>\n",
       "      <td>-74.158340</td>\n",
       "      <td>MERRYMOUNT ST/TRAVIS AV</td>\n",
       "      <td>approaching</td>\n",
       "      <td>62</td>\n",
       "      <td>01-06-2017 00:03</td>\n",
       "      <td>23:58:02</td>\n",
       "    </tr>\n",
       "    <tr>\n",
       "      <th>2</th>\n",
       "      <td>01-06-2017 00:03</td>\n",
       "      <td>0</td>\n",
       "      <td>Bx10</td>\n",
       "      <td>E 206 ST/BAINBRIDGE AV</td>\n",
       "      <td>40.875008</td>\n",
       "      <td>-73.880142</td>\n",
       "      <td>RIVERDALE 263 ST</td>\n",
       "      <td>40.912376</td>\n",
       "      <td>-73.902534</td>\n",
       "      <td>NYCT_4223</td>\n",
       "      <td>40.886010</td>\n",
       "      <td>-73.912647</td>\n",
       "      <td>HENRY HUDSON PKY E/W 235 ST</td>\n",
       "      <td>at stop</td>\n",
       "      <td>5</td>\n",
       "      <td>01-06-2017 00:03</td>\n",
       "      <td>24:00:53</td>\n",
       "    </tr>\n",
       "    <tr>\n",
       "      <th>3</th>\n",
       "      <td>01-06-2017 00:03</td>\n",
       "      <td>0</td>\n",
       "      <td>Q5</td>\n",
       "      <td>TEARDROP/LAYOVER</td>\n",
       "      <td>40.701748</td>\n",
       "      <td>-73.802399</td>\n",
       "      <td>ROSEDALE LIRR STA via MERRICK</td>\n",
       "      <td>40.666012</td>\n",
       "      <td>-73.735939</td>\n",
       "      <td>NYCT_8422</td>\n",
       "      <td>40.668002</td>\n",
       "      <td>-73.729348</td>\n",
       "      <td>HOOK CREEK BL/SUNRISE HY</td>\n",
       "      <td>&lt; 1 stop away</td>\n",
       "      <td>267</td>\n",
       "      <td>01-06-2017 00:04</td>\n",
       "      <td>24:03:00</td>\n",
       "    </tr>\n",
       "    <tr>\n",
       "      <th>4</th>\n",
       "      <td>01-06-2017 00:03</td>\n",
       "      <td>1</td>\n",
       "      <td>Bx1</td>\n",
       "      <td>RIVERDALE AV/W 231 ST</td>\n",
       "      <td>40.881187</td>\n",
       "      <td>-73.909340</td>\n",
       "      <td>MOTT HAVEN 136 ST via CONCOURSE</td>\n",
       "      <td>40.809654</td>\n",
       "      <td>-73.928360</td>\n",
       "      <td>NYCT_4710</td>\n",
       "      <td>40.868134</td>\n",
       "      <td>-73.893032</td>\n",
       "      <td>GRAND CONCOURSE/E 196 ST</td>\n",
       "      <td>at stop</td>\n",
       "      <td>11</td>\n",
       "      <td>01-06-2017 00:03</td>\n",
       "      <td>23:59:38</td>\n",
       "    </tr>\n",
       "  </tbody>\n",
       "</table>\n",
       "</div>"
      ],
      "text/plain": [
       "     RecordedAtTime  DirectionRef PublishedLineName  \\\n",
       "0  01-06-2017 00:03             0                B8   \n",
       "1  01-06-2017 00:03             1               S61   \n",
       "2  01-06-2017 00:03             0              Bx10   \n",
       "3  01-06-2017 00:03             0                Q5   \n",
       "4  01-06-2017 00:03             1               Bx1   \n",
       "\n",
       "                  OriginName  OriginLat  OriginLong  \\\n",
       "0                 4 AV/95 ST  40.616104  -74.031143   \n",
       "1  ST GEORGE FERRY/S61 & S91  40.643169  -74.073494   \n",
       "2     E 206 ST/BAINBRIDGE AV  40.875008  -73.880142   \n",
       "3           TEARDROP/LAYOVER  40.701748  -73.802399   \n",
       "4      RIVERDALE AV/W 231 ST  40.881187  -73.909340   \n",
       "\n",
       "                   DestinationName  DestinationLat  DestinationLong  \\\n",
       "0          BROWNSVILLE ROCKAWAY AV       40.656048       -73.907379   \n",
       "1                S I MALL YUKON AV       40.575935       -74.167686   \n",
       "2                 RIVERDALE 263 ST       40.912376       -73.902534   \n",
       "3    ROSEDALE LIRR STA via MERRICK       40.666012       -73.735939   \n",
       "4  MOTT HAVEN 136 ST via CONCOURSE       40.809654       -73.928360   \n",
       "\n",
       "  VehicleRef  VehicleLocation.Latitude  VehicleLocation.Longitude  \\\n",
       "0   NYCT_430                 40.635170                 -73.960803   \n",
       "1  NYCT_8263                 40.590802                 -74.158340   \n",
       "2  NYCT_4223                 40.886010                 -73.912647   \n",
       "3  NYCT_8422                 40.668002                 -73.729348   \n",
       "4  NYCT_4710                 40.868134                 -73.893032   \n",
       "\n",
       "             NextStopPointName ArrivalProximityText DistanceFromStop  \\\n",
       "0            FOSTER AV/E 18 ST          approaching               76   \n",
       "1      MERRYMOUNT ST/TRAVIS AV          approaching               62   \n",
       "2  HENRY HUDSON PKY E/W 235 ST              at stop                5   \n",
       "3     HOOK CREEK BL/SUNRISE HY        < 1 stop away              267   \n",
       "4     GRAND CONCOURSE/E 196 ST              at stop               11   \n",
       "\n",
       "  ExpectedArrivalTime ScheduledArrivalTime  \n",
       "0    01-06-2017 00:03             24:06:14  \n",
       "1    01-06-2017 00:03             23:58:02  \n",
       "2    01-06-2017 00:03             24:00:53  \n",
       "3    01-06-2017 00:04             24:03:00  \n",
       "4    01-06-2017 00:03             23:59:38  "
      ]
     },
     "execution_count": 105,
     "metadata": {},
     "output_type": "execute_result"
    }
   ],
   "source": [
    "df.head()"
   ]
  },
  {
   "cell_type": "code",
   "execution_count": 106,
   "metadata": {},
   "outputs": [
    {
     "data": {
      "image/png": "[encoded data removed]",
      "text/plain": [
       "<Figure size 1080x432 with 2 Axes>"
      ]
     },
     "metadata": {
      "needs_background": "light"
     },
     "output_type": "display_data"
    }
   ],
   "source": [
    "fig,a =  plt.subplots(1,2, figsize=(15,6))\n",
    "\n",
    "dfTemp = df[\"ScheduledArrivalTime\"].dropna()\n",
    "dfTemp = np.array(dfTemp)\n",
    "x = list(map(lambda x: int(x[:2])+int(x[3:5])/60, dfTemp))\n",
    "a[0].hist(x, bins=50)\n",
    "a[0].set_title(\"ScheduledArrivalTime\")\n",
    "\n",
    "dfTemp = df[\"ExpectedArrivalTime\"].dropna()\n",
    "dfTemp = np.array(dfTemp)\n",
    "\n",
    "x = list(map(lambda x: x.split()[-1].strip().split(\":\"), dfTemp))\n",
    "x = list(filter(lambda x: len(x)==2, x))\n",
    "x = list(map(lambda x: (int(x[0])+int(x[1])/60), x))\n",
    "\n",
    "a[1].hist(x, bins=50)\n",
    "a[1].set_title(\"ExpectedArrivalTime\")\n",
    "\n",
    "plt.show()"
   ]
  },
  {
   "cell_type": "code",
   "execution_count": 107,
   "metadata": {},
   "outputs": [
    {
     "data": {
      "image/png": "[encoded data removed]",
      "text/plain": [
       "<Figure size 1080x432 with 2 Axes>"
      ]
     },
     "metadata": {
      "needs_background": "light"
     },
     "output_type": "display_data"
    },
    {
     "data": {
      "image/png": "[encoded data removed]",
      "text/plain": [
       "<Figure size 432x288 with 1 Axes>"
      ]
     },
     "metadata": {
      "needs_background": "light"
     },
     "output_type": "display_data"
    }
   ],
   "source": [
    "fig,a =  plt.subplots(1,2, figsize=(15,6))\n",
    "\n",
    "dfTemp = df[\"VehicleLocation.Latitude\"].dropna()\n",
    "dfTemp = np.array(dfTemp)\n",
    "a[0].set_title(\"VehicleLocation.Latitude\")\n",
    "a[0].hist(dfTemp, bins=50)\n",
    "# stat, p = shapiro(dfTemp)\n",
    "# print('Statistics=%.3f, p=%.3f' % (stat, p))\n",
    "\n",
    "dfTemp = df[\"VehicleLocation.Longitude\"].dropna()\n",
    "dfTemp = np.array(dfTemp)\n",
    "a[1].set_title(\"VehicleLocation.Longitude\")\n",
    "a[1].hist(dfTemp, bins=50)\n",
    "plt.show()\n",
    "# stat, p = shapiro(dfTemp[dfTemp.shape[0]//2:])\n",
    "# print('Statistics=%.3f, p=%.3f' % (stat, p))\n",
    "qqplot(dfTemp, line='s')\n",
    "plt.show()\n"
   ]
  },
  {
   "cell_type": "code",
   "execution_count": 108,
   "metadata": {},
   "outputs": [],
   "source": [
    "def getplot(dfTemp):\n",
    "    ax = sns.distplot(dfTemp,\n",
    "                      bins=100,\n",
    "                      kde=True,\n",
    "                      color='skyblue',\n",
    "                      hist_kws={\"linewidth\": 15,'alpha':1})\n",
    "    ax.set(xlabel='Normal Distribution', ylabel='Frequency')\n",
    "    plt.show()"
   ]
  },
  {
   "cell_type": "code",
   "execution_count": null,
   "metadata": {},
   "outputs": [],
   "source": []
  }
 ],
 "metadata": {
  "kernelspec": {
   "display_name": "Python 3.7.7 64-bit ('apidb': conda)",
   "language": "python",
   "name": "python37764bitapidbconda623044128eac4f02836e3da4ec050c06"
  },
  "language_info": {
   "codemirror_mode": {
    "name": "ipython",
    "version": 3
   },
   "file_extension": ".py",
   "mimetype": "text/x-python",
   "name": "python",
   "nbconvert_exporter": "python",
   "pygments_lexer": "ipython3",
   "version": "3.7.7"
  }
 },
 "nbformat": 4,
 "nbformat_minor": 4
}
