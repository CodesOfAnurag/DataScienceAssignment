{
 "cells": [
  {
   "cell_type": "code",
   "execution_count": 1,
   "metadata": {
    "colab": {},
    "colab_type": "code",
    "id": "76qvsAtISKm8"
   },
   "outputs": [],
   "source": [
    "# !pip install numpy pandas matplotlib seaborn scipy statsmodels ipyleaflet"
   ]
  },
  {
   "cell_type": "code",
   "execution_count": 46,
   "metadata": {
    "colab": {},
    "colab_type": "code",
    "id": "h1vI6dNOMTA6"
   },
   "outputs": [],
   "source": [
    "import pandas as pd\n",
    "from pandas import DataFrame, Series\n",
    "import numpy as np\n",
    "import seaborn as sns\n",
    "import matplotlib.pyplot as plt\n",
    "from statsmodels.graphics.gofplots import qqplot\n",
    "from ipyleaflet import Map, Marker, MarkerCluster, AwesomeIcon"
   ]
  },
  {
   "cell_type": "code",
   "execution_count": 122,
   "metadata": {
    "colab": {},
    "colab_type": "code",
    "id": "3J5t6ab7Mph1"
   },
   "outputs": [],
   "source": [
    "df = pd.read_csv('datasets/mta_1706.csv', error_bad_lines=False, low_memory=False, warn_bad_lines=False)"
   ]
  },
  {
   "cell_type": "code",
   "execution_count": 95,
   "metadata": {
    "colab": {
     "base_uri": "https://localhost:8080/",
     "height": 326
    },
    "colab_type": "code",
    "id": "Od0AhnR-NDQR",
    "outputId": "a0378c82-3cdd-4556-a019-443aae67adde"
   },
   "outputs": [
    {
     "data": {
      "text/html": [
       "<div>\n",
       "<style scoped>\n",
       "    .dataframe tbody tr th:only-of-type {\n",
       "        vertical-align: middle;\n",
       "    }\n",
       "\n",
       "    .dataframe tbody tr th {\n",
       "        vertical-align: top;\n",
       "    }\n",
       "\n",
       "    .dataframe thead th {\n",
       "        text-align: right;\n",
       "    }\n",
       "</style>\n",
       "<table border=\"1\" class=\"dataframe\">\n",
       "  <thead>\n",
       "    <tr style=\"text-align: right;\">\n",
       "      <th></th>\n",
       "      <th>RecordedAtTime</th>\n",
       "      <th>DirectionRef</th>\n",
       "      <th>PublishedLineName</th>\n",
       "      <th>OriginName</th>\n",
       "      <th>OriginLat</th>\n",
       "      <th>OriginLong</th>\n",
       "      <th>DestinationName</th>\n",
       "      <th>DestinationLat</th>\n",
       "      <th>DestinationLong</th>\n",
       "      <th>VehicleRef</th>\n",
       "      <th>VehicleLocation.Latitude</th>\n",
       "      <th>VehicleLocation.Longitude</th>\n",
       "      <th>NextStopPointName</th>\n",
       "      <th>ArrivalProximityText</th>\n",
       "      <th>DistanceFromStop</th>\n",
       "      <th>ExpectedArrivalTime</th>\n",
       "      <th>ScheduledArrivalTime</th>\n",
       "      <th>Unnamed: 17</th>\n",
       "    </tr>\n",
       "  </thead>\n",
       "  <tbody>\n",
       "    <tr>\n",
       "      <th>0</th>\n",
       "      <td>01-06-2017 00:03</td>\n",
       "      <td>0</td>\n",
       "      <td>B8</td>\n",
       "      <td>4 AV/95 ST</td>\n",
       "      <td>40.616104</td>\n",
       "      <td>-74.031143</td>\n",
       "      <td>BROWNSVILLE ROCKAWAY AV</td>\n",
       "      <td>40.656048</td>\n",
       "      <td>-73.907379</td>\n",
       "      <td>NYCT_430</td>\n",
       "      <td>40.635170</td>\n",
       "      <td>-73.960803</td>\n",
       "      <td>FOSTER AV/E 18 ST</td>\n",
       "      <td>approaching</td>\n",
       "      <td>76</td>\n",
       "      <td>01-06-2017 00:03</td>\n",
       "      <td>24:06:14</td>\n",
       "      <td>NaN</td>\n",
       "    </tr>\n",
       "    <tr>\n",
       "      <th>1</th>\n",
       "      <td>01-06-2017 00:03</td>\n",
       "      <td>1</td>\n",
       "      <td>S61</td>\n",
       "      <td>ST GEORGE FERRY/S61 &amp; S91</td>\n",
       "      <td>40.643169</td>\n",
       "      <td>-74.073494</td>\n",
       "      <td>S I MALL YUKON AV</td>\n",
       "      <td>40.575935</td>\n",
       "      <td>-74.167686</td>\n",
       "      <td>NYCT_8263</td>\n",
       "      <td>40.590802</td>\n",
       "      <td>-74.158340</td>\n",
       "      <td>MERRYMOUNT ST/TRAVIS AV</td>\n",
       "      <td>approaching</td>\n",
       "      <td>62</td>\n",
       "      <td>01-06-2017 00:03</td>\n",
       "      <td>23:58:02</td>\n",
       "      <td>NaN</td>\n",
       "    </tr>\n",
       "    <tr>\n",
       "      <th>2</th>\n",
       "      <td>01-06-2017 00:03</td>\n",
       "      <td>0</td>\n",
       "      <td>Bx10</td>\n",
       "      <td>E 206 ST/BAINBRIDGE AV</td>\n",
       "      <td>40.875008</td>\n",
       "      <td>-73.880142</td>\n",
       "      <td>RIVERDALE 263 ST</td>\n",
       "      <td>40.912376</td>\n",
       "      <td>-73.902534</td>\n",
       "      <td>NYCT_4223</td>\n",
       "      <td>40.886010</td>\n",
       "      <td>-73.912647</td>\n",
       "      <td>HENRY HUDSON PKY E/W 235 ST</td>\n",
       "      <td>at stop</td>\n",
       "      <td>5</td>\n",
       "      <td>01-06-2017 00:03</td>\n",
       "      <td>24:00:53</td>\n",
       "      <td>NaN</td>\n",
       "    </tr>\n",
       "    <tr>\n",
       "      <th>3</th>\n",
       "      <td>01-06-2017 00:03</td>\n",
       "      <td>0</td>\n",
       "      <td>Q5</td>\n",
       "      <td>TEARDROP/LAYOVER</td>\n",
       "      <td>40.701748</td>\n",
       "      <td>-73.802399</td>\n",
       "      <td>ROSEDALE LIRR STA via MERRICK</td>\n",
       "      <td>40.666012</td>\n",
       "      <td>-73.735939</td>\n",
       "      <td>NYCT_8422</td>\n",
       "      <td>40.668002</td>\n",
       "      <td>-73.729348</td>\n",
       "      <td>HOOK CREEK BL/SUNRISE HY</td>\n",
       "      <td>&lt; 1 stop away</td>\n",
       "      <td>267</td>\n",
       "      <td>01-06-2017 00:04</td>\n",
       "      <td>24:03:00</td>\n",
       "      <td>NaN</td>\n",
       "    </tr>\n",
       "    <tr>\n",
       "      <th>4</th>\n",
       "      <td>01-06-2017 00:03</td>\n",
       "      <td>1</td>\n",
       "      <td>Bx1</td>\n",
       "      <td>RIVERDALE AV/W 231 ST</td>\n",
       "      <td>40.881187</td>\n",
       "      <td>-73.909340</td>\n",
       "      <td>MOTT HAVEN 136 ST via CONCOURSE</td>\n",
       "      <td>40.809654</td>\n",
       "      <td>-73.928360</td>\n",
       "      <td>NYCT_4710</td>\n",
       "      <td>40.868134</td>\n",
       "      <td>-73.893032</td>\n",
       "      <td>GRAND CONCOURSE/E 196 ST</td>\n",
       "      <td>at stop</td>\n",
       "      <td>11</td>\n",
       "      <td>01-06-2017 00:03</td>\n",
       "      <td>23:59:38</td>\n",
       "      <td>NaN</td>\n",
       "    </tr>\n",
       "  </tbody>\n",
       "</table>\n",
       "</div>"
      ],
      "text/plain": [
       "     RecordedAtTime  DirectionRef PublishedLineName  \\\n",
       "0  01-06-2017 00:03             0                B8   \n",
       "1  01-06-2017 00:03             1               S61   \n",
       "2  01-06-2017 00:03             0              Bx10   \n",
       "3  01-06-2017 00:03             0                Q5   \n",
       "4  01-06-2017 00:03             1               Bx1   \n",
       "\n",
       "                  OriginName  OriginLat  OriginLong  \\\n",
       "0                 4 AV/95 ST  40.616104  -74.031143   \n",
       "1  ST GEORGE FERRY/S61 & S91  40.643169  -74.073494   \n",
       "2     E 206 ST/BAINBRIDGE AV  40.875008  -73.880142   \n",
       "3           TEARDROP/LAYOVER  40.701748  -73.802399   \n",
       "4      RIVERDALE AV/W 231 ST  40.881187  -73.909340   \n",
       "\n",
       "                   DestinationName  DestinationLat  DestinationLong  \\\n",
       "0          BROWNSVILLE ROCKAWAY AV       40.656048       -73.907379   \n",
       "1                S I MALL YUKON AV       40.575935       -74.167686   \n",
       "2                 RIVERDALE 263 ST       40.912376       -73.902534   \n",
       "3    ROSEDALE LIRR STA via MERRICK       40.666012       -73.735939   \n",
       "4  MOTT HAVEN 136 ST via CONCOURSE       40.809654       -73.928360   \n",
       "\n",
       "  VehicleRef  VehicleLocation.Latitude  VehicleLocation.Longitude  \\\n",
       "0   NYCT_430                 40.635170                 -73.960803   \n",
       "1  NYCT_8263                 40.590802                 -74.158340   \n",
       "2  NYCT_4223                 40.886010                 -73.912647   \n",
       "3  NYCT_8422                 40.668002                 -73.729348   \n",
       "4  NYCT_4710                 40.868134                 -73.893032   \n",
       "\n",
       "             NextStopPointName ArrivalProximityText DistanceFromStop  \\\n",
       "0            FOSTER AV/E 18 ST          approaching               76   \n",
       "1      MERRYMOUNT ST/TRAVIS AV          approaching               62   \n",
       "2  HENRY HUDSON PKY E/W 235 ST              at stop                5   \n",
       "3     HOOK CREEK BL/SUNRISE HY        < 1 stop away              267   \n",
       "4     GRAND CONCOURSE/E 196 ST              at stop               11   \n",
       "\n",
       "  ExpectedArrivalTime ScheduledArrivalTime Unnamed: 17  \n",
       "0    01-06-2017 00:03             24:06:14         NaN  \n",
       "1    01-06-2017 00:03             23:58:02         NaN  \n",
       "2    01-06-2017 00:03             24:00:53         NaN  \n",
       "3    01-06-2017 00:04             24:03:00         NaN  \n",
       "4    01-06-2017 00:03             23:59:38         NaN  "
      ]
     },
     "execution_count": 95,
     "metadata": {},
     "output_type": "execute_result"
    }
   ],
   "source": [
    "df.head()"
   ]
  },
  {
   "cell_type": "code",
   "execution_count": 96,
   "metadata": {
    "colab": {
     "base_uri": "https://localhost:8080/",
     "height": 425
    },
    "colab_type": "code",
    "id": "ut6FArcUNNLI",
    "outputId": "9516a56d-2c1b-4e89-b33e-7260b8289205"
   },
   "outputs": [
    {
     "name": "stdout",
     "output_type": "stream",
     "text": [
      "<class 'pandas.core.frame.DataFrame'>\n",
      "RangeIndex: 1048575 entries, 0 to 1048574\n",
      "Data columns (total 18 columns):\n",
      "RecordedAtTime               1048575 non-null object\n",
      "DirectionRef                 1048575 non-null int64\n",
      "PublishedLineName            1048575 non-null object\n",
      "OriginName                   1040112 non-null object\n",
      "OriginLat                    1040112 non-null float64\n",
      "OriginLong                   1040112 non-null float64\n",
      "DestinationName              1048575 non-null object\n",
      "DestinationLat               1047329 non-null float64\n",
      "DestinationLong              1047329 non-null float64\n",
      "VehicleRef                   1048575 non-null object\n",
      "VehicleLocation.Latitude     1048575 non-null float64\n",
      "VehicleLocation.Longitude    1048575 non-null float64\n",
      "NextStopPointName            1047439 non-null object\n",
      "ArrivalProximityText         1047439 non-null object\n",
      "DistanceFromStop             1047439 non-null object\n",
      "ExpectedArrivalTime          931342 non-null object\n",
      "ScheduledArrivalTime         1022903 non-null object\n",
      "Unnamed: 17                  59 non-null object\n",
      "dtypes: float64(6), int64(1), object(11)\n",
      "memory usage: 144.0+ MB\n"
     ]
    }
   ],
   "source": [
    "df.info()"
   ]
  },
  {
   "cell_type": "markdown",
   "metadata": {
    "colab_type": "text",
    "id": "8jUuQQh3rmG-"
   },
   "source": [
    "\n",
    "\n",
    "---\n",
    "\n"
   ]
  },
  {
   "cell_type": "markdown",
   "metadata": {
    "colab_type": "text",
    "id": "hjjIBO05NgXL"
   },
   "source": [
    "**Nominal or Categorical Datatype Example**"
   ]
  },
  {
   "cell_type": "code",
   "execution_count": 97,
   "metadata": {
    "colab": {
     "base_uri": "https://localhost:8080/",
     "height": 34
    },
    "colab_type": "code",
    "id": "tcZx_C7PNQff",
    "outputId": "305fb32b-10e5-4c21-d40d-972db74c4e7e"
   },
   "outputs": [
    {
     "data": {
      "text/plain": [
       "array([0, 1], dtype=int64)"
      ]
     },
     "execution_count": 97,
     "metadata": {},
     "output_type": "execute_result"
    }
   ],
   "source": [
    "df.DirectionRef.unique()"
   ]
  },
  {
   "cell_type": "code",
   "execution_count": 98,
   "metadata": {
    "colab": {
     "base_uri": "https://localhost:8080/",
     "height": 290
    },
    "colab_type": "code",
    "id": "3hEQ1THSN8x5",
    "outputId": "b6b79fda-c127-461a-dd02-05136cde2e5d"
   },
   "outputs": [
    {
     "data": {
      "image/png": "[encoded data removed]",
      "text/plain": [
       "<Figure size 432x288 with 1 Axes>"
      ]
     },
     "metadata": {
      "needs_background": "light"
     },
     "output_type": "display_data"
    }
   ],
   "source": [
    "sns.countplot(x='DirectionRef', data=df)\n",
    "plt.show()"
   ]
  },
  {
   "cell_type": "markdown",
   "metadata": {
    "colab_type": "text",
    "id": "YxX-FSiVrp-z"
   },
   "source": [
    "\n",
    "\n",
    "---\n",
    "\n"
   ]
  },
  {
   "cell_type": "markdown",
   "metadata": {
    "colab_type": "text",
    "id": "f6mx_IkROjWx"
   },
   "source": [
    "**Measures of Central Tendency**"
   ]
  },
  {
   "cell_type": "markdown",
   "metadata": {
    "colab_type": "text",
    "id": "lMtqzfyCWvG8"
   },
   "source": [
    "**Mean** of every numeric column(interval and ratio type data) present in the dataset"
   ]
  },
  {
   "cell_type": "code",
   "execution_count": 99,
   "metadata": {
    "colab": {
     "base_uri": "https://localhost:8080/",
     "height": 153
    },
    "colab_type": "code",
    "id": "zBEhCkqkOMtn",
    "outputId": "b2a99d2f-f9b1-4f97-90df-82d81e44edb4"
   },
   "outputs": [
    {
     "name": "stdout",
     "output_type": "stream",
     "text": [
      "OriginLat                    40.729366\n",
      "OriginLong                  -73.931039\n",
      "DestinationLat               40.728410\n",
      "DestinationLong             -73.931583\n",
      "VehicleLocation.Latitude     40.728354\n",
      "VehicleLocation.Longitude   -73.930704\n",
      "dtype: float64\n"
     ]
    }
   ],
   "source": [
    "colMeans = df.drop('DirectionRef', axis=1).mean(axis=0, numeric_only=True)\n",
    "print(colMeans)"
   ]
  },
  {
   "cell_type": "markdown",
   "metadata": {
    "colab_type": "text",
    "id": "61zoR112sdoQ"
   },
   "source": [
    "\n",
    "\n",
    "---\n",
    "\n"
   ]
  },
  {
   "cell_type": "markdown",
   "metadata": {
    "colab_type": "text",
    "id": "BPx6UPwlnvse"
   },
   "source": [
    "**Median** of every numeric column(interval and ratio type data) present in the dataset"
   ]
  },
  {
   "cell_type": "code",
   "execution_count": 100,
   "metadata": {
    "colab": {
     "base_uri": "https://localhost:8080/",
     "height": 153
    },
    "colab_type": "code",
    "id": "5y5_RspOnuOO",
    "outputId": "def3560f-7320-4949-b624-7274aab9585c"
   },
   "outputs": [
    {
     "name": "stdout",
     "output_type": "stream",
     "text": [
      "OriginLat                    40.715233\n",
      "OriginLong                  -73.932449\n",
      "DestinationLat               40.713356\n",
      "DestinationLong             -73.932266\n",
      "VehicleLocation.Latitude     40.722418\n",
      "VehicleLocation.Longitude   -73.936326\n",
      "dtype: float64\n"
     ]
    }
   ],
   "source": [
    "colMedians = df.drop('DirectionRef', axis=1).median(axis=0, numeric_only=True)\n",
    "print(colMedians)"
   ]
  },
  {
   "cell_type": "markdown",
   "metadata": {
    "colab_type": "text",
    "id": "81yQhwscshrV"
   },
   "source": [
    "\n",
    "\n",
    "---\n",
    "\n"
   ]
  },
  {
   "cell_type": "markdown",
   "metadata": {
    "colab_type": "text",
    "id": "2fWpn4qNPtf_"
   },
   "source": [
    "**Using Mean and Median**"
   ]
  },
  {
   "cell_type": "markdown",
   "metadata": {
    "colab_type": "text",
    "id": "v4Y77SV_Xwx5"
   },
   "source": [
    "To find the location which is equidistant from all the bus stops"
   ]
  },
  {
   "cell_type": "code",
   "execution_count": 101,
   "metadata": {
    "colab": {
     "base_uri": "https://localhost:8080/",
     "height": 34
    },
    "colab_type": "code",
    "id": "DftFj725Qfi-",
    "outputId": "d720590b-7b4f-434e-eea6-a78e1594bd2d"
   },
   "outputs": [
    {
     "name": "stdout",
     "output_type": "stream",
     "text": [
      "Location Equidistant from all bus stops: 40.7178038962956 N, 73.9382220213454 W\n"
     ]
    }
   ],
   "source": [
    "from math import cos, sin, radians, atan2, sqrt, degrees, pi\n",
    "\n",
    "pos = pd.DataFrame()\n",
    "\n",
    "pos[\"Lat\"] = np.hstack((df.OriginLat.dropna(), df.DestinationLat.dropna()))\n",
    "pos[\"Lat\"] = pos.Lat.apply(radians)\n",
    "\n",
    "pos[\"Lon\"] = np.hstack((df.OriginLong.dropna(), df.DestinationLong.dropna()))\n",
    "pos[\"Lon\"] = pos.Lon.apply(radians)\n",
    "\n",
    "pos = pos.drop_duplicates()\n",
    "\n",
    "pos[\"X\"] = np.vectorize(lambda lat, lon: cos(lat)*cos(lon))(pos[\"Lat\"], pos[\"Lon\"])\n",
    "pos[\"Y\"] = np.vectorize(lambda lat, lon: cos(lat)*sin(lon))(pos[\"Lat\"], pos[\"Lon\"])\n",
    "pos[\"Z\"] = np.vectorize(sin)(pos[\"Lat\"])\n",
    "\n",
    "x = pos.X.mean() # pos.X.median()\n",
    "y = pos.Y.mean() # pos.Y.median()\n",
    "z = pos.Z.mean() # pos.Z.median()\n",
    "\n",
    "Center_Lon = atan2(y, x)\n",
    "Hyp = sqrt(x*x + y*y)\n",
    "Center_Lat = atan2(z, Hyp)\n",
    "\n",
    "print(f\"Location Equidistant from all bus stops: {degrees(Center_Lat)} N, {-1*degrees(Center_Lon)} W\")"
   ]
  },
  {
   "cell_type": "markdown",
   "metadata": {
    "colab_type": "text",
    "id": "wWtmAaozoqAD"
   },
   "source": [
    "The above location remains the same for both **mean** and **median** values"
   ]
  },
  {
   "cell_type": "markdown",
   "metadata": {
    "colab_type": "text",
    "id": "0lP7wlDKsk3f"
   },
   "source": [
    "\n",
    "\n",
    "---\n",
    "\n"
   ]
  },
  {
   "cell_type": "markdown",
   "metadata": {
    "colab_type": "text",
    "id": "NvOc8UgrX_K0"
   },
   "source": [
    "To locate the above found location on the map"
   ]
  },
  {
   "cell_type": "code",
   "execution_count": 102,
   "metadata": {
    "colab": {
     "base_uri": "https://localhost:8080/",
     "height": 17,
     "referenced_widgets": [
      "7f81f29b09e848128139c068b379c0a2"
     ]
    },
    "colab_type": "code",
    "id": "xs6svYwLRj0o",
    "outputId": "79aefdb4-80a4-40fe-bad1-edc4fb4a7270"
   },
   "outputs": [
    {
     "data": {
      "application/vnd.jupyter.widget-view+json": {
       "model_id": "23528096b29d40afb2ea5fb77bf355ec",
       "version_major": 2,
       "version_minor": 0
      },
      "text/plain": [
       "Map(center=[40.7178038962956, -73.9382220213454], controls=(ZoomControl(options=['position', 'zoom_in_text', '…"
      ]
     },
     "metadata": {},
     "output_type": "display_data"
    }
   ],
   "source": [
    "center = (degrees(Center_Lat),degrees(Center_Lon))\n",
    "\n",
    "m = Map(center=center, zoom=10)\n",
    "\n",
    "icon1 = AwesomeIcon(\n",
    "    name='bus',\n",
    "    marker_color='red',\n",
    "    icon_color='white',\n",
    "    spin=False\n",
    ")\n",
    "marker = Marker(location=center, draggable=False, icon=icon1)\n",
    "\n",
    "\n",
    "icon2 = AwesomeIcon(\n",
    "    name='bus',\n",
    "    marker_color='green',\n",
    "    icon_color='white',\n",
    "    spin=False\n",
    ")\n",
    "\n",
    "markers=list()\n",
    "markers = ( Marker(location=(degrees(i[0]), degrees(i[1])), draggable=False, icon=icon2) for i in np.array(pos) )\n",
    "\n",
    "marker_cluster = MarkerCluster( markers=tuple(markers) )\n",
    "\n",
    "m.add_layer(marker)\n",
    "m.add_layer(marker_cluster)\n",
    "\n",
    "display(m)"
   ]
  },
  {
   "cell_type": "markdown",
   "metadata": {
    "colab_type": "text",
    "id": "_kAoRWP0sra6"
   },
   "source": [
    "\n",
    "\n",
    "---\n",
    "\n"
   ]
  },
  {
   "cell_type": "markdown",
   "metadata": {
    "colab_type": "text",
    "id": "jm-v2lOfYKIK"
   },
   "source": [
    "**Mode** of every column present in the dataset(Nominal, interval and ratio type data)"
   ]
  },
  {
   "cell_type": "code",
   "execution_count": 103,
   "metadata": {
    "colab": {},
    "colab_type": "code",
    "id": "-Qr213DYUZEU"
   },
   "outputs": [
    {
     "data": {
      "text/html": [
       "<div>\n",
       "<style scoped>\n",
       "    .dataframe tbody tr th:only-of-type {\n",
       "        vertical-align: middle;\n",
       "    }\n",
       "\n",
       "    .dataframe tbody tr th {\n",
       "        vertical-align: top;\n",
       "    }\n",
       "\n",
       "    .dataframe thead th {\n",
       "        text-align: right;\n",
       "    }\n",
       "</style>\n",
       "<table border=\"1\" class=\"dataframe\">\n",
       "  <thead>\n",
       "    <tr style=\"text-align: right;\">\n",
       "      <th></th>\n",
       "      <th>RecordedAtTime</th>\n",
       "      <th>DirectionRef</th>\n",
       "      <th>PublishedLineName</th>\n",
       "      <th>OriginName</th>\n",
       "      <th>OriginLat</th>\n",
       "      <th>OriginLong</th>\n",
       "      <th>DestinationName</th>\n",
       "      <th>DestinationLat</th>\n",
       "      <th>DestinationLong</th>\n",
       "      <th>VehicleRef</th>\n",
       "      <th>VehicleLocation.Latitude</th>\n",
       "      <th>VehicleLocation.Longitude</th>\n",
       "      <th>NextStopPointName</th>\n",
       "      <th>ArrivalProximityText</th>\n",
       "      <th>DistanceFromStop</th>\n",
       "      <th>ExpectedArrivalTime</th>\n",
       "      <th>ScheduledArrivalTime</th>\n",
       "      <th>Unnamed: 17</th>\n",
       "    </tr>\n",
       "  </thead>\n",
       "  <tbody>\n",
       "    <tr>\n",
       "      <th>0</th>\n",
       "      <td>05-06-2017 08:00</td>\n",
       "      <td>1.0</td>\n",
       "      <td>B6</td>\n",
       "      <td>E 126 ST/2 AV</td>\n",
       "      <td>40.704906</td>\n",
       "      <td>-73.793304</td>\n",
       "      <td>WASHINGTON HTS GW BRIDGE</td>\n",
       "      <td>40.704933</td>\n",
       "      <td>-73.79332</td>\n",
       "      <td>NYCT_5852</td>\n",
       "      <td>40.714687</td>\n",
       "      <td>-73.831286</td>\n",
       "      <td>W 181 ST/AMSTERDAM AV</td>\n",
       "      <td>approaching</td>\n",
       "      <td>0</td>\n",
       "      <td>02-06-2017 07:46</td>\n",
       "      <td>08:17:00</td>\n",
       "      <td>08:47:50</td>\n",
       "    </tr>\n",
       "    <tr>\n",
       "      <th>1</th>\n",
       "      <td>NaN</td>\n",
       "      <td>NaN</td>\n",
       "      <td>NaN</td>\n",
       "      <td>NaN</td>\n",
       "      <td>NaN</td>\n",
       "      <td>NaN</td>\n",
       "      <td>NaN</td>\n",
       "      <td>NaN</td>\n",
       "      <td>NaN</td>\n",
       "      <td>NaN</td>\n",
       "      <td>NaN</td>\n",
       "      <td>NaN</td>\n",
       "      <td>NaN</td>\n",
       "      <td>NaN</td>\n",
       "      <td>NaN</td>\n",
       "      <td>NaN</td>\n",
       "      <td>NaN</td>\n",
       "      <td>12:46:08</td>\n",
       "    </tr>\n",
       "    <tr>\n",
       "      <th>2</th>\n",
       "      <td>NaN</td>\n",
       "      <td>NaN</td>\n",
       "      <td>NaN</td>\n",
       "      <td>NaN</td>\n",
       "      <td>NaN</td>\n",
       "      <td>NaN</td>\n",
       "      <td>NaN</td>\n",
       "      <td>NaN</td>\n",
       "      <td>NaN</td>\n",
       "      <td>NaN</td>\n",
       "      <td>NaN</td>\n",
       "      <td>NaN</td>\n",
       "      <td>NaN</td>\n",
       "      <td>NaN</td>\n",
       "      <td>NaN</td>\n",
       "      <td>NaN</td>\n",
       "      <td>NaN</td>\n",
       "      <td>17:07:08</td>\n",
       "    </tr>\n",
       "  </tbody>\n",
       "</table>\n",
       "</div>"
      ],
      "text/plain": [
       "     RecordedAtTime  DirectionRef PublishedLineName     OriginName  OriginLat  \\\n",
       "0  05-06-2017 08:00           1.0                B6  E 126 ST/2 AV  40.704906   \n",
       "1               NaN           NaN               NaN            NaN        NaN   \n",
       "2               NaN           NaN               NaN            NaN        NaN   \n",
       "\n",
       "   OriginLong           DestinationName  DestinationLat  DestinationLong  \\\n",
       "0  -73.793304  WASHINGTON HTS GW BRIDGE       40.704933        -73.79332   \n",
       "1         NaN                       NaN             NaN              NaN   \n",
       "2         NaN                       NaN             NaN              NaN   \n",
       "\n",
       "  VehicleRef  VehicleLocation.Latitude  VehicleLocation.Longitude  \\\n",
       "0  NYCT_5852                 40.714687                 -73.831286   \n",
       "1        NaN                       NaN                        NaN   \n",
       "2        NaN                       NaN                        NaN   \n",
       "\n",
       "       NextStopPointName ArrivalProximityText DistanceFromStop  \\\n",
       "0  W 181 ST/AMSTERDAM AV          approaching                0   \n",
       "1                    NaN                  NaN              NaN   \n",
       "2                    NaN                  NaN              NaN   \n",
       "\n",
       "  ExpectedArrivalTime ScheduledArrivalTime Unnamed: 17  \n",
       "0    02-06-2017 07:46             08:17:00    08:47:50  \n",
       "1                 NaN                  NaN    12:46:08  \n",
       "2                 NaN                  NaN    17:07:08  "
      ]
     },
     "execution_count": 103,
     "metadata": {},
     "output_type": "execute_result"
    }
   ],
   "source": [
    "colModes = df.mode(axis=0)\n",
    "colModes.head()"
   ]
  },
  {
   "cell_type": "markdown",
   "metadata": {
    "colab_type": "text",
    "id": "tinLknFOsxw_"
   },
   "source": [
    "\n",
    "\n",
    "---\n",
    "\n"
   ]
  },
  {
   "cell_type": "markdown",
   "metadata": {
    "colab_type": "text",
    "id": "sy2S9q70YcM6"
   },
   "source": [
    "**Using Mode**"
   ]
  },
  {
   "cell_type": "markdown",
   "metadata": {
    "colab_type": "text",
    "id": "Eo1kF9x6L1Qm"
   },
   "source": [
    "To find Common Initial(origin) and Final(destination) Stops with respect to directionRef(0 or 1)."
   ]
  },
  {
   "cell_type": "code",
   "execution_count": 104,
   "metadata": {
    "colab": {
     "base_uri": "https://localhost:8080/",
     "height": 153
    },
    "colab_type": "code",
    "id": "68Z8tX2NuFuh",
    "outputId": "4d267a45-ac6a-44de-d902-e09853a06814"
   },
   "outputs": [
    {
     "name": "stdout",
     "output_type": "stream",
     "text": [
      "Common Origins:\n",
      "\tDir-0: MERRICK BL/ARCHER AV\n",
      "\tDir-1: E 126 ST/2 AV\n",
      "\n",
      "Common Destinations:\n",
      "\tDir-0: ST GEORGE FERRY\n",
      "\tDir-1: WASHINGTON HTS GW BRIDGE\n",
      "\n"
     ]
    }
   ],
   "source": [
    "origins = [\n",
    "    df[df.DirectionRef==i]['OriginName'].value_counts().idxmax() \n",
    "    for i in df.DirectionRef.unique()\n",
    "]\n",
    "print(f\"Common Origins:\\n\\tDir-0: {origins[0]}\\n\\tDir-1: {origins[1]}\\n\")\n",
    "\n",
    "destinations = [\n",
    "    df[df.DirectionRef==i]['DestinationName'].value_counts().idxmax() \n",
    "    for i in df.DirectionRef.unique()\n",
    "]\n",
    "print(f\"Common Destinations:\\n\\tDir-0: {destinations[0]}\\n\\tDir-1: {destinations[1]}\\n\")"
   ]
  },
  {
   "cell_type": "markdown",
   "metadata": {
    "colab_type": "text",
    "id": "cfK_S9pFs17X"
   },
   "source": [
    "\n",
    "\n",
    "---\n",
    "\n"
   ]
  },
  {
   "cell_type": "markdown",
   "metadata": {
    "colab_type": "text",
    "id": "56t6OsTdNAzO"
   },
   "source": [
    "To find the most frequent paths from those Initial Stops(origins)"
   ]
  },
  {
   "cell_type": "code",
   "execution_count": 105,
   "metadata": {
    "colab": {
     "base_uri": "https://localhost:8080/",
     "height": 221
    },
    "colab_type": "code",
    "id": "CDbXHhkpua7G",
    "outputId": "8a267cb1-0b89-4cb5-b9a7-e0e37aa537bf"
   },
   "outputs": [
    {
     "name": "stdout",
     "output_type": "stream",
     "text": [
      "Most Common Paths from Common Origins:\n",
      "\n",
      "\tDirection Reference: 0\n",
      "\tFrom: MERRICK BL/ARCHER AV\n",
      "\tTo: SELECT BUS BRONX ZOO via MAIN ST\n",
      "\tNo of Trips: 6303 \n",
      "\n",
      "\tDirection Reference: 1\n",
      "\tFrom: E 126 ST/2 AV\n",
      "\tTo: SELECT BUS SERVICE SOUTH FERRY via 2 AV\n",
      "\tNo of Trips: 7646 \n",
      "\n"
     ]
    }
   ],
   "source": [
    "paths_from_origins = list( map( lambda x : \n",
    "                               [ \n",
    "                                   x,\n",
    "                                   df[ df.OriginName == x ][ \"DestinationName\" ].value_counts().idxmax(),\n",
    "                                   df[ df.OriginName == x ][ \"DestinationName\" ].value_counts()[0]\n",
    "                               ],\n",
    "                               origins\n",
    "                              )\n",
    "                         )\n",
    "print(\"Most Common Paths from Common Origins:\\n\")\n",
    "k=0\n",
    "for i in paths_from_origins:\n",
    "    print(\"\\tDirection Reference:\", k)\n",
    "    k+=1\n",
    "    print(\"\\tFrom:\", i[0])\n",
    "    print(\"\\tTo:\", i[1])\n",
    "    print(\"\\tNo of Trips:\", i[2],\"\\n\")"
   ]
  },
  {
   "cell_type": "markdown",
   "metadata": {
    "colab_type": "text",
    "id": "R1-vywDzs6Ys"
   },
   "source": [
    "\n",
    "\n",
    "---\n",
    "\n"
   ]
  },
  {
   "cell_type": "markdown",
   "metadata": {
    "colab_type": "text",
    "id": "mFkDxfluNXF2"
   },
   "source": [
    "To find the most frequent paths to those Final Stops(destinations)"
   ]
  },
  {
   "cell_type": "code",
   "execution_count": 106,
   "metadata": {
    "colab": {
     "base_uri": "https://localhost:8080/",
     "height": 238
    },
    "colab_type": "code",
    "id": "q5Dh9B8PuoES",
    "outputId": "90bb3eb5-ea0d-4ccb-b35b-885803cf6d2a"
   },
   "outputs": [
    {
     "name": "stdout",
     "output_type": "stream",
     "text": [
      "\n",
      "Most Common Paths to Common Destination:\n",
      "\n",
      "\tDirection Reference: 0\n",
      "\tFrom: ST GEORGE FERRY\n",
      "\tTo: YUKON AV/KMART DWY\n",
      "\tNo of Trips: 3498 \n",
      "\n",
      "\tDirection Reference: 1\n",
      "\tFrom: WASHINGTON HTS GW BRIDGE\n",
      "\tTo: RANDALL AV/OLMSTEAD AV\n",
      "\tNo of Trips: 5215 \n",
      "\n"
     ]
    }
   ],
   "source": [
    "paths_to_destinations = list( map( lambda x : \n",
    "                               [ \n",
    "                                   x,\n",
    "                                   df[ df.DestinationName == x ][ \"OriginName\" ].value_counts().idxmax(),\n",
    "                                   df[ df.DestinationName == x ][ \"OriginName\" ].value_counts()[0]\n",
    "                               ],\n",
    "                               destinations\n",
    "                              )\n",
    "                         )\n",
    "\n",
    "print(\"\\nMost Common Paths to Common Destination:\\n\")\n",
    "k=0\n",
    "for i in paths_to_destinations:\n",
    "    print(\"\\tDirection Reference:\", k)\n",
    "    k+=1\n",
    "    print(\"\\tFrom:\", i[0])\n",
    "    print(\"\\tTo:\", i[1])\n",
    "    print(\"\\tNo of Trips:\", i[2],\"\\n\")"
   ]
  },
  {
   "cell_type": "markdown",
   "metadata": {
    "colab_type": "text",
    "id": "jjqbJK8ys8Pu"
   },
   "source": [
    "\n",
    "\n",
    "---\n",
    "\n"
   ]
  },
  {
   "cell_type": "markdown",
   "metadata": {
    "colab_type": "text",
    "id": "b9WWLpnwNf11"
   },
   "source": [
    "To find the number of buses from the above initial stops to the final stops"
   ]
  },
  {
   "cell_type": "code",
   "execution_count": 107,
   "metadata": {
    "colab": {},
    "colab_type": "code",
    "id": "DTuKLGHtut8f"
   },
   "outputs": [],
   "source": [
    "ini_stop_0 = df[df[\"DirectionRef\"]==0]['OriginName'].mode().get(0)\n",
    "ini_stop_1 = df[df[\"DirectionRef\"]==1]['OriginName'].mode().get(0)\n",
    "fin_stop_1 = df[df[\"DirectionRef\"]==1]['DestinationName'].mode().get(0)\n",
    "fin_stop_0 = df[df[\"DirectionRef\"]==0]['DestinationName'].mode().get(0)"
   ]
  },
  {
   "cell_type": "markdown",
   "metadata": {
    "colab_type": "text",
    "id": "_CP72mUGtSWz"
   },
   "source": [
    "The most frequent path with DirectionRef = 0"
   ]
  },
  {
   "cell_type": "code",
   "execution_count": 108,
   "metadata": {
    "colab": {
     "base_uri": "https://localhost:8080/",
     "height": 114
    },
    "colab_type": "code",
    "id": "IFcB-jwgu_aI",
    "outputId": "703f66b4-3b2d-4f80-eded-fbb2185d7532"
   },
   "outputs": [
    {
     "name": "stderr",
     "output_type": "stream",
     "text": [
      "C:\\Users\\Anurag\\AppData\\Local\\conda\\conda\\envs\\apidb\\lib\\site-packages\\ipykernel_launcher.py:1: UserWarning: Boolean Series key will be reindexed to match DataFrame index.\n",
      "  \"\"\"Entry point for launching an IPython kernel.\n"
     ]
    },
    {
     "data": {
      "text/html": [
       "<div>\n",
       "<style scoped>\n",
       "    .dataframe tbody tr th:only-of-type {\n",
       "        vertical-align: middle;\n",
       "    }\n",
       "\n",
       "    .dataframe tbody tr th {\n",
       "        vertical-align: top;\n",
       "    }\n",
       "\n",
       "    .dataframe thead th {\n",
       "        text-align: right;\n",
       "    }\n",
       "</style>\n",
       "<table border=\"1\" class=\"dataframe\">\n",
       "  <thead>\n",
       "    <tr style=\"text-align: right;\">\n",
       "      <th></th>\n",
       "      <th>OriginName</th>\n",
       "      <th>DestinationName</th>\n",
       "    </tr>\n",
       "  </thead>\n",
       "  <tbody>\n",
       "    <tr>\n",
       "      <th>0</th>\n",
       "      <td>MERRICK BL/ARCHER AV</td>\n",
       "      <td>SELECT BUS BRONX ZOO via MAIN ST</td>\n",
       "    </tr>\n",
       "  </tbody>\n",
       "</table>\n",
       "</div>"
      ],
      "text/plain": [
       "             OriginName                   DestinationName\n",
       "0  MERRICK BL/ARCHER AV  SELECT BUS BRONX ZOO via MAIN ST"
      ]
     },
     "execution_count": 108,
     "metadata": {},
     "output_type": "execute_result"
    }
   ],
   "source": [
    "(df[df[\"DirectionRef\"]==0][df['OriginName']==ini_stop_0].mode())[[\"OriginName\", \"DestinationName\"]]"
   ]
  },
  {
   "cell_type": "markdown",
   "metadata": {
    "colab_type": "text",
    "id": "2wlPZg3rtgI3"
   },
   "source": [
    "The most frequent path with DirectionRef = 1"
   ]
  },
  {
   "cell_type": "code",
   "execution_count": 109,
   "metadata": {
    "colab": {
     "base_uri": "https://localhost:8080/",
     "height": 114
    },
    "colab_type": "code",
    "id": "BaaONoAzvG42",
    "outputId": "d347dd96-c06f-4272-8d0e-33be7bb12564"
   },
   "outputs": [
    {
     "name": "stderr",
     "output_type": "stream",
     "text": [
      "C:\\Users\\Anurag\\AppData\\Local\\conda\\conda\\envs\\apidb\\lib\\site-packages\\ipykernel_launcher.py:1: UserWarning: Boolean Series key will be reindexed to match DataFrame index.\n",
      "  \"\"\"Entry point for launching an IPython kernel.\n"
     ]
    },
    {
     "data": {
      "text/html": [
       "<div>\n",
       "<style scoped>\n",
       "    .dataframe tbody tr th:only-of-type {\n",
       "        vertical-align: middle;\n",
       "    }\n",
       "\n",
       "    .dataframe tbody tr th {\n",
       "        vertical-align: top;\n",
       "    }\n",
       "\n",
       "    .dataframe thead th {\n",
       "        text-align: right;\n",
       "    }\n",
       "</style>\n",
       "<table border=\"1\" class=\"dataframe\">\n",
       "  <thead>\n",
       "    <tr style=\"text-align: right;\">\n",
       "      <th></th>\n",
       "      <th>OriginName</th>\n",
       "      <th>DestinationName</th>\n",
       "    </tr>\n",
       "  </thead>\n",
       "  <tbody>\n",
       "    <tr>\n",
       "      <th>0</th>\n",
       "      <td>E 126 ST/2 AV</td>\n",
       "      <td>SELECT BUS SERVICE SOUTH FERRY via 2 AV</td>\n",
       "    </tr>\n",
       "  </tbody>\n",
       "</table>\n",
       "</div>"
      ],
      "text/plain": [
       "      OriginName                          DestinationName\n",
       "0  E 126 ST/2 AV  SELECT BUS SERVICE SOUTH FERRY via 2 AV"
      ]
     },
     "execution_count": 109,
     "metadata": {},
     "output_type": "execute_result"
    }
   ],
   "source": [
    "(df[df[\"DirectionRef\"]==1][df['OriginName']==ini_stop_1].mode())[[\"OriginName\", \"DestinationName\"]]"
   ]
  },
  {
   "cell_type": "markdown",
   "metadata": {
    "colab_type": "text",
    "id": "XzwUC5bEtp8q"
   },
   "source": [
    "To find the number of buses for the above paths"
   ]
  },
  {
   "cell_type": "code",
   "execution_count": 110,
   "metadata": {
    "colab": {
     "base_uri": "https://localhost:8080/",
     "height": 204
    },
    "colab_type": "code",
    "id": "xfbQC8OtvNRn",
    "outputId": "a5febaaa-fca4-41ff-dcad-3ef404718695"
   },
   "outputs": [
    {
     "name": "stderr",
     "output_type": "stream",
     "text": [
      "C:\\Users\\Anurag\\AppData\\Local\\conda\\conda\\envs\\apidb\\lib\\site-packages\\ipykernel_launcher.py:1: UserWarning: Boolean Series key will be reindexed to match DataFrame index.\n",
      "  \"\"\"Entry point for launching an IPython kernel.\n"
     ]
    },
    {
     "name": "stdout",
     "output_type": "stream",
     "text": [
      "OriginName         0\n",
      "DestinationName    0\n",
      "dtype: int64 \n",
      "\n",
      "OriginName         0\n",
      "DestinationName    0\n",
      "dtype: int64\n"
     ]
    },
    {
     "name": "stderr",
     "output_type": "stream",
     "text": [
      "C:\\Users\\Anurag\\AppData\\Local\\conda\\conda\\envs\\apidb\\lib\\site-packages\\ipykernel_launcher.py:2: UserWarning: Boolean Series key will be reindexed to match DataFrame index.\n",
      "  \n"
     ]
    }
   ],
   "source": [
    "print(df[df[\"DirectionRef\"]==0][df['OriginName']==ini_stop_0][[\"OriginName\", \"DestinationName\"]][df.DestinationName==fin_stop_0].count(),\"\\n\")\n",
    "print(df[df[\"DirectionRef\"]==0][df['OriginName']==ini_stop_0][[\"OriginName\", \"DestinationName\"]][df.DestinationName==fin_stop_1].count())"
   ]
  },
  {
   "cell_type": "markdown",
   "metadata": {
    "colab_type": "text",
    "id": "bXGp61NtN6WG"
   },
   "source": [
    "We find that there are no buses directly from those most frequent initial to final stops"
   ]
  },
  {
   "cell_type": "markdown",
   "metadata": {
    "colab_type": "text",
    "id": "fMdV9IVouTgs"
   },
   "source": [
    "\n",
    "\n",
    "---\n",
    "\n"
   ]
  },
  {
   "cell_type": "markdown",
   "metadata": {
    "colab_type": "text",
    "id": "Xrcs2FJXpYJi"
   },
   "source": [
    "From the above results, we also find that the central tendency measures(mean, median and mode) are the same for all the numeric columns(interval type data) except for the DistanceFromStop column(ratio type data)"
   ]
  },
  {
   "cell_type": "markdown",
   "metadata": {
    "colab_type": "text",
    "id": "Y55InuOEuZy1"
   },
   "source": [
    "\n",
    "\n",
    "---\n",
    "\n"
   ]
  },
  {
   "cell_type": "markdown",
   "metadata": {
    "colab_type": "text",
    "id": "lptPtrgwuik3"
   },
   "source": [
    "**Distribution Type**"
   ]
  },
  {
   "cell_type": "markdown",
   "metadata": {
    "colab_type": "text",
    "id": "WclTXc-kutrp"
   },
   "source": [
    "To identify the distribution type of data using visualizations like histograms, box-plot, kernel density estimation(kdeplot) and Quantile-Quantile(qqplot)."
   ]
  },
  {
   "cell_type": "markdown",
   "metadata": {
    "colab_type": "text",
    "id": "0eFKvDTkvY2m"
   },
   "source": [
    "\n",
    "\n",
    "*   Origin Latitude column\n"
   ]
  },
  {
   "cell_type": "code",
   "execution_count": 111,
   "metadata": {
    "colab": {
     "base_uri": "https://localhost:8080/",
     "height": 621
    },
    "colab_type": "code",
    "id": "x6kOIO1Mvuet",
    "outputId": "b65d76b5-0ad3-49fb-96cf-8be1a2c65cf2"
   },
   "outputs": [
    {
     "data": {
      "image/png": "[encoded data removed]",
      "text/plain": [
       "<Figure size 1080x720 with 4 Axes>"
      ]
     },
     "metadata": {
      "needs_background": "light"
     },
     "output_type": "display_data"
    }
   ],
   "source": [
    "fig, a = plt.subplots(2, 2, figsize = (15, 10))\n",
    "\n",
    "a[0][0].hist(df['OriginLat'].dropna(), bins=50, color=\"skyblue\")\n",
    "a[0][0].set_title('OriginLat histogram')\n",
    "\n",
    "sns.kdeplot(df['OriginLat'].dropna(), bw=0.019, shade='blue', ax=a[0][1])\n",
    "a[0][1].set_title('OriginLat probability dist')\n",
    "\n",
    "sns.boxplot(x=df['OriginLat'].dropna(), ax=a[1][0], color=\"skyblue\")\n",
    "a[1][0].set_title('OriginLat box plot')\n",
    "\n",
    "qqplot(df['OriginLat'].dropna(), line='s', ax=a[1][1])\n",
    "a[1][1].set_title('Normal dist. test using QQ Plot')\n",
    "\n",
    "plt.show()"
   ]
  },
  {
   "cell_type": "markdown",
   "metadata": {
    "colab_type": "text",
    "id": "rA562pGPvvcb"
   },
   "source": [
    "\n",
    "\n",
    "*   Origin Longitude column\n",
    "\n"
   ]
  },
  {
   "cell_type": "code",
   "execution_count": 112,
   "metadata": {
    "colab": {
     "base_uri": "https://localhost:8080/",
     "height": 621
    },
    "colab_type": "code",
    "id": "e16SMPUtHQvC",
    "outputId": "dbfa3186-006c-46e3-a8e9-261acc6f8103"
   },
   "outputs": [
    {
     "data": {
      "image/png": "[encoded data removed]",
      "text/plain": [
       "<Figure size 1080x720 with 4 Axes>"
      ]
     },
     "metadata": {
      "needs_background": "light"
     },
     "output_type": "display_data"
    }
   ],
   "source": [
    "fig, a = plt.subplots(2, 2, figsize = (15, 10))\n",
    "\n",
    "a[0][0].hist(df['OriginLong'].dropna(), bins=50, color='skyblue')\n",
    "a[0][0].set_title('OriginLong histogram')\n",
    "\n",
    "sns.kdeplot(df['OriginLong'].dropna(), bw=0.019, shade='blue', ax=a[0][1])\n",
    "a[0][1].set_title('OriginLong probability dist')\n",
    "\n",
    "sns.boxplot(x=df['OriginLong'].dropna(), color='skyblue', ax=a[1][0])\n",
    "a[1][0].set_title('OriginLong box plot')\n",
    "\n",
    "qqplot(df['OriginLong'].dropna(), line='s', ax=a[1][1])\n",
    "a[1][1].set_title('Normal dist. test using QQ Plot')\n",
    "\n",
    "plt.show()"
   ]
  },
  {
   "cell_type": "markdown",
   "metadata": {
    "colab_type": "text",
    "id": "Yk7gQV12v7LQ"
   },
   "source": [
    "\n",
    "\n",
    "*   Destination Latitude column\n",
    "\n"
   ]
  },
  {
   "cell_type": "code",
   "execution_count": 113,
   "metadata": {
    "colab": {
     "base_uri": "https://localhost:8080/",
     "height": 621
    },
    "colab_type": "code",
    "id": "BIgmxVnXwQx-",
    "outputId": "028cb535-94f4-4ca9-a520-36cbf61c2387"
   },
   "outputs": [
    {
     "data": {
      "image/png": "[encoded data removed]",
      "text/plain": [
       "<Figure size 1080x720 with 4 Axes>"
      ]
     },
     "metadata": {
      "needs_background": "light"
     },
     "output_type": "display_data"
    }
   ],
   "source": [
    "fig, a = plt.subplots(2, 2, figsize = (15, 10))\n",
    "\n",
    "a[0][0].hist(df['DestinationLat'].dropna(), bins=50, color='skyblue')\n",
    "a[0][0].set_title('DestinationLat histogram')\n",
    "\n",
    "sns.kdeplot(df['DestinationLat'].dropna(), bw=0.019, shade='blue', ax=a[0][1])\n",
    "a[0][1].set_title('DestinationLat probability dist')\n",
    "\n",
    "sns.boxplot(x=df['DestinationLat'].dropna(), color='skyblue', ax=a[1][0])\n",
    "a[1][0].set_title('DestinationLat box plot')\n",
    "\n",
    "qqplot(df['DestinationLat'].dropna(), line='s', ax=a[1][1])\n",
    "a[1][1].set_title('Normal dist. test using QQ Plot')\n",
    "\n",
    "plt.show()"
   ]
  },
  {
   "cell_type": "markdown",
   "metadata": {
    "colab_type": "text",
    "id": "gtNfWXhCwRf-"
   },
   "source": [
    "*   Destination Longitude column data\n",
    "\n"
   ]
  },
  {
   "cell_type": "code",
   "execution_count": 114,
   "metadata": {
    "colab": {
     "base_uri": "https://localhost:8080/",
     "height": 621
    },
    "colab_type": "code",
    "id": "lOwp7Bzuwb3c",
    "outputId": "97e6c9e6-10c5-4049-9cc2-988491a5d400"
   },
   "outputs": [
    {
     "data": {
      "image/png": "[encoded data removed]",
      "text/plain": [
       "<Figure size 1080x720 with 4 Axes>"
      ]
     },
     "metadata": {
      "needs_background": "light"
     },
     "output_type": "display_data"
    }
   ],
   "source": [
    "fig, a = plt.subplots(2, 2, figsize = (15, 10))\n",
    "\n",
    "a[0][0].hist(df['DestinationLong'].dropna(), bins=50, color='skyblue')\n",
    "a[0][0].set_title('DestinationLong histogram')\n",
    "\n",
    "sns.kdeplot(df['DestinationLong'].dropna(), bw=0.019, shade='blue', ax=a[0][1])\n",
    "a[0][1].set_title('DestinationLong probability dist')\n",
    "\n",
    "sns.boxplot(x=df['DestinationLong'].dropna(), color='skyblue', ax=a[1][0])\n",
    "a[1][0].set_title('DestinationLong box plot')\n",
    "\n",
    "qqplot(df['DestinationLong'].dropna(), line='s', ax=a[1][1])\n",
    "a[1][1].set_title('Normal dist. test using QQ Plot')\n",
    "\n",
    "plt.show()"
   ]
  },
  {
   "cell_type": "markdown",
   "metadata": {
    "colab_type": "text",
    "id": "SSl4eOkzwc7F"
   },
   "source": [
    "\n",
    "\n",
    "*   Vehicle Location Latitude column\n",
    "\n",
    "\n",
    "\n"
   ]
  },
  {
   "cell_type": "code",
   "execution_count": 115,
   "metadata": {
    "colab": {
     "base_uri": "https://localhost:8080/",
     "height": 621
    },
    "colab_type": "code",
    "id": "VnZTkTmxID9B",
    "outputId": "c96364dd-cebc-42b9-f37d-0166dc5b7001"
   },
   "outputs": [
    {
     "data": {
      "image/png": "[encoded data removed]",
      "text/plain": [
       "<Figure size 1080x720 with 4 Axes>"
      ]
     },
     "metadata": {
      "needs_background": "light"
     },
     "output_type": "display_data"
    }
   ],
   "source": [
    "fig, a = plt.subplots(2, 2, figsize = (15, 10))\n",
    "\n",
    "a[0][0].hist(df['VehicleLocation.Latitude'].dropna(), bins=50, color='skyblue')\n",
    "a[0][0].set_title('VehicleLocation.Latitude histogram')\n",
    "\n",
    "sns.kdeplot(df['VehicleLocation.Latitude'].dropna(), bw=0.019, shade='blue', ax=a[0][1])\n",
    "a[0][1].set_title('VehicleLocation.Latitude probability dist.')\n",
    "\n",
    "sns.boxplot(x=df['VehicleLocation.Latitude'].dropna(), color='skyblue', ax=a[1][0])\n",
    "a[1][0].set_title('VehicleLocation.Latitude box plot')\n",
    "\n",
    "qqplot(df['VehicleLocation.Latitude'].dropna(), line='s', ax=a[1][1])\n",
    "a[1][1].set_title('Normal dist. test using QQ Plot')\n",
    "\n",
    "plt.show()"
   ]
  },
  {
   "cell_type": "markdown",
   "metadata": {
    "colab_type": "text",
    "id": "uHy8xeOWw0-J"
   },
   "source": [
    "\n",
    "\n",
    "*   Vehicle Location Longitude column\n",
    "\n"
   ]
  },
  {
   "cell_type": "code",
   "execution_count": 116,
   "metadata": {
    "colab": {
     "base_uri": "https://localhost:8080/",
     "height": 621
    },
    "colab_type": "code",
    "id": "tyKkgXtZJACC",
    "outputId": "ced441c9-feff-41df-de69-56c5ed0ce5a0"
   },
   "outputs": [
    {
     "data": {
      "image/png": "[encoded data removed]",
      "text/plain": [
       "<Figure size 1080x720 with 4 Axes>"
      ]
     },
     "metadata": {
      "needs_background": "light"
     },
     "output_type": "display_data"
    }
   ],
   "source": [
    "fig, a = plt.subplots(2, 2, figsize = (15, 10))\n",
    "\n",
    "a[0][0].hist(df['VehicleLocation.Longitude'].dropna(), bins=50, color='skyblue')\n",
    "a[0][0].set_title('VehicleLocation.Longitude histogram')\n",
    "\n",
    "sns.kdeplot(df['VehicleLocation.Longitude'].dropna(), bw=0.019, shade='blue', ax=a[0][1])\n",
    "a[0][1].set_title('VehicleLocation.Longitude probability dist.')\n",
    "\n",
    "sns.boxplot(x=df['VehicleLocation.Longitude'].dropna(), color='skyblue', ax=a[1][0])\n",
    "a[1][0].set_title('VehicleLocation.Longitude box plot')\n",
    "\n",
    "qqplot(df['VehicleLocation.Longitude'].dropna(), line='s', ax=a[1][1])\n",
    "a[1][1].set_title('Normal dist. test using QQ Plot')\n",
    "\n",
    "plt.show()"
   ]
  },
  {
   "cell_type": "markdown",
   "metadata": {
    "colab_type": "text",
    "id": "qxQ-G6P2zAgW"
   },
   "source": [
    "The above plots show that, the data follows normal distribution although there is a slight deviation from the actual distribution owing to the presence of certain outliers and the fact that no real time data can be perfect. Adding to the above observations we've also pointed that the central tendency measures are all equal which is usually the case when the data follows a normal distribution."
   ]
  },
  {
   "cell_type": "markdown",
   "metadata": {
    "colab_type": "text",
    "id": "qbFZWl7U1uSG"
   },
   "source": [
    "\n",
    "\n",
    "---\n",
    "\n"
   ]
  },
  {
   "cell_type": "markdown",
   "metadata": {
    "colab_type": "text",
    "id": "4wdlda9A1wc1"
   },
   "source": [
    "\n",
    "\n",
    "*   Distance From Stop column\n",
    "\n"
   ]
  },
  {
   "cell_type": "code",
   "execution_count": 125,
   "metadata": {
    "colab": {
     "base_uri": "https://localhost:8080/",
     "height": 336
    },
    "colab_type": "code",
    "id": "QNDeJTEhfab1",
    "outputId": "b21284fc-5796-4fea-fcdd-2e425773723d"
   },
   "outputs": [],
   "source": [
    "# fig, a = plt.subplots(1, 2, figsize = (15, 5))\n",
    "\n",
    "# a[0].hist(df['DistanceFromStop'].dropna(), bins=50)\n",
    "# a[0].set_title('DistanceFromStop histogram')\n",
    "\n",
    "# sns.kdeplot(df['DistanceFromStop'].dropna(), bw=0.019, shade='blue', ax=a[1])\n",
    "# a[1].set_title('DistanceFromStop probability dist.')\n",
    "\n",
    "# plt.show()"
   ]
  },
  {
   "cell_type": "markdown",
   "metadata": {
    "colab_type": "text",
    "id": "v5bxmQQ52WwG"
   },
   "source": [
    "The above plots show that DistanceFromStop follows an exponential distribution because the number of buses reaching the intended stop grows exponentially."
   ]
  },
  {
   "cell_type": "markdown",
   "metadata": {
    "colab_type": "text",
    "id": "E_umG_CP4M46"
   },
   "source": [
    "\n",
    "\n",
    "---\n",
    "\n"
   ]
  }
 ],
 "metadata": {
  "colab": {
   "name": "NYCB.ipynb",
   "provenance": []
  },
  "kernelspec": {
   "display_name": "Python 3.7.7 64-bit ('apidb': conda)",
   "language": "python",
   "name": "python37764bitapidbconda623044128eac4f02836e3da4ec050c06"
  },
  "language_info": {
   "codemirror_mode": {
    "name": "ipython",
    "version": 3
   },
   "file_extension": ".py",
   "mimetype": "text/x-python",
   "name": "python",
   "nbconvert_exporter": "python",
   "pygments_lexer": "ipython3",
   "version": "3.7.7"
  },
  "widgets": {
   "application/vnd.jupyter.widget-state+json": {
    "7f81f29b09e848128139c068b379c0a2": {
     "model_module": "jupyter-leaflet",
     "model_name": "LeafletMapModel",
     "state": {
      "_dom_classes": [],
      "_model_module": "jupyter-leaflet",
      "_model_module_version": "^0.13.2",
      "_model_name": "LeafletMapModel",
      "_view_count": null,
      "_view_module": "jupyter-leaflet",
      "_view_module_version": "^0.13.2",
      "_view_name": "LeafletMapView",
      "bottom": 0,
      "bounce_at_zoom_limits": true,
      "box_zoom": true,
      "center": [
       40.72110900074779,
       -73.94301950727649
      ],
      "close_popup_on_click": true,
      "controls": [
       "IPY_MODEL_c642467972904b8d9966c18eba579524",
       "IPY_MODEL_ae867fd6ef0e4ee9a25a68001e1c0ace"
      ],
      "crs": {
       "custom": false,
       "name": "EPSG3857"
      },
      "default_style": "IPY_MODEL_d85ac080e17e45fdaa1f10c2a37c79b0",
      "double_click_zoom": true,
      "dragging": true,
      "dragging_style": "IPY_MODEL_26af7a786a654bac9f2914e86f00489b",
      "east": 0,
      "fullscreen": false,
      "inertia": true,
      "inertia_deceleration": 3000,
      "inertia_max_speed": 1500,
      "interpolation": "bilinear",
      "keyboard": true,
      "keyboard_pan_offset": 80,
      "keyboard_zoom_offset": 1,
      "layers": [
       "IPY_MODEL_7bf97de396ac453bb7d398a05fd401e1",
       "IPY_MODEL_9cf257c4f84d4124a5304e634c790196",
       "IPY_MODEL_36965814c5ac462d9c918f9e721da648"
      ],
      "layout": "IPY_MODEL_f6edd7fd35d74d7a9a58ca4042080e77",
      "left": 9007199254740991,
      "max_zoom": 18,
      "min_zoom": 1,
      "modisdate": "yesterday",
      "north": 0,
      "options": [
       "bounce_at_zoom_limits",
       "box_zoom",
       "center",
       "close_popup_on_click",
       "double_click_zoom",
       "dragging",
       "fullscreen",
       "inertia",
       "inertia_deceleration",
       "inertia_max_speed",
       "interpolation",
       "keyboard",
       "keyboard_pan_offset",
       "keyboard_zoom_offset",
       "max_zoom",
       "min_zoom",
       "scroll_wheel_zoom",
       "tap",
       "tap_tolerance",
       "touch_zoom",
       "world_copy_jump",
       "zoom",
       "zoom_animation_threshold",
       "zoom_delta",
       "zoom_snap",
       "zoom_start"
      ],
      "right": 0,
      "scroll_wheel_zoom": false,
      "south": 0,
      "style": "IPY_MODEL_2e77d37941c74497a888eff6216b84ff",
      "tap": true,
      "tap_tolerance": 15,
      "top": 9007199254740991,
      "touch_zoom": true,
      "west": 0,
      "window_url": "",
      "world_copy_jump": false,
      "zoom": 10,
      "zoom_animation_threshold": 4,
      "zoom_delta": 1,
      "zoom_snap": 1,
      "zoom_start": 12
     }
    }
   }
  }
 },
 "nbformat": 4,
 "nbformat_minor": 2
}
